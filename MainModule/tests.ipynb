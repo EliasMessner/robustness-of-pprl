{
 "cells": [
  {
   "cell_type": "code",
   "execution_count": 67,
   "metadata": {},
   "outputs": [],
   "source": [
    "import numpy as np\n",
    "import pandas as pd"
   ]
  },
  {
   "cell_type": "code",
   "execution_count": 68,
   "outputs": [
    {
     "data": {
      "text/plain": "200000"
     },
     "execution_count": 68,
     "metadata": {},
     "output_type": "execute_result"
    }
   ],
   "source": [
    "filepath = \"data/2021_NCVR_Panse_001/dataset_ncvr_dirty.csv\"\n",
    "col_names = \"sourceID,globalID,localID,FIRSTNAME,MIDDLENAME,LASTNAME,YEAROFBIRTH,PLACEOFBIRTH,COUNTRY,CITY,PLZ,STREET,GENDER,ETHNIC,RACE\".split(\",\")\n",
    "df = pd.read_csv(filepath, names=col_names, dtype={\"PLZ\": str, \"YEAROFBIRTH\": int},\n",
    "                              keep_default_na=False)\n",
    "df.shape[0]"
   ],
   "metadata": {
    "collapsed": false
   }
  },
  {
   "cell_type": "code",
   "execution_count": 69,
   "outputs": [
    {
     "data": {
      "text/plain": "100000"
     },
     "execution_count": 69,
     "metadata": {},
     "output_type": "execute_result"
    }
   ],
   "source": [
    "df1 = df[df.sourceID == \"A\"]\n",
    "df2 = df[df.sourceID == \"B\"]\n",
    "df1.shape[0]"
   ],
   "metadata": {
    "collapsed": false
   }
  },
  {
   "cell_type": "code",
   "execution_count": 70,
   "outputs": [
    {
     "data": {
      "text/plain": "      sourceID_x  globalID                         localID_x FIRSTNAME_x  \\\n0              A   AL82294  202338d686d641a11c6bae62644bd51e        LISA   \n1              A  BL352807  18471fd8e38e1ab6bd8d1545c368faa3      AHRMAD   \n2              A   EA43706  180c3dfaab0583c4b23f137d48ab68ba     WHITNEY   \n3              A   DT90164  58184c1d0360abfee773cc12a6ea76d4     WILLIAM   \n4              A  EH460595  eca1f5379f5282c6a63ee6adcacdacf2     MICHAEL   \n...          ...       ...                               ...         ...   \n19995          A  AN131900  5e1fd8d90515d82f85724c893db7781b        MARK   \n19996          A  EH114155  1efbe3b2772db4e8f32d2b0161d32c0d     RUSSELL   \n19997          A   EM28896  de30a5506ecb422cc08e16d02b36bcf0      JASPER   \n19998          A  BN411997  d196b80860c62066eadaa21088856af5     DEBORAH   \n19999          A    BA7072  1403d5486018207944818e0e9f919b50      HOWARD   \n\n      MIDDLENAME_x LASTNAME_x  YEAROFBIRTH_x PLACEOFBIRTH_x COUNTRY_x  \\\n0                F    BALDWIN           1966                 BUNCOMBE   \n1           RASHAD    GRIFFIN           1976                   DURHAM   \n2            MARIE      RAMER           1990             NC    STOKES   \n3             MARK       KING           1966                    ROWAN   \n4                J     MARCHI           1963             CA      WAKE   \n...            ...        ...            ...            ...       ...   \n19995       EDWARD       LANE           1961             CT  CABARRUS   \n19996            T    GOLDNER           1961             WV      WAKE   \n19997        GLENN     SASSER           1942                    WAYNE   \n19998       LOUSIE     BARKER           1970             LA   FORSYTH   \n19999           L.    SCROGGS           1933             NC      CLAY   \n\n               CITY_x  ...   LASTNAME_y YEAROFBIRTH_y PLACEOFBIRTH_y  \\\n0      BLACK MOUNTAIN  ...      BALDWIN          1966                  \n1              DURHAM  ...      GRIFFIN          1976             MO   \n2         WALNUT COVE  ...  CZERKIEWICZ          1990             NC   \n3           SALISBURY  ...         KING          1966             NC   \n4         WAKE FOREST  ...       MARCHI          1963             CA   \n...               ...  ...          ...           ...            ...   \n19995         CONCORD  ...         LANE          1961                  \n19996         RALEIGH  ...      GOLDNER          1961             WV   \n19997       GOLDSBORO  ...       SASSER          1942             NC   \n19998    KERNERSVILLE  ...        JONES          1970             LA   \n19999      HAYESVILLE  ...      SCROGGS          1933             NC   \n\n      COUNTRY_y          CITY_y  PLZ_y           STREET_y GENDER_y ETHNIC_y  \\\n0      BUNCOMBE  BLACK MOUNTAIN  28711            GENESIS        F       NL   \n1        DURHAM          DURHAM  27703           HOLLOWAY        M       UN   \n2        STOKES     WALNUT COVE  27052         PINK SMITH        F       NL   \n3         ROWAN       SALISBURY  28147             GODBEY        M       NL   \n4          WAKE     WAKE FOREST  27587           OATLANDS        M       UN   \n...         ...             ...    ...                ...      ...      ...   \n19995     ROWAN       SALISBURY  28147             RANDOM        M       NL   \n19996   LINCOLN          MAIDEN  28650  ANDERSON MOUNTAIN        M       NL   \n19997  JOHNSTON       PRINCETON  27569        BLACK WATER        M       NL   \n19998   FORSYTH      WALKERTOWN  27051           LA CREST        F       NL   \n19999      CLAY      HAYESVILLE  28904        CARTER COVE        M       NL   \n\n      RACE_y  \n0          W  \n1          B  \n2          W  \n3          W  \n4          W  \n...      ...  \n19995      W  \n19996      W  \n19997      W  \n19998      W  \n19999      W  \n\n[20000 rows x 29 columns]",
      "text/html": "<div>\n<style scoped>\n    .dataframe tbody tr th:only-of-type {\n        vertical-align: middle;\n    }\n\n    .dataframe tbody tr th {\n        vertical-align: top;\n    }\n\n    .dataframe thead th {\n        text-align: right;\n    }\n</style>\n<table border=\"1\" class=\"dataframe\">\n  <thead>\n    <tr style=\"text-align: right;\">\n      <th></th>\n      <th>sourceID_x</th>\n      <th>globalID</th>\n      <th>localID_x</th>\n      <th>FIRSTNAME_x</th>\n      <th>MIDDLENAME_x</th>\n      <th>LASTNAME_x</th>\n      <th>YEAROFBIRTH_x</th>\n      <th>PLACEOFBIRTH_x</th>\n      <th>COUNTRY_x</th>\n      <th>CITY_x</th>\n      <th>...</th>\n      <th>LASTNAME_y</th>\n      <th>YEAROFBIRTH_y</th>\n      <th>PLACEOFBIRTH_y</th>\n      <th>COUNTRY_y</th>\n      <th>CITY_y</th>\n      <th>PLZ_y</th>\n      <th>STREET_y</th>\n      <th>GENDER_y</th>\n      <th>ETHNIC_y</th>\n      <th>RACE_y</th>\n    </tr>\n  </thead>\n  <tbody>\n    <tr>\n      <th>0</th>\n      <td>A</td>\n      <td>AL82294</td>\n      <td>202338d686d641a11c6bae62644bd51e</td>\n      <td>LISA</td>\n      <td>F</td>\n      <td>BALDWIN</td>\n      <td>1966</td>\n      <td></td>\n      <td>BUNCOMBE</td>\n      <td>BLACK MOUNTAIN</td>\n      <td>...</td>\n      <td>BALDWIN</td>\n      <td>1966</td>\n      <td></td>\n      <td>BUNCOMBE</td>\n      <td>BLACK MOUNTAIN</td>\n      <td>28711</td>\n      <td>GENESIS</td>\n      <td>F</td>\n      <td>NL</td>\n      <td>W</td>\n    </tr>\n    <tr>\n      <th>1</th>\n      <td>A</td>\n      <td>BL352807</td>\n      <td>18471fd8e38e1ab6bd8d1545c368faa3</td>\n      <td>AHRMAD</td>\n      <td>RASHAD</td>\n      <td>GRIFFIN</td>\n      <td>1976</td>\n      <td></td>\n      <td>DURHAM</td>\n      <td>DURHAM</td>\n      <td>...</td>\n      <td>GRIFFIN</td>\n      <td>1976</td>\n      <td>MO</td>\n      <td>DURHAM</td>\n      <td>DURHAM</td>\n      <td>27703</td>\n      <td>HOLLOWAY</td>\n      <td>M</td>\n      <td>UN</td>\n      <td>B</td>\n    </tr>\n    <tr>\n      <th>2</th>\n      <td>A</td>\n      <td>EA43706</td>\n      <td>180c3dfaab0583c4b23f137d48ab68ba</td>\n      <td>WHITNEY</td>\n      <td>MARIE</td>\n      <td>RAMER</td>\n      <td>1990</td>\n      <td>NC</td>\n      <td>STOKES</td>\n      <td>WALNUT COVE</td>\n      <td>...</td>\n      <td>CZERKIEWICZ</td>\n      <td>1990</td>\n      <td>NC</td>\n      <td>STOKES</td>\n      <td>WALNUT COVE</td>\n      <td>27052</td>\n      <td>PINK SMITH</td>\n      <td>F</td>\n      <td>NL</td>\n      <td>W</td>\n    </tr>\n    <tr>\n      <th>3</th>\n      <td>A</td>\n      <td>DT90164</td>\n      <td>58184c1d0360abfee773cc12a6ea76d4</td>\n      <td>WILLIAM</td>\n      <td>MARK</td>\n      <td>KING</td>\n      <td>1966</td>\n      <td></td>\n      <td>ROWAN</td>\n      <td>SALISBURY</td>\n      <td>...</td>\n      <td>KING</td>\n      <td>1966</td>\n      <td>NC</td>\n      <td>ROWAN</td>\n      <td>SALISBURY</td>\n      <td>28147</td>\n      <td>GODBEY</td>\n      <td>M</td>\n      <td>NL</td>\n      <td>W</td>\n    </tr>\n    <tr>\n      <th>4</th>\n      <td>A</td>\n      <td>EH460595</td>\n      <td>eca1f5379f5282c6a63ee6adcacdacf2</td>\n      <td>MICHAEL</td>\n      <td>J</td>\n      <td>MARCHI</td>\n      <td>1963</td>\n      <td>CA</td>\n      <td>WAKE</td>\n      <td>WAKE FOREST</td>\n      <td>...</td>\n      <td>MARCHI</td>\n      <td>1963</td>\n      <td>CA</td>\n      <td>WAKE</td>\n      <td>WAKE FOREST</td>\n      <td>27587</td>\n      <td>OATLANDS</td>\n      <td>M</td>\n      <td>UN</td>\n      <td>W</td>\n    </tr>\n    <tr>\n      <th>...</th>\n      <td>...</td>\n      <td>...</td>\n      <td>...</td>\n      <td>...</td>\n      <td>...</td>\n      <td>...</td>\n      <td>...</td>\n      <td>...</td>\n      <td>...</td>\n      <td>...</td>\n      <td>...</td>\n      <td>...</td>\n      <td>...</td>\n      <td>...</td>\n      <td>...</td>\n      <td>...</td>\n      <td>...</td>\n      <td>...</td>\n      <td>...</td>\n      <td>...</td>\n      <td>...</td>\n    </tr>\n    <tr>\n      <th>19995</th>\n      <td>A</td>\n      <td>AN131900</td>\n      <td>5e1fd8d90515d82f85724c893db7781b</td>\n      <td>MARK</td>\n      <td>EDWARD</td>\n      <td>LANE</td>\n      <td>1961</td>\n      <td>CT</td>\n      <td>CABARRUS</td>\n      <td>CONCORD</td>\n      <td>...</td>\n      <td>LANE</td>\n      <td>1961</td>\n      <td></td>\n      <td>ROWAN</td>\n      <td>SALISBURY</td>\n      <td>28147</td>\n      <td>RANDOM</td>\n      <td>M</td>\n      <td>NL</td>\n      <td>W</td>\n    </tr>\n    <tr>\n      <th>19996</th>\n      <td>A</td>\n      <td>EH114155</td>\n      <td>1efbe3b2772db4e8f32d2b0161d32c0d</td>\n      <td>RUSSELL</td>\n      <td>T</td>\n      <td>GOLDNER</td>\n      <td>1961</td>\n      <td>WV</td>\n      <td>WAKE</td>\n      <td>RALEIGH</td>\n      <td>...</td>\n      <td>GOLDNER</td>\n      <td>1961</td>\n      <td>WV</td>\n      <td>LINCOLN</td>\n      <td>MAIDEN</td>\n      <td>28650</td>\n      <td>ANDERSON MOUNTAIN</td>\n      <td>M</td>\n      <td>NL</td>\n      <td>W</td>\n    </tr>\n    <tr>\n      <th>19997</th>\n      <td>A</td>\n      <td>EM28896</td>\n      <td>de30a5506ecb422cc08e16d02b36bcf0</td>\n      <td>JASPER</td>\n      <td>GLENN</td>\n      <td>SASSER</td>\n      <td>1942</td>\n      <td></td>\n      <td>WAYNE</td>\n      <td>GOLDSBORO</td>\n      <td>...</td>\n      <td>SASSER</td>\n      <td>1942</td>\n      <td>NC</td>\n      <td>JOHNSTON</td>\n      <td>PRINCETON</td>\n      <td>27569</td>\n      <td>BLACK WATER</td>\n      <td>M</td>\n      <td>NL</td>\n      <td>W</td>\n    </tr>\n    <tr>\n      <th>19998</th>\n      <td>A</td>\n      <td>BN411997</td>\n      <td>d196b80860c62066eadaa21088856af5</td>\n      <td>DEBORAH</td>\n      <td>LOUSIE</td>\n      <td>BARKER</td>\n      <td>1970</td>\n      <td>LA</td>\n      <td>FORSYTH</td>\n      <td>KERNERSVILLE</td>\n      <td>...</td>\n      <td>JONES</td>\n      <td>1970</td>\n      <td>LA</td>\n      <td>FORSYTH</td>\n      <td>WALKERTOWN</td>\n      <td>27051</td>\n      <td>LA CREST</td>\n      <td>F</td>\n      <td>NL</td>\n      <td>W</td>\n    </tr>\n    <tr>\n      <th>19999</th>\n      <td>A</td>\n      <td>BA7072</td>\n      <td>1403d5486018207944818e0e9f919b50</td>\n      <td>HOWARD</td>\n      <td>L.</td>\n      <td>SCROGGS</td>\n      <td>1933</td>\n      <td>NC</td>\n      <td>CLAY</td>\n      <td>HAYESVILLE</td>\n      <td>...</td>\n      <td>SCROGGS</td>\n      <td>1933</td>\n      <td>NC</td>\n      <td>CLAY</td>\n      <td>HAYESVILLE</td>\n      <td>28904</td>\n      <td>CARTER COVE</td>\n      <td>M</td>\n      <td>NL</td>\n      <td>W</td>\n    </tr>\n  </tbody>\n</table>\n<p>20000 rows × 29 columns</p>\n</div>"
     },
     "execution_count": 70,
     "metadata": {},
     "output_type": "execute_result"
    }
   ],
   "source": [
    "attr_names = \"FIRSTNAME,MIDDLENAME,LASTNAME,YEAROFBIRTH,PLACEOFBIRTH,COUNTRY,CITY,PLZ,STREET,GENDER,ETHNIC,RACE\".split(\",\")\n",
    "def equal(row):\n",
    "    for attr in attr_names:\n",
    "        if row[attr + \"_x\"] != row[attr + \"_y\"]:\n",
    "            return False\n",
    "    return True\n",
    "\n",
    "df_merged = pd.merge(df1, df2, how='inner', on='globalID')\n",
    "df_merged[~df_merged.apply(equal, axis=1)]"
   ],
   "metadata": {
    "collapsed": false
   }
  },
  {
   "cell_type": "markdown",
   "source": [
    "### upsampling"
   ],
   "metadata": {
    "collapsed": false
   }
  },
  {
   "cell_type": "code",
   "execution_count": 71,
   "outputs": [],
   "source": [
    "from imblearn.over_sampling import SMOTENC\n",
    "from collections import Counter"
   ],
   "metadata": {
    "collapsed": false
   }
  },
  {
   "cell_type": "code",
   "execution_count": 72,
   "outputs": [],
   "source": [
    "def dummy_df(shape, columns, dummy_value=\"DUMMY\"):\n",
    "    data = []\n",
    "    for row_n in range(shape[0]):\n",
    "        row = []\n",
    "        for col_n in range(shape[1]):\n",
    "            row.append(0.0 if col_n == 3 else dummy_value)\n",
    "        data.append(row)\n",
    "    return pd.DataFrame(data, columns=columns)"
   ],
   "metadata": {
    "collapsed": false
   }
  },
  {
   "cell_type": "code",
   "execution_count": 74,
   "outputs": [
    {
     "name": "stdout",
     "output_type": "stream",
     "text": [
      "Resampled dataset samples per class Counter({0.0: 1000, 1.0: 1000})\n"
     ]
    }
   ],
   "source": [
    "attr_names = \"FIRSTNAME,MIDDLENAME,LASTNAME,YEAROFBIRTH,PLACEOFBIRTH,COUNTRY,CITY,PLZ,STREET,GENDER,ETHNIC,RACE\".split(\",\")\n",
    "desired_size = 1000\n",
    "X = df[df.GENDER == \"M\"][:800]\n",
    "X = X.drop(X.columns[[0, 1, 2]], axis=1)  # drop ID columns\n",
    "sm = SMOTENC(random_state=42, categorical_features=[0, 1, 2, 4, 5, 6, 7, 8, 9, 10, 11])  # all but 3 (year of birth)\n",
    "y = np.append(np.zeros(X.shape[0]), np.ones(desired_size))\n",
    "X = pd.concat([X, dummy_df(shape=(desired_size, X.shape[1]), columns=X.columns)])\n",
    "X_res, y_res = sm.fit_resample(X, y)\n",
    "print(f'Resampled dataset samples per class {Counter(y_res)}')"
   ],
   "metadata": {
    "collapsed": false
   }
  },
  {
   "cell_type": "code",
   "execution_count": 62,
   "outputs": [],
   "source": [
    "# remove dummy records (rows with class 1)\n",
    "mask = [not bool(x) for x in y_res.tolist()]\n",
    "X_res = X_res[mask]"
   ],
   "metadata": {
    "collapsed": false
   }
  },
  {
   "cell_type": "code",
   "execution_count": 63,
   "outputs": [
    {
     "data": {
      "text/plain": "        FIRSTNAME MIDDLENAME    LASTNAME  YEAROFBIRTH PLACEOFBIRTH  \\\n1800          MAX                  JAFFA  1929.426111                \n1801     DALTHARD                CURRIER  1930.816378           NC   \n1802       ANGELA        LEE     MOULDEN  1970.000000           NC   \n1803       OLIVER     LANDON      HARVEY  1990.188691           NC   \n1804      TIMOTHY        RAY      VOIGHT  1962.395583           NC   \n...           ...        ...         ...          ...          ...   \n1995       THOMAS      DAVID        NAIL  1985.099200           FL   \n1996  CHRISTOPHER       JOHN     ELLIOTT  1971.243237           NC   \n1997        EDWIN     THOMAS      STUART  1959.341879           NC   \n1998       ANGELA        LEE  LIVINGSTON  1971.684046           NC   \n1999         ADAM      ALLEN      DEDMAN  1987.000000           NC   \n\n          COUNTRY            CITY    PLZ          STREET GENDER ETHNIC RACE  \n1800  MECKLENBURG       CHARLOTTE  28205         WENSLEY      M     NL    W  \n1801      HAYWOOD     WAYNESVILLE  28786      SUNNY HILL      M     NL    W  \n1802     GUILFORD  ELIZABETH CITY             NC HWY 210      M     NL    B  \n1803     ALAMANCE      BURLINGTON  27217           JAMES      M     NL    W  \n1804       ORANGE     CHAPEL HILL  27253     NORTH CREEK      M     NL    W  \n...           ...             ...    ...             ...    ...    ...  ...  \n1995         POLK        CLEMMONS  28756       HAWTHORNE      M     NL    W  \n1996     RANDOLPH       SALISBURY  27317    SCHOOL HOUSE      M     NL    W  \n1997       PERSON         ROXBORO  28394  MEDFORD OAKLEY      M     NL    W  \n1998     GUILFORD      GREENSBORO  27263     RURAL RTE 6      M     NL    B  \n1999   CUMBERLAND       ASHEVILLE  28801         GRACKLE      M     UN    W  \n\n[200 rows x 12 columns]",
      "text/html": "<div>\n<style scoped>\n    .dataframe tbody tr th:only-of-type {\n        vertical-align: middle;\n    }\n\n    .dataframe tbody tr th {\n        vertical-align: top;\n    }\n\n    .dataframe thead th {\n        text-align: right;\n    }\n</style>\n<table border=\"1\" class=\"dataframe\">\n  <thead>\n    <tr style=\"text-align: right;\">\n      <th></th>\n      <th>FIRSTNAME</th>\n      <th>MIDDLENAME</th>\n      <th>LASTNAME</th>\n      <th>YEAROFBIRTH</th>\n      <th>PLACEOFBIRTH</th>\n      <th>COUNTRY</th>\n      <th>CITY</th>\n      <th>PLZ</th>\n      <th>STREET</th>\n      <th>GENDER</th>\n      <th>ETHNIC</th>\n      <th>RACE</th>\n    </tr>\n  </thead>\n  <tbody>\n    <tr>\n      <th>1800</th>\n      <td>MAX</td>\n      <td></td>\n      <td>JAFFA</td>\n      <td>1929.426111</td>\n      <td></td>\n      <td>MECKLENBURG</td>\n      <td>CHARLOTTE</td>\n      <td>28205</td>\n      <td>WENSLEY</td>\n      <td>M</td>\n      <td>NL</td>\n      <td>W</td>\n    </tr>\n    <tr>\n      <th>1801</th>\n      <td>DALTHARD</td>\n      <td></td>\n      <td>CURRIER</td>\n      <td>1930.816378</td>\n      <td>NC</td>\n      <td>HAYWOOD</td>\n      <td>WAYNESVILLE</td>\n      <td>28786</td>\n      <td>SUNNY HILL</td>\n      <td>M</td>\n      <td>NL</td>\n      <td>W</td>\n    </tr>\n    <tr>\n      <th>1802</th>\n      <td>ANGELA</td>\n      <td>LEE</td>\n      <td>MOULDEN</td>\n      <td>1970.000000</td>\n      <td>NC</td>\n      <td>GUILFORD</td>\n      <td>ELIZABETH CITY</td>\n      <td></td>\n      <td>NC HWY 210</td>\n      <td>M</td>\n      <td>NL</td>\n      <td>B</td>\n    </tr>\n    <tr>\n      <th>1803</th>\n      <td>OLIVER</td>\n      <td>LANDON</td>\n      <td>HARVEY</td>\n      <td>1990.188691</td>\n      <td>NC</td>\n      <td>ALAMANCE</td>\n      <td>BURLINGTON</td>\n      <td>27217</td>\n      <td>JAMES</td>\n      <td>M</td>\n      <td>NL</td>\n      <td>W</td>\n    </tr>\n    <tr>\n      <th>1804</th>\n      <td>TIMOTHY</td>\n      <td>RAY</td>\n      <td>VOIGHT</td>\n      <td>1962.395583</td>\n      <td>NC</td>\n      <td>ORANGE</td>\n      <td>CHAPEL HILL</td>\n      <td>27253</td>\n      <td>NORTH CREEK</td>\n      <td>M</td>\n      <td>NL</td>\n      <td>W</td>\n    </tr>\n    <tr>\n      <th>...</th>\n      <td>...</td>\n      <td>...</td>\n      <td>...</td>\n      <td>...</td>\n      <td>...</td>\n      <td>...</td>\n      <td>...</td>\n      <td>...</td>\n      <td>...</td>\n      <td>...</td>\n      <td>...</td>\n      <td>...</td>\n    </tr>\n    <tr>\n      <th>1995</th>\n      <td>THOMAS</td>\n      <td>DAVID</td>\n      <td>NAIL</td>\n      <td>1985.099200</td>\n      <td>FL</td>\n      <td>POLK</td>\n      <td>CLEMMONS</td>\n      <td>28756</td>\n      <td>HAWTHORNE</td>\n      <td>M</td>\n      <td>NL</td>\n      <td>W</td>\n    </tr>\n    <tr>\n      <th>1996</th>\n      <td>CHRISTOPHER</td>\n      <td>JOHN</td>\n      <td>ELLIOTT</td>\n      <td>1971.243237</td>\n      <td>NC</td>\n      <td>RANDOLPH</td>\n      <td>SALISBURY</td>\n      <td>27317</td>\n      <td>SCHOOL HOUSE</td>\n      <td>M</td>\n      <td>NL</td>\n      <td>W</td>\n    </tr>\n    <tr>\n      <th>1997</th>\n      <td>EDWIN</td>\n      <td>THOMAS</td>\n      <td>STUART</td>\n      <td>1959.341879</td>\n      <td>NC</td>\n      <td>PERSON</td>\n      <td>ROXBORO</td>\n      <td>28394</td>\n      <td>MEDFORD OAKLEY</td>\n      <td>M</td>\n      <td>NL</td>\n      <td>W</td>\n    </tr>\n    <tr>\n      <th>1998</th>\n      <td>ANGELA</td>\n      <td>LEE</td>\n      <td>LIVINGSTON</td>\n      <td>1971.684046</td>\n      <td>NC</td>\n      <td>GUILFORD</td>\n      <td>GREENSBORO</td>\n      <td>27263</td>\n      <td>RURAL RTE 6</td>\n      <td>M</td>\n      <td>NL</td>\n      <td>B</td>\n    </tr>\n    <tr>\n      <th>1999</th>\n      <td>ADAM</td>\n      <td>ALLEN</td>\n      <td>DEDMAN</td>\n      <td>1987.000000</td>\n      <td>NC</td>\n      <td>CUMBERLAND</td>\n      <td>ASHEVILLE</td>\n      <td>28801</td>\n      <td>GRACKLE</td>\n      <td>M</td>\n      <td>UN</td>\n      <td>W</td>\n    </tr>\n  </tbody>\n</table>\n<p>200 rows × 12 columns</p>\n</div>"
     },
     "execution_count": 63,
     "metadata": {},
     "output_type": "execute_result"
    }
   ],
   "source": [
    "# get all from X_res that are not in X\n",
    "X_res[~X_res.apply(tuple,1).isin(X.apply(tuple,1))]"
   ],
   "metadata": {
    "collapsed": false
   }
  },
  {
   "cell_type": "code",
   "execution_count": 65,
   "outputs": [
    {
     "data": {
      "text/plain": "    FIRSTNAME MIDDLENAME  LASTNAME  YEAROFBIRTH PLACEOFBIRTH      COUNTRY  \\\n0      RONALD     EUGENE  LATTIMER       1953.0           OH        MOORE   \n1        KURT                BALEN       1968.0           PA         WAKE   \n2       WORTH      BROWN     FOUTZ       1919.0                     ROWAN   \n3     LEOWARD          L     LOGAN       1961.0           NC  MECKLENBURG   \n4     NGOWARI                HARRY       1980.0           PA  MECKLENBURG   \n..        ...        ...       ...          ...          ...          ...   \n795   RAEFORD    WILLARD   BYERLEY       1924.0           NC     CALDWELL   \n796    LELAND      DUANE   JACKSON       1964.0           NC        MOORE   \n797   MICHAEL          A     JONES       1964.0               MECKLENBURG   \n798     BILLY        TED    RECTOR       1920.0           NC      HAYWOOD   \n799    WARREN      ODELL    GANUES       1988.0           OC         PITT   \n\n          CITY    PLZ         STREET GENDER ETHNIC RACE  \n0    PINEHURST  28374   BURNING TREE      M     NL    W  \n1         APEX  27502   ASHLEY DOWNS      M     NL    W  \n2    SALISBURY  28146       MORRISON      M     NL    W  \n3    CHARLOTTE  28215        DELGANY      M     NL    W  \n4    CHARLOTTE  28207      CRANBROOK      M     NL    B  \n..         ...    ...            ...    ...    ...  ...  \n795     LENOIR  28645  OLD MORGANTON      M     NL    W  \n796    CAMERON  28326          PLANK      M     NL    W  \n797  CHARLOTTE  28212      FARM POND      M     NL    B  \n798      CLYDE  28721     SUNNY HILL      M     NL    W  \n799      AYDEN  28513     WHITE LINE      M     NL    B  \n\n[800 rows x 12 columns]",
      "text/html": "<div>\n<style scoped>\n    .dataframe tbody tr th:only-of-type {\n        vertical-align: middle;\n    }\n\n    .dataframe tbody tr th {\n        vertical-align: top;\n    }\n\n    .dataframe thead th {\n        text-align: right;\n    }\n</style>\n<table border=\"1\" class=\"dataframe\">\n  <thead>\n    <tr style=\"text-align: right;\">\n      <th></th>\n      <th>FIRSTNAME</th>\n      <th>MIDDLENAME</th>\n      <th>LASTNAME</th>\n      <th>YEAROFBIRTH</th>\n      <th>PLACEOFBIRTH</th>\n      <th>COUNTRY</th>\n      <th>CITY</th>\n      <th>PLZ</th>\n      <th>STREET</th>\n      <th>GENDER</th>\n      <th>ETHNIC</th>\n      <th>RACE</th>\n    </tr>\n  </thead>\n  <tbody>\n    <tr>\n      <th>0</th>\n      <td>RONALD</td>\n      <td>EUGENE</td>\n      <td>LATTIMER</td>\n      <td>1953.0</td>\n      <td>OH</td>\n      <td>MOORE</td>\n      <td>PINEHURST</td>\n      <td>28374</td>\n      <td>BURNING TREE</td>\n      <td>M</td>\n      <td>NL</td>\n      <td>W</td>\n    </tr>\n    <tr>\n      <th>1</th>\n      <td>KURT</td>\n      <td></td>\n      <td>BALEN</td>\n      <td>1968.0</td>\n      <td>PA</td>\n      <td>WAKE</td>\n      <td>APEX</td>\n      <td>27502</td>\n      <td>ASHLEY DOWNS</td>\n      <td>M</td>\n      <td>NL</td>\n      <td>W</td>\n    </tr>\n    <tr>\n      <th>2</th>\n      <td>WORTH</td>\n      <td>BROWN</td>\n      <td>FOUTZ</td>\n      <td>1919.0</td>\n      <td></td>\n      <td>ROWAN</td>\n      <td>SALISBURY</td>\n      <td>28146</td>\n      <td>MORRISON</td>\n      <td>M</td>\n      <td>NL</td>\n      <td>W</td>\n    </tr>\n    <tr>\n      <th>3</th>\n      <td>LEOWARD</td>\n      <td>L</td>\n      <td>LOGAN</td>\n      <td>1961.0</td>\n      <td>NC</td>\n      <td>MECKLENBURG</td>\n      <td>CHARLOTTE</td>\n      <td>28215</td>\n      <td>DELGANY</td>\n      <td>M</td>\n      <td>NL</td>\n      <td>W</td>\n    </tr>\n    <tr>\n      <th>4</th>\n      <td>NGOWARI</td>\n      <td></td>\n      <td>HARRY</td>\n      <td>1980.0</td>\n      <td>PA</td>\n      <td>MECKLENBURG</td>\n      <td>CHARLOTTE</td>\n      <td>28207</td>\n      <td>CRANBROOK</td>\n      <td>M</td>\n      <td>NL</td>\n      <td>B</td>\n    </tr>\n    <tr>\n      <th>...</th>\n      <td>...</td>\n      <td>...</td>\n      <td>...</td>\n      <td>...</td>\n      <td>...</td>\n      <td>...</td>\n      <td>...</td>\n      <td>...</td>\n      <td>...</td>\n      <td>...</td>\n      <td>...</td>\n      <td>...</td>\n    </tr>\n    <tr>\n      <th>795</th>\n      <td>RAEFORD</td>\n      <td>WILLARD</td>\n      <td>BYERLEY</td>\n      <td>1924.0</td>\n      <td>NC</td>\n      <td>CALDWELL</td>\n      <td>LENOIR</td>\n      <td>28645</td>\n      <td>OLD MORGANTON</td>\n      <td>M</td>\n      <td>NL</td>\n      <td>W</td>\n    </tr>\n    <tr>\n      <th>796</th>\n      <td>LELAND</td>\n      <td>DUANE</td>\n      <td>JACKSON</td>\n      <td>1964.0</td>\n      <td>NC</td>\n      <td>MOORE</td>\n      <td>CAMERON</td>\n      <td>28326</td>\n      <td>PLANK</td>\n      <td>M</td>\n      <td>NL</td>\n      <td>W</td>\n    </tr>\n    <tr>\n      <th>797</th>\n      <td>MICHAEL</td>\n      <td>A</td>\n      <td>JONES</td>\n      <td>1964.0</td>\n      <td></td>\n      <td>MECKLENBURG</td>\n      <td>CHARLOTTE</td>\n      <td>28212</td>\n      <td>FARM POND</td>\n      <td>M</td>\n      <td>NL</td>\n      <td>B</td>\n    </tr>\n    <tr>\n      <th>798</th>\n      <td>BILLY</td>\n      <td>TED</td>\n      <td>RECTOR</td>\n      <td>1920.0</td>\n      <td>NC</td>\n      <td>HAYWOOD</td>\n      <td>CLYDE</td>\n      <td>28721</td>\n      <td>SUNNY HILL</td>\n      <td>M</td>\n      <td>NL</td>\n      <td>W</td>\n    </tr>\n    <tr>\n      <th>799</th>\n      <td>WARREN</td>\n      <td>ODELL</td>\n      <td>GANUES</td>\n      <td>1988.0</td>\n      <td>OC</td>\n      <td>PITT</td>\n      <td>AYDEN</td>\n      <td>28513</td>\n      <td>WHITE LINE</td>\n      <td>M</td>\n      <td>NL</td>\n      <td>B</td>\n    </tr>\n  </tbody>\n</table>\n<p>800 rows × 12 columns</p>\n</div>"
     },
     "execution_count": 65,
     "metadata": {},
     "output_type": "execute_result"
    }
   ],
   "source": [
    "X_res[X_res.apply(tuple,1).isin(X.apply(tuple,1))]"
   ],
   "metadata": {
    "collapsed": false
   }
  },
  {
   "cell_type": "code",
   "execution_count": 66,
   "outputs": [
    {
     "data": {
      "text/plain": "Index(['sourceID', 'globalID', 'localID', 'FIRSTNAME', 'MIDDLENAME',\n       'LASTNAME', 'YEAROFBIRTH', 'PLACEOFBIRTH', 'COUNTRY', 'CITY', 'PLZ',\n       'STREET', 'GENDER', 'ETHNIC', 'RACE'],\n      dtype='object')"
     },
     "execution_count": 66,
     "metadata": {},
     "output_type": "execute_result"
    }
   ],
   "source": [
    "df.columns"
   ],
   "metadata": {
    "collapsed": false
   }
  }
 ],
 "metadata": {
  "kernelspec": {
   "display_name": "Python 3.8.10 64-bit",
   "language": "python",
   "name": "python3"
  },
  "language_info": {
   "codemirror_mode": {
    "name": "ipython",
    "version": 3
   },
   "file_extension": ".py",
   "mimetype": "text/x-python",
   "name": "python",
   "nbconvert_exporter": "python",
   "pygments_lexer": "ipython3",
   "version": "3.8.10"
  },
  "orig_nbformat": 4,
  "vscode": {
   "interpreter": {
    "hash": "916dbcbb3f70747c44a77c7bcd40155683ae19c65e1c03b4aa3499c5328201f1"
   }
  }
 },
 "nbformat": 4,
 "nbformat_minor": 2
}
