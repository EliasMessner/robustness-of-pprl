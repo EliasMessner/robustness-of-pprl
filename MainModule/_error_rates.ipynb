{
 "cells": [
  {
   "cell_type": "markdown",
   "source": [
    "# Error Rates"
   ],
   "metadata": {
    "collapsed": false
   }
  },
  {
   "cell_type": "markdown",
   "source": [
    "## 1. Measure Error Rate in matching Record Pair"
   ],
   "metadata": {
    "collapsed": false
   }
  },
  {
   "cell_type": "markdown",
   "source": [
    "### 1.1  Error = Number of unequal attributes"
   ],
   "metadata": {
    "collapsed": false
   }
  },
  {
   "cell_type": "code",
   "execution_count": 66,
   "outputs": [],
   "source": [
    "import matplotlib.pyplot as plt\n",
    "import pandas as pd"
   ],
   "metadata": {
    "collapsed": false
   }
  },
  {
   "cell_type": "code",
   "execution_count": 67,
   "outputs": [],
   "source": [
    "def skip_xlabels(bp, number):\n",
    "    if len(bp.get_xticklabels()) > number:\n",
    "        skip = round(len(bp.get_xticklabels()) / number)\n",
    "        for ind, label in enumerate(bp.get_xticklabels()):\n",
    "            if ind % skip == 0:\n",
    "                label.set_visible(True)\n",
    "            else:\n",
    "                label.set_visible(False)"
   ],
   "metadata": {
    "collapsed": false
   }
  },
  {
   "cell_type": "code",
   "execution_count": 68,
   "metadata": {
    "collapsed": true
   },
   "outputs": [
    {
     "data": {
      "text/plain": "1000000"
     },
     "execution_count": 68,
     "metadata": {},
     "output_type": "execute_result"
    }
   ],
   "source": [
    "# get the data\n",
    "filepath = \"data/2023_NCVR_Panse_1M/records.csv\"\n",
    "#filepath = \"data/2021_NCVR_Panse_001/dataset_ncvr_dirty.csv\"\n",
    "col_names = \"sourceID,globalID,localID,FIRSTNAME,MIDDLENAME,LASTNAME,YEAROFBIRTH,PLACEOFBIRTH,COUNTRY,CITY,PLZ,STREET,GENDER,ETHNIC,RACE\".split(\",\")\n",
    "df = pd.read_csv(filepath, names=col_names, dtype={\"PLZ\": str, \"YEAROFBIRTH\": int},\n",
    "                              keep_default_na=False)\n",
    "df.shape[0]"
   ]
  },
  {
   "cell_type": "code",
   "execution_count": 69,
   "outputs": [],
   "source": [
    "# split dataset\n",
    "df1 = df[df.sourceID == \"A\"]\n",
    "df2 = df[df.sourceID == \"B\"]"
   ],
   "metadata": {
    "collapsed": false
   }
  },
  {
   "cell_type": "code",
   "execution_count": 70,
   "outputs": [
    {
     "data": {
      "text/plain": "  sourceID_a  globalID         localID_a FIRSTNAME_a MIDDLENAME_a LASTNAME_a  \\\n0          A  DL182913  nAPFnWpTG5tu1COS         AMY       DENISE      BOGEY   \n1          A  EH916944  vf0oJmDbtRZ4cPMG      ISMAEL      TEXIDOR   MARTINEZ   \n2          A  BY612694  FZ04uIoOfqXn8oPd       DAVID                   HAYES   \n3          A  BH111531  gJXMESATxCyeMn1B     HEATHER       CURTIS       HALL   \n4          A  EH473223  51t3b3gJNqdM8Xfp      STACEE      YULANDA     POWELL   \n\n   YEAROFBIRTH_a PLACEOFBIRTH_a COUNTRY_a         CITY_a  ...  \\\n0           1986             NC      PITT    WINTERVILLE  ...   \n1           1982             PR      WAKE        RALEIGH  ...   \n2           1964             NC  GUILFORD     HIGH POINT  ...   \n3           1970             VA  DAVIDSON  WINSTON-SALEM  ...   \n4           1982             NC   SAMPSON        CLINTON  ...   \n\n         LASTNAME_b YEAROFBIRTH_b PLACEOFBIRTH_b COUNTRY_b         CITY_b  \\\n0         BECIROVIC          1986             NC      PITT    WINTERVILLE   \n1  TEXIDOR MARTINEZ          1982             PR      WAKE        RALEIGH   \n2             HAYES          1964                  FORSYTH   KERNERSVILLE   \n3            CURTIS          1970             VA  DAVIDSON  WINSTON-SALEM   \n4              CARR          1982             NC   SAMPSON        CLINTON   \n\n   PLZ_b      STREET_b GENDER_b ETHNIC_b RACE_b  \n0  28590        DUBLIN        F       NL      W  \n1  27616       WORSHAM        M       NL      O  \n2  27284         PAYNE        U       UN      U  \n3  27127  MALLARD VIEW        F       NL      W  \n4  28328        FAISON        F       NL      B  \n\n[5 rows x 29 columns]",
      "text/html": "<div>\n<style scoped>\n    .dataframe tbody tr th:only-of-type {\n        vertical-align: middle;\n    }\n\n    .dataframe tbody tr th {\n        vertical-align: top;\n    }\n\n    .dataframe thead th {\n        text-align: right;\n    }\n</style>\n<table border=\"1\" class=\"dataframe\">\n  <thead>\n    <tr style=\"text-align: right;\">\n      <th></th>\n      <th>sourceID_a</th>\n      <th>globalID</th>\n      <th>localID_a</th>\n      <th>FIRSTNAME_a</th>\n      <th>MIDDLENAME_a</th>\n      <th>LASTNAME_a</th>\n      <th>YEAROFBIRTH_a</th>\n      <th>PLACEOFBIRTH_a</th>\n      <th>COUNTRY_a</th>\n      <th>CITY_a</th>\n      <th>...</th>\n      <th>LASTNAME_b</th>\n      <th>YEAROFBIRTH_b</th>\n      <th>PLACEOFBIRTH_b</th>\n      <th>COUNTRY_b</th>\n      <th>CITY_b</th>\n      <th>PLZ_b</th>\n      <th>STREET_b</th>\n      <th>GENDER_b</th>\n      <th>ETHNIC_b</th>\n      <th>RACE_b</th>\n    </tr>\n  </thead>\n  <tbody>\n    <tr>\n      <th>0</th>\n      <td>A</td>\n      <td>DL182913</td>\n      <td>nAPFnWpTG5tu1COS</td>\n      <td>AMY</td>\n      <td>DENISE</td>\n      <td>BOGEY</td>\n      <td>1986</td>\n      <td>NC</td>\n      <td>PITT</td>\n      <td>WINTERVILLE</td>\n      <td>...</td>\n      <td>BECIROVIC</td>\n      <td>1986</td>\n      <td>NC</td>\n      <td>PITT</td>\n      <td>WINTERVILLE</td>\n      <td>28590</td>\n      <td>DUBLIN</td>\n      <td>F</td>\n      <td>NL</td>\n      <td>W</td>\n    </tr>\n    <tr>\n      <th>1</th>\n      <td>A</td>\n      <td>EH916944</td>\n      <td>vf0oJmDbtRZ4cPMG</td>\n      <td>ISMAEL</td>\n      <td>TEXIDOR</td>\n      <td>MARTINEZ</td>\n      <td>1982</td>\n      <td>PR</td>\n      <td>WAKE</td>\n      <td>RALEIGH</td>\n      <td>...</td>\n      <td>TEXIDOR MARTINEZ</td>\n      <td>1982</td>\n      <td>PR</td>\n      <td>WAKE</td>\n      <td>RALEIGH</td>\n      <td>27616</td>\n      <td>WORSHAM</td>\n      <td>M</td>\n      <td>NL</td>\n      <td>O</td>\n    </tr>\n    <tr>\n      <th>2</th>\n      <td>A</td>\n      <td>BY612694</td>\n      <td>FZ04uIoOfqXn8oPd</td>\n      <td>DAVID</td>\n      <td></td>\n      <td>HAYES</td>\n      <td>1964</td>\n      <td>NC</td>\n      <td>GUILFORD</td>\n      <td>HIGH POINT</td>\n      <td>...</td>\n      <td>HAYES</td>\n      <td>1964</td>\n      <td></td>\n      <td>FORSYTH</td>\n      <td>KERNERSVILLE</td>\n      <td>27284</td>\n      <td>PAYNE</td>\n      <td>U</td>\n      <td>UN</td>\n      <td>U</td>\n    </tr>\n    <tr>\n      <th>3</th>\n      <td>A</td>\n      <td>BH111531</td>\n      <td>gJXMESATxCyeMn1B</td>\n      <td>HEATHER</td>\n      <td>CURTIS</td>\n      <td>HALL</td>\n      <td>1970</td>\n      <td>VA</td>\n      <td>DAVIDSON</td>\n      <td>WINSTON-SALEM</td>\n      <td>...</td>\n      <td>CURTIS</td>\n      <td>1970</td>\n      <td>VA</td>\n      <td>DAVIDSON</td>\n      <td>WINSTON-SALEM</td>\n      <td>27127</td>\n      <td>MALLARD VIEW</td>\n      <td>F</td>\n      <td>NL</td>\n      <td>W</td>\n    </tr>\n    <tr>\n      <th>4</th>\n      <td>A</td>\n      <td>EH473223</td>\n      <td>51t3b3gJNqdM8Xfp</td>\n      <td>STACEE</td>\n      <td>YULANDA</td>\n      <td>POWELL</td>\n      <td>1982</td>\n      <td>NC</td>\n      <td>SAMPSON</td>\n      <td>CLINTON</td>\n      <td>...</td>\n      <td>CARR</td>\n      <td>1982</td>\n      <td>NC</td>\n      <td>SAMPSON</td>\n      <td>CLINTON</td>\n      <td>28328</td>\n      <td>FAISON</td>\n      <td>F</td>\n      <td>NL</td>\n      <td>B</td>\n    </tr>\n  </tbody>\n</table>\n<p>5 rows × 29 columns</p>\n</div>"
     },
     "execution_count": 70,
     "metadata": {},
     "output_type": "execute_result"
    }
   ],
   "source": [
    "# get all matching record pairs\n",
    "matches1 = df1[df1.globalID.isin(df2.globalID)]\n",
    "matches2 = df2[df2.globalID.isin(df1.globalID)]\n",
    "pairs = matches1.merge(matches2, on=\"globalID\", suffixes=[\"_a\", \"_b\"])\n",
    "pairs.head()"
   ],
   "metadata": {
    "collapsed": false
   }
  },
  {
   "cell_type": "code",
   "execution_count": 71,
   "outputs": [
    {
     "data": {
      "text/plain": "  sourceID_a  globalID         localID_a FIRSTNAME_a MIDDLENAME_a LASTNAME_a  \\\n0          A  DL182913  nAPFnWpTG5tu1COS         AMY       DENISE      BOGEY   \n1          A  EH916944  vf0oJmDbtRZ4cPMG      ISMAEL      TEXIDOR   MARTINEZ   \n2          A  BY612694  FZ04uIoOfqXn8oPd       DAVID                   HAYES   \n3          A  BH111531  gJXMESATxCyeMn1B     HEATHER       CURTIS       HALL   \n4          A  EH473223  51t3b3gJNqdM8Xfp      STACEE      YULANDA     POWELL   \n\n   YEAROFBIRTH_a PLACEOFBIRTH_a COUNTRY_a         CITY_a  ... YEAROFBIRTH_b  \\\n0           1986             NC      PITT    WINTERVILLE  ...          1986   \n1           1982             PR      WAKE        RALEIGH  ...          1982   \n2           1964             NC  GUILFORD     HIGH POINT  ...          1964   \n3           1970             VA  DAVIDSON  WINSTON-SALEM  ...          1970   \n4           1982             NC   SAMPSON        CLINTON  ...          1982   \n\n  PLACEOFBIRTH_b COUNTRY_b         CITY_b  PLZ_b      STREET_b GENDER_b  \\\n0             NC      PITT    WINTERVILLE  28590        DUBLIN        F   \n1             PR      WAKE        RALEIGH  27616       WORSHAM        M   \n2                  FORSYTH   KERNERSVILLE  27284         PAYNE        U   \n3             VA  DAVIDSON  WINSTON-SALEM  27127  MALLARD VIEW        F   \n4             NC   SAMPSON        CLINTON  28328        FAISON        F   \n\n  ETHNIC_b RACE_b errors  \n0       NL      W      4  \n1       NL      O      2  \n2       UN      U      7  \n3       NL      W      2  \n4       NL      B      3  \n\n[5 rows x 30 columns]",
      "text/html": "<div>\n<style scoped>\n    .dataframe tbody tr th:only-of-type {\n        vertical-align: middle;\n    }\n\n    .dataframe tbody tr th {\n        vertical-align: top;\n    }\n\n    .dataframe thead th {\n        text-align: right;\n    }\n</style>\n<table border=\"1\" class=\"dataframe\">\n  <thead>\n    <tr style=\"text-align: right;\">\n      <th></th>\n      <th>sourceID_a</th>\n      <th>globalID</th>\n      <th>localID_a</th>\n      <th>FIRSTNAME_a</th>\n      <th>MIDDLENAME_a</th>\n      <th>LASTNAME_a</th>\n      <th>YEAROFBIRTH_a</th>\n      <th>PLACEOFBIRTH_a</th>\n      <th>COUNTRY_a</th>\n      <th>CITY_a</th>\n      <th>...</th>\n      <th>YEAROFBIRTH_b</th>\n      <th>PLACEOFBIRTH_b</th>\n      <th>COUNTRY_b</th>\n      <th>CITY_b</th>\n      <th>PLZ_b</th>\n      <th>STREET_b</th>\n      <th>GENDER_b</th>\n      <th>ETHNIC_b</th>\n      <th>RACE_b</th>\n      <th>errors</th>\n    </tr>\n  </thead>\n  <tbody>\n    <tr>\n      <th>0</th>\n      <td>A</td>\n      <td>DL182913</td>\n      <td>nAPFnWpTG5tu1COS</td>\n      <td>AMY</td>\n      <td>DENISE</td>\n      <td>BOGEY</td>\n      <td>1986</td>\n      <td>NC</td>\n      <td>PITT</td>\n      <td>WINTERVILLE</td>\n      <td>...</td>\n      <td>1986</td>\n      <td>NC</td>\n      <td>PITT</td>\n      <td>WINTERVILLE</td>\n      <td>28590</td>\n      <td>DUBLIN</td>\n      <td>F</td>\n      <td>NL</td>\n      <td>W</td>\n      <td>4</td>\n    </tr>\n    <tr>\n      <th>1</th>\n      <td>A</td>\n      <td>EH916944</td>\n      <td>vf0oJmDbtRZ4cPMG</td>\n      <td>ISMAEL</td>\n      <td>TEXIDOR</td>\n      <td>MARTINEZ</td>\n      <td>1982</td>\n      <td>PR</td>\n      <td>WAKE</td>\n      <td>RALEIGH</td>\n      <td>...</td>\n      <td>1982</td>\n      <td>PR</td>\n      <td>WAKE</td>\n      <td>RALEIGH</td>\n      <td>27616</td>\n      <td>WORSHAM</td>\n      <td>M</td>\n      <td>NL</td>\n      <td>O</td>\n      <td>2</td>\n    </tr>\n    <tr>\n      <th>2</th>\n      <td>A</td>\n      <td>BY612694</td>\n      <td>FZ04uIoOfqXn8oPd</td>\n      <td>DAVID</td>\n      <td></td>\n      <td>HAYES</td>\n      <td>1964</td>\n      <td>NC</td>\n      <td>GUILFORD</td>\n      <td>HIGH POINT</td>\n      <td>...</td>\n      <td>1964</td>\n      <td></td>\n      <td>FORSYTH</td>\n      <td>KERNERSVILLE</td>\n      <td>27284</td>\n      <td>PAYNE</td>\n      <td>U</td>\n      <td>UN</td>\n      <td>U</td>\n      <td>7</td>\n    </tr>\n    <tr>\n      <th>3</th>\n      <td>A</td>\n      <td>BH111531</td>\n      <td>gJXMESATxCyeMn1B</td>\n      <td>HEATHER</td>\n      <td>CURTIS</td>\n      <td>HALL</td>\n      <td>1970</td>\n      <td>VA</td>\n      <td>DAVIDSON</td>\n      <td>WINSTON-SALEM</td>\n      <td>...</td>\n      <td>1970</td>\n      <td>VA</td>\n      <td>DAVIDSON</td>\n      <td>WINSTON-SALEM</td>\n      <td>27127</td>\n      <td>MALLARD VIEW</td>\n      <td>F</td>\n      <td>NL</td>\n      <td>W</td>\n      <td>2</td>\n    </tr>\n    <tr>\n      <th>4</th>\n      <td>A</td>\n      <td>EH473223</td>\n      <td>51t3b3gJNqdM8Xfp</td>\n      <td>STACEE</td>\n      <td>YULANDA</td>\n      <td>POWELL</td>\n      <td>1982</td>\n      <td>NC</td>\n      <td>SAMPSON</td>\n      <td>CLINTON</td>\n      <td>...</td>\n      <td>1982</td>\n      <td>NC</td>\n      <td>SAMPSON</td>\n      <td>CLINTON</td>\n      <td>28328</td>\n      <td>FAISON</td>\n      <td>F</td>\n      <td>NL</td>\n      <td>B</td>\n      <td>3</td>\n    </tr>\n  </tbody>\n</table>\n<p>5 rows × 30 columns</p>\n</div>"
     },
     "execution_count": 71,
     "metadata": {},
     "output_type": "execute_result"
    }
   ],
   "source": [
    "attrs = col_names[3:]\n",
    "def count_errors(row):\n",
    "    errors = 0\n",
    "    for attr in attrs:\n",
    "        if row[attr + \"_a\"] != row[attr + \"_b\"]:\n",
    "            errors += 1\n",
    "    return errors\n",
    "\n",
    "pairs[\"errors\"] = pairs.apply(count_errors, axis=1)\n",
    "pairs.head()"
   ],
   "metadata": {
    "collapsed": false
   }
  },
  {
   "cell_type": "code",
   "execution_count": 72,
   "outputs": [
    {
     "data": {
      "text/plain": "          CITY_a         CITY_b COUNTRY_a COUNTRY_b ETHNIC_a ETHNIC_b  \\\n0    WINTERVILLE    WINTERVILLE      PITT      PITT       UN       NL   \n1        RALEIGH        RALEIGH      WAKE      WAKE       NL       NL   \n2     HIGH POINT   KERNERSVILLE  GUILFORD   FORSYTH       UN       UN   \n3  WINSTON-SALEM  WINSTON-SALEM  DAVIDSON  DAVIDSON       NL       NL   \n4        CLINTON        CLINTON   SAMPSON   SAMPSON       NL       NL   \n\n  FIRSTNAME_a FIRSTNAME_b GENDER_a GENDER_b  ...      STREET_a      STREET_b  \\\n0         AMY         AMY        F        F  ...        PATTON        DUBLIN   \n1      ISMAEL      ISMAEL        M        M  ...       WORSHAM       WORSHAM   \n2       DAVID       DAVID        M        U  ...       FRANCIS         PAYNE   \n3     HEATHER     HEATHER        F        F  ...  MALLARD VIEW  MALLARD VIEW   \n4      STACEE      STACEE        F        F  ...         SHAUN        FAISON   \n\n  YEAROFBIRTH_a YEAROFBIRTH_b errors  globalID         localID_a  \\\n0          1986          1986      4  DL182913  nAPFnWpTG5tu1COS   \n1          1982          1982      2  EH916944  vf0oJmDbtRZ4cPMG   \n2          1964          1964      7  BY612694  FZ04uIoOfqXn8oPd   \n3          1970          1970      2  BH111531  gJXMESATxCyeMn1B   \n4          1982          1982      3  EH473223  51t3b3gJNqdM8Xfp   \n\n          localID_b sourceID_a sourceID_b  \n0  HKnmvmMyL3ys5JpW          A          B  \n1  nAd5oRXbbqcarcbV          A          B  \n2  Dv45W64y4UxBkTlw          A          B  \n3  Ry4tJiaKyZhGK9D5          A          B  \n4  5JyOSQArr6rn84DQ          A          B  \n\n[5 rows x 30 columns]",
      "text/html": "<div>\n<style scoped>\n    .dataframe tbody tr th:only-of-type {\n        vertical-align: middle;\n    }\n\n    .dataframe tbody tr th {\n        vertical-align: top;\n    }\n\n    .dataframe thead th {\n        text-align: right;\n    }\n</style>\n<table border=\"1\" class=\"dataframe\">\n  <thead>\n    <tr style=\"text-align: right;\">\n      <th></th>\n      <th>CITY_a</th>\n      <th>CITY_b</th>\n      <th>COUNTRY_a</th>\n      <th>COUNTRY_b</th>\n      <th>ETHNIC_a</th>\n      <th>ETHNIC_b</th>\n      <th>FIRSTNAME_a</th>\n      <th>FIRSTNAME_b</th>\n      <th>GENDER_a</th>\n      <th>GENDER_b</th>\n      <th>...</th>\n      <th>STREET_a</th>\n      <th>STREET_b</th>\n      <th>YEAROFBIRTH_a</th>\n      <th>YEAROFBIRTH_b</th>\n      <th>errors</th>\n      <th>globalID</th>\n      <th>localID_a</th>\n      <th>localID_b</th>\n      <th>sourceID_a</th>\n      <th>sourceID_b</th>\n    </tr>\n  </thead>\n  <tbody>\n    <tr>\n      <th>0</th>\n      <td>WINTERVILLE</td>\n      <td>WINTERVILLE</td>\n      <td>PITT</td>\n      <td>PITT</td>\n      <td>UN</td>\n      <td>NL</td>\n      <td>AMY</td>\n      <td>AMY</td>\n      <td>F</td>\n      <td>F</td>\n      <td>...</td>\n      <td>PATTON</td>\n      <td>DUBLIN</td>\n      <td>1986</td>\n      <td>1986</td>\n      <td>4</td>\n      <td>DL182913</td>\n      <td>nAPFnWpTG5tu1COS</td>\n      <td>HKnmvmMyL3ys5JpW</td>\n      <td>A</td>\n      <td>B</td>\n    </tr>\n    <tr>\n      <th>1</th>\n      <td>RALEIGH</td>\n      <td>RALEIGH</td>\n      <td>WAKE</td>\n      <td>WAKE</td>\n      <td>NL</td>\n      <td>NL</td>\n      <td>ISMAEL</td>\n      <td>ISMAEL</td>\n      <td>M</td>\n      <td>M</td>\n      <td>...</td>\n      <td>WORSHAM</td>\n      <td>WORSHAM</td>\n      <td>1982</td>\n      <td>1982</td>\n      <td>2</td>\n      <td>EH916944</td>\n      <td>vf0oJmDbtRZ4cPMG</td>\n      <td>nAd5oRXbbqcarcbV</td>\n      <td>A</td>\n      <td>B</td>\n    </tr>\n    <tr>\n      <th>2</th>\n      <td>HIGH POINT</td>\n      <td>KERNERSVILLE</td>\n      <td>GUILFORD</td>\n      <td>FORSYTH</td>\n      <td>UN</td>\n      <td>UN</td>\n      <td>DAVID</td>\n      <td>DAVID</td>\n      <td>M</td>\n      <td>U</td>\n      <td>...</td>\n      <td>FRANCIS</td>\n      <td>PAYNE</td>\n      <td>1964</td>\n      <td>1964</td>\n      <td>7</td>\n      <td>BY612694</td>\n      <td>FZ04uIoOfqXn8oPd</td>\n      <td>Dv45W64y4UxBkTlw</td>\n      <td>A</td>\n      <td>B</td>\n    </tr>\n    <tr>\n      <th>3</th>\n      <td>WINSTON-SALEM</td>\n      <td>WINSTON-SALEM</td>\n      <td>DAVIDSON</td>\n      <td>DAVIDSON</td>\n      <td>NL</td>\n      <td>NL</td>\n      <td>HEATHER</td>\n      <td>HEATHER</td>\n      <td>F</td>\n      <td>F</td>\n      <td>...</td>\n      <td>MALLARD VIEW</td>\n      <td>MALLARD VIEW</td>\n      <td>1970</td>\n      <td>1970</td>\n      <td>2</td>\n      <td>BH111531</td>\n      <td>gJXMESATxCyeMn1B</td>\n      <td>Ry4tJiaKyZhGK9D5</td>\n      <td>A</td>\n      <td>B</td>\n    </tr>\n    <tr>\n      <th>4</th>\n      <td>CLINTON</td>\n      <td>CLINTON</td>\n      <td>SAMPSON</td>\n      <td>SAMPSON</td>\n      <td>NL</td>\n      <td>NL</td>\n      <td>STACEE</td>\n      <td>STACEE</td>\n      <td>F</td>\n      <td>F</td>\n      <td>...</td>\n      <td>SHAUN</td>\n      <td>FAISON</td>\n      <td>1982</td>\n      <td>1982</td>\n      <td>3</td>\n      <td>EH473223</td>\n      <td>51t3b3gJNqdM8Xfp</td>\n      <td>5JyOSQArr6rn84DQ</td>\n      <td>A</td>\n      <td>B</td>\n    </tr>\n  </tbody>\n</table>\n<p>5 rows × 30 columns</p>\n</div>"
     },
     "execution_count": 72,
     "metadata": {},
     "output_type": "execute_result"
    }
   ],
   "source": [
    "pairs = pairs.reindex(sorted(pairs.columns), axis=1)\n",
    "pairs.head()"
   ],
   "metadata": {
    "collapsed": false
   }
  },
  {
   "cell_type": "code",
   "execution_count": 73,
   "outputs": [
    {
     "data": {
      "text/plain": "<Figure size 640x480 with 1 Axes>",
      "image/png": "[encoded data removed]"
     },
     "metadata": {},
     "output_type": "display_data"
    }
   ],
   "source": [
    "b = pairs.errors.value_counts().sort_index(ascending=False).plot.bar()\n",
    "b.set_xlabel(\"number of dissimilar columns\")\n",
    "plt.xticks(rotation=0)\n",
    "plt.savefig(\"plots/error-rates/count-errors.png\")"
   ],
   "metadata": {
    "collapsed": false
   }
  },
  {
   "cell_type": "markdown",
   "source": [
    "#### Observation:\n",
    "Number of errors and frequency are linearly correlated"
   ],
   "metadata": {
    "collapsed": false
   }
  },
  {
   "cell_type": "markdown",
   "source": [
    "### 1.2 Errors = average edit-distance across the two rows"
   ],
   "metadata": {
    "collapsed": false
   }
  },
  {
   "cell_type": "code",
   "execution_count": 74,
   "outputs": [
    {
     "data": {
      "text/plain": "2"
     },
     "execution_count": 74,
     "metadata": {},
     "output_type": "execute_result"
    }
   ],
   "source": [
    "import nltk\n",
    "s1 = \"abc\"\n",
    "s2 = \"ebcd\"\n",
    "nltk.edit_distance(s1, s2) # output: 2"
   ],
   "metadata": {
    "collapsed": false
   }
  },
  {
   "cell_type": "code",
   "execution_count": 75,
   "outputs": [],
   "source": [
    "import numpy as np\n",
    "\n",
    "def avg_edit_distance(row):\n",
    "    return np.mean(\n",
    "        [nltk.edit_distance(str(row[attr + \"_a\"]), str(row[attr + \"_b\"]))\n",
    "         for attr in attrs]\n",
    "    )"
   ],
   "metadata": {
    "collapsed": false
   }
  },
  {
   "cell_type": "code",
   "execution_count": 76,
   "outputs": [
    {
     "data": {
      "text/plain": "          CITY_a         CITY_b COUNTRY_a COUNTRY_b ETHNIC_a ETHNIC_b  \\\n0    WINTERVILLE    WINTERVILLE      PITT      PITT       UN       NL   \n1        RALEIGH        RALEIGH      WAKE      WAKE       NL       NL   \n2     HIGH POINT   KERNERSVILLE  GUILFORD   FORSYTH       UN       UN   \n3  WINSTON-SALEM  WINSTON-SALEM  DAVIDSON  DAVIDSON       NL       NL   \n4        CLINTON        CLINTON   SAMPSON   SAMPSON       NL       NL   \n\n  FIRSTNAME_a FIRSTNAME_b GENDER_a GENDER_b  ...      STREET_b YEAROFBIRTH_a  \\\n0         AMY         AMY        F        F  ...        DUBLIN          1986   \n1      ISMAEL      ISMAEL        M        M  ...       WORSHAM          1982   \n2       DAVID       DAVID        M        U  ...         PAYNE          1964   \n3     HEATHER     HEATHER        F        F  ...  MALLARD VIEW          1970   \n4      STACEE      STACEE        F        F  ...        FAISON          1982   \n\n  YEAROFBIRTH_b errors  globalID         localID_a         localID_b  \\\n0          1986      4  DL182913  nAPFnWpTG5tu1COS  HKnmvmMyL3ys5JpW   \n1          1982      2  EH916944  vf0oJmDbtRZ4cPMG  nAd5oRXbbqcarcbV   \n2          1964      7  BY612694  FZ04uIoOfqXn8oPd  Dv45W64y4UxBkTlw   \n3          1970      2  BH111531  gJXMESATxCyeMn1B  Ry4tJiaKyZhGK9D5   \n4          1982      3  EH473223  51t3b3gJNqdM8Xfp  5JyOSQArr6rn84DQ   \n\n  sourceID_a sourceID_b avg_edit_d  \n0          A          B   1.666667  \n1          A          B   1.250000  \n2          A          B   2.583333  \n3          A          B   1.000000  \n4          A          B   1.500000  \n\n[5 rows x 31 columns]",
      "text/html": "<div>\n<style scoped>\n    .dataframe tbody tr th:only-of-type {\n        vertical-align: middle;\n    }\n\n    .dataframe tbody tr th {\n        vertical-align: top;\n    }\n\n    .dataframe thead th {\n        text-align: right;\n    }\n</style>\n<table border=\"1\" class=\"dataframe\">\n  <thead>\n    <tr style=\"text-align: right;\">\n      <th></th>\n      <th>CITY_a</th>\n      <th>CITY_b</th>\n      <th>COUNTRY_a</th>\n      <th>COUNTRY_b</th>\n      <th>ETHNIC_a</th>\n      <th>ETHNIC_b</th>\n      <th>FIRSTNAME_a</th>\n      <th>FIRSTNAME_b</th>\n      <th>GENDER_a</th>\n      <th>GENDER_b</th>\n      <th>...</th>\n      <th>STREET_b</th>\n      <th>YEAROFBIRTH_a</th>\n      <th>YEAROFBIRTH_b</th>\n      <th>errors</th>\n      <th>globalID</th>\n      <th>localID_a</th>\n      <th>localID_b</th>\n      <th>sourceID_a</th>\n      <th>sourceID_b</th>\n      <th>avg_edit_d</th>\n    </tr>\n  </thead>\n  <tbody>\n    <tr>\n      <th>0</th>\n      <td>WINTERVILLE</td>\n      <td>WINTERVILLE</td>\n      <td>PITT</td>\n      <td>PITT</td>\n      <td>UN</td>\n      <td>NL</td>\n      <td>AMY</td>\n      <td>AMY</td>\n      <td>F</td>\n      <td>F</td>\n      <td>...</td>\n      <td>DUBLIN</td>\n      <td>1986</td>\n      <td>1986</td>\n      <td>4</td>\n      <td>DL182913</td>\n      <td>nAPFnWpTG5tu1COS</td>\n      <td>HKnmvmMyL3ys5JpW</td>\n      <td>A</td>\n      <td>B</td>\n      <td>1.666667</td>\n    </tr>\n    <tr>\n      <th>1</th>\n      <td>RALEIGH</td>\n      <td>RALEIGH</td>\n      <td>WAKE</td>\n      <td>WAKE</td>\n      <td>NL</td>\n      <td>NL</td>\n      <td>ISMAEL</td>\n      <td>ISMAEL</td>\n      <td>M</td>\n      <td>M</td>\n      <td>...</td>\n      <td>WORSHAM</td>\n      <td>1982</td>\n      <td>1982</td>\n      <td>2</td>\n      <td>EH916944</td>\n      <td>vf0oJmDbtRZ4cPMG</td>\n      <td>nAd5oRXbbqcarcbV</td>\n      <td>A</td>\n      <td>B</td>\n      <td>1.250000</td>\n    </tr>\n    <tr>\n      <th>2</th>\n      <td>HIGH POINT</td>\n      <td>KERNERSVILLE</td>\n      <td>GUILFORD</td>\n      <td>FORSYTH</td>\n      <td>UN</td>\n      <td>UN</td>\n      <td>DAVID</td>\n      <td>DAVID</td>\n      <td>M</td>\n      <td>U</td>\n      <td>...</td>\n      <td>PAYNE</td>\n      <td>1964</td>\n      <td>1964</td>\n      <td>7</td>\n      <td>BY612694</td>\n      <td>FZ04uIoOfqXn8oPd</td>\n      <td>Dv45W64y4UxBkTlw</td>\n      <td>A</td>\n      <td>B</td>\n      <td>2.583333</td>\n    </tr>\n    <tr>\n      <th>3</th>\n      <td>WINSTON-SALEM</td>\n      <td>WINSTON-SALEM</td>\n      <td>DAVIDSON</td>\n      <td>DAVIDSON</td>\n      <td>NL</td>\n      <td>NL</td>\n      <td>HEATHER</td>\n      <td>HEATHER</td>\n      <td>F</td>\n      <td>F</td>\n      <td>...</td>\n      <td>MALLARD VIEW</td>\n      <td>1970</td>\n      <td>1970</td>\n      <td>2</td>\n      <td>BH111531</td>\n      <td>gJXMESATxCyeMn1B</td>\n      <td>Ry4tJiaKyZhGK9D5</td>\n      <td>A</td>\n      <td>B</td>\n      <td>1.000000</td>\n    </tr>\n    <tr>\n      <th>4</th>\n      <td>CLINTON</td>\n      <td>CLINTON</td>\n      <td>SAMPSON</td>\n      <td>SAMPSON</td>\n      <td>NL</td>\n      <td>NL</td>\n      <td>STACEE</td>\n      <td>STACEE</td>\n      <td>F</td>\n      <td>F</td>\n      <td>...</td>\n      <td>FAISON</td>\n      <td>1982</td>\n      <td>1982</td>\n      <td>3</td>\n      <td>EH473223</td>\n      <td>51t3b3gJNqdM8Xfp</td>\n      <td>5JyOSQArr6rn84DQ</td>\n      <td>A</td>\n      <td>B</td>\n      <td>1.500000</td>\n    </tr>\n  </tbody>\n</table>\n<p>5 rows × 31 columns</p>\n</div>"
     },
     "execution_count": 76,
     "metadata": {},
     "output_type": "execute_result"
    }
   ],
   "source": [
    "pairs[\"avg_edit_d\"] = pairs.apply(avg_edit_distance, axis=1)\n",
    "pairs.head()"
   ],
   "metadata": {
    "collapsed": false
   }
  },
  {
   "cell_type": "code",
   "execution_count": 77,
   "outputs": [
    {
     "data": {
      "text/plain": "<Figure size 640x480 with 1 Axes>",
      "image/png": "[encoded data removed]"
     },
     "metadata": {},
     "output_type": "display_data"
    }
   ],
   "source": [
    "b = pairs.apply(lambda row: round(row.avg_edit_d, ndigits=1), axis=1).value_counts().sort_index().plot.bar()\n",
    "# d = pairs.avg_edit_d.value_counts().sort_index(ascending=False)\n",
    "# plt.scatter(x=d.index, y=d.tolist(), s=6)\n",
    "for label in b.get_xticklabels():\n",
    "            if int(float(label.get_text())) == float(label.get_text()):\n",
    "                label.set_visible(True)\n",
    "            else:\n",
    "                label.set_visible(False)\n",
    "plt.xticks(rotation=0)\n",
    "b.set_xlabel(\"average edit distance\")\n",
    "plt.savefig(\"plots/error-rates/edit-distance.png\")"
   ],
   "metadata": {
    "collapsed": false
   }
  },
  {
   "cell_type": "code",
   "execution_count": 78,
   "outputs": [
    {
     "data": {
      "text/plain": "<Figure size 640x480 with 1 Axes>",
      "image/png": "[encoded data removed]"
     },
     "metadata": {},
     "output_type": "display_data"
    }
   ],
   "source": [
    "p = pairs.plot(x='errors', y='avg_edit_d', style='o')\n",
    "p.set_xlabel(\"number of dissimilar columns\")\n",
    "p.set_ylabel(\"average edit distance\")\n",
    "p.legend([])\n",
    "plt.savefig(\"plots/error-rates/correlation.png\")"
   ],
   "metadata": {
    "collapsed": false
   }
  },
  {
   "cell_type": "markdown",
   "source": [
    "### Observation:\n",
    "Apparent correlation between number of errors and edit-distance"
   ],
   "metadata": {
    "collapsed": false
   }
  },
  {
   "cell_type": "markdown",
   "source": [
    "### Wrap it up"
   ],
   "metadata": {
    "collapsed": false
   }
  },
  {
   "cell_type": "code",
   "execution_count": 79,
   "outputs": [],
   "source": [
    "def get_pairs(df_a: pd.DataFrame, df_b: pd.DataFrame, global_id_col_name=\"globalID\", suffixes=None) -> pd.DataFrame:\n",
    "    if suffixes is None:\n",
    "        suffixes = [\"_a\", \"_b\"]\n",
    "    matches_a, matches_b = get_true_matches(df_a, df_b, global_id_col_name)\n",
    "    return matches_a.merge(matches_b, on=global_id_col_name, suffixes=suffixes)\n",
    "\n",
    "def count_errors(row):\n",
    "    errors = 0\n",
    "    for attr in attrs:\n",
    "        if row[attr + \"_a\"] != row[attr + \"_b\"]:\n",
    "            errors += 1\n",
    "    return errors\n",
    "\n",
    "def avg_edit_distance(row):\n",
    "    return np.mean(\n",
    "        [nltk.edit_distance(str(row[attr + \"_a\"]), str(row[attr + \"_b\"]))\n",
    "         for attr in attrs]\n",
    "    )"
   ],
   "metadata": {
    "collapsed": false
   }
  },
  {
   "cell_type": "code",
   "execution_count": 80,
   "outputs": [
    {
     "ename": "NameError",
     "evalue": "name 'get_true_matches' is not defined",
     "output_type": "error",
     "traceback": [
      "\u001B[0;31m---------------------------------------------------------------------------\u001B[0m",
      "\u001B[0;31mNameError\u001B[0m                                 Traceback (most recent call last)",
      "Cell \u001B[0;32mIn[80], line 1\u001B[0m\n\u001B[0;32m----> 1\u001B[0m pairs \u001B[38;5;241m=\u001B[39m \u001B[43mget_pairs\u001B[49m\u001B[43m(\u001B[49m\u001B[43mdf1\u001B[49m\u001B[43m,\u001B[49m\u001B[43m \u001B[49m\u001B[43mdf2\u001B[49m\u001B[43m)\u001B[49m\n\u001B[1;32m      2\u001B[0m pairs\u001B[38;5;241m.\u001B[39mapply(count_errors, axis\u001B[38;5;241m=\u001B[39m\u001B[38;5;241m1\u001B[39m)\u001B[38;5;241m.\u001B[39mtolist()\n",
      "Cell \u001B[0;32mIn[79], line 4\u001B[0m, in \u001B[0;36mget_pairs\u001B[0;34m(df_a, df_b, global_id_col_name, suffixes)\u001B[0m\n\u001B[1;32m      2\u001B[0m \u001B[38;5;28;01mif\u001B[39;00m suffixes \u001B[38;5;129;01mis\u001B[39;00m \u001B[38;5;28;01mNone\u001B[39;00m:\n\u001B[1;32m      3\u001B[0m     suffixes \u001B[38;5;241m=\u001B[39m [\u001B[38;5;124m\"\u001B[39m\u001B[38;5;124m_a\u001B[39m\u001B[38;5;124m\"\u001B[39m, \u001B[38;5;124m\"\u001B[39m\u001B[38;5;124m_b\u001B[39m\u001B[38;5;124m\"\u001B[39m]\n\u001B[0;32m----> 4\u001B[0m matches_a, matches_b \u001B[38;5;241m=\u001B[39m \u001B[43mget_true_matches\u001B[49m(df_a, df_b, global_id_col_name)\n\u001B[1;32m      5\u001B[0m \u001B[38;5;28;01mreturn\u001B[39;00m matches_a\u001B[38;5;241m.\u001B[39mmerge(matches_b, on\u001B[38;5;241m=\u001B[39mglobal_id_col_name, suffixes\u001B[38;5;241m=\u001B[39msuffixes)\n",
      "\u001B[0;31mNameError\u001B[0m: name 'get_true_matches' is not defined"
     ]
    }
   ],
   "source": [
    "pairs = get_pairs(df1, df2)\n",
    "pairs.apply(count_errors, axis=1).tolist()"
   ],
   "metadata": {
    "collapsed": false
   }
  },
  {
   "cell_type": "markdown",
   "source": [
    "### Question:\n",
    "How does the error rate influence the matching quality?\n",
    "##### TODO"
   ],
   "metadata": {
    "collapsed": false
   }
  },
  {
   "cell_type": "markdown",
   "source": [
    "## 2. Create Dataset Variants with different error rates\n",
    "#### Idea:\n",
    "* get all matching pairs and respective error rates\n",
    "* filter pairs by error rate\n",
    "* -> reduced overlap\n",
    "* if overlap should be preserved, (random-)sample down the non-matches by the same factor"
   ],
   "metadata": {
    "collapsed": false
   }
  },
  {
   "cell_type": "code",
   "execution_count": null,
   "outputs": [],
   "source": [
    "from dataset_properties import get_true_matches, split_by_source_id\n",
    "import pandas as pd\n",
    "import numpy as np"
   ],
   "metadata": {
    "collapsed": false
   }
  },
  {
   "cell_type": "code",
   "execution_count": null,
   "outputs": [],
   "source": [
    "# get the data\n",
    "filepath = \"data/2021_NCVR_Panse_001/dataset_ncvr_dirty.csv\"\n",
    "col_names = \"sourceID,globalID,localID,FIRSTNAME,MIDDLENAME,LASTNAME,YEAROFBIRTH,PLACEOFBIRTH,COUNTRY,CITY,PLZ,STREET,GENDER,ETHNIC,RACE\".split(\",\")\n",
    "df = pd.read_csv(filepath, names=col_names, dtype={\"PLZ\": str, \"YEAROFBIRTH\": int},\n",
    "                              keep_default_na=False)\n",
    "df.shape[0]"
   ],
   "metadata": {
    "collapsed": false
   }
  },
  {
   "cell_type": "code",
   "execution_count": null,
   "outputs": [],
   "source": [
    "def get_pairs(df_a: pd.DataFrame, df_b: pd.DataFrame, global_id_col_name=\"globalID\", suffixes=None) -> pd.DataFrame:\n",
    "    if suffixes is None:\n",
    "        suffixes = [\"_a\", \"_b\"]\n",
    "    matches_a, matches_b = get_true_matches(df_a, df_b, global_id_col_name)\n",
    "    return matches_a.merge(matches_b, on=global_id_col_name, suffixes=suffixes)\n",
    "\n",
    "def filter_by_error_rate(df: pd.DataFrame, min_e, max_e, measure: callable, global_id_col_name=\"globalID\", source_id_col_name=\"sourceID\", preserve_overlap=False, seed: int=None):\n",
    "    \"\"\"\n",
    "    Filter all matching pairs so that only those with the specified error rate remain.\n",
    "    If preserve_overlap = True, sample down non matches to the same factor. In that case, a seed can be specified.\n",
    "    \"\"\"\n",
    "    if not preserve_overlap and seed is not None:\n",
    "        raise ValueError(\"Seed should only be specified if preserve_overlap = True.\")\n",
    "    if min_e > max_e:\n",
    "        raise ValueError(\"min_e must be smaller or equal to max_e\")\n",
    "    df_a, df_b = split_by_source_id(df, source_id_col_name)\n",
    "    pairs = get_pairs(df_a, df_b)\n",
    "    pairs[\"error\"] = pairs.apply(measure, axis=1)\n",
    "    pairs_filtered = pairs[(pairs[\"error\"] >= min_e) &\n",
    "                           (pairs[\"error\"] <= max_e)]\n",
    "    matches_a, matches_b = get_true_matches(df_a, df_b, global_id_col_name)\n",
    "    matches_a_filtered = matches_a[matches_a[global_id_col_name].isin(pairs_filtered[global_id_col_name])]\n",
    "    matches_b_filtered = matches_b[matches_b[global_id_col_name].isin(pairs_filtered[global_id_col_name])]\n",
    "    assert matches_a.shape[0] == matches_b.shape[0]\n",
    "    assert matches_a_filtered.shape[0] == matches_b_filtered.shape[0]\n",
    "    non_matches = df[~df[global_id_col_name].isin(pairs[global_id_col_name])]\n",
    "    if preserve_overlap:\n",
    "        # scale down non-matches to the same factor\n",
    "        sample_size = round(non_matches.shape[0] * matches_a_filtered.shape[0] / matches_a.shape[0])\n",
    "        non_matches = non_matches.sample(sample_size, seed)\n",
    "    return pd.concat([matches_a_filtered, matches_b_filtered, non_matches])"
   ],
   "metadata": {
    "collapsed": false
   }
  },
  {
   "cell_type": "code",
   "execution_count": null,
   "outputs": [],
   "source": [
    "def get_attrs(col_names):\n",
    "    return [c for c in col_names if not c.lower().endswith(\"id\")]\n",
    "\n",
    "def count_errors(row, attrs):\n",
    "    errors = 0\n",
    "    for attr in attrs:\n",
    "        if row[attr + \"_a\"] != row[attr + \"_b\"]:\n",
    "            errors += 1\n",
    "    return errors\n",
    "\n",
    "def avg_edit_distance(row, attrs):\n",
    "    return np.mean(\n",
    "        [nltk.edit_distance(str(row[attr + \"_a\"]), str(row[attr + \"_b\"]))\n",
    "         for attr in attrs]\n",
    "    )"
   ],
   "metadata": {
    "collapsed": false
   }
  },
  {
   "cell_type": "code",
   "execution_count": null,
   "outputs": [],
   "source": [
    "attrs = get_attrs(col_names)"
   ],
   "metadata": {
    "collapsed": false
   }
  },
  {
   "cell_type": "code",
   "execution_count": null,
   "outputs": [],
   "source": [
    "min_e, max_e = (1, 1)\n",
    "measure = lambda row: count_errors(row, attrs)\n",
    "df_filtered = filter_by_error_rate(df, min_e, max_e, measure)"
   ],
   "metadata": {
    "collapsed": false
   }
  },
  {
   "cell_type": "code",
   "execution_count": null,
   "outputs": [],
   "source": [
    "df_filtered.shape[0]"
   ],
   "metadata": {
    "collapsed": false
   }
  },
  {
   "cell_type": "code",
   "execution_count": null,
   "outputs": [],
   "source": [
    "def get_all_errors(df: pd.DataFrame, measure: callable) -> list:\n",
    "    df1, df2 = split_by_source_id(df)\n",
    "    pairs = get_pairs(df1, df2)\n",
    "    return pairs.apply(measure, axis=1).tolist()\n",
    "\n",
    "def test(df, min_e, max_e, measure):\n",
    "    df_filtered = filter_by_error_rate(df, min_e, max_e, measure)\n",
    "    errors = get_all_errors(df_filtered, measure)\n",
    "    return all([min_e <= e <= max_e for e in errors])"
   ],
   "metadata": {
    "collapsed": false
   }
  },
  {
   "cell_type": "code",
   "execution_count": null,
   "outputs": [],
   "source": [
    "min_e, max_e = (1, 1)\n",
    "measure = lambda row: count_errors(row, attrs)\n",
    "test(df, min_e, max_e, measure)"
   ],
   "metadata": {
    "collapsed": false
   }
  },
  {
   "cell_type": "code",
   "execution_count": null,
   "outputs": [],
   "source": [
    "for min_e in range(0, 10):\n",
    "    for max_e in range(min_e, 10):\n",
    "        print(test(df, min_e, max_e, measure))"
   ],
   "metadata": {
    "collapsed": false
   }
  }
 ],
 "metadata": {
  "kernelspec": {
   "name": "rop-3.10",
   "language": "python",
   "display_name": "Python 3.10 (rop-3.10)"
  },
  "language_info": {
   "codemirror_mode": {
    "name": "ipython",
    "version": 2
   },
   "file_extension": ".py",
   "mimetype": "text/x-python",
   "name": "python",
   "nbconvert_exporter": "python",
   "pygments_lexer": "ipython2",
   "version": "2.7.6"
  }
 },
 "nbformat": 4,
 "nbformat_minor": 0
}
