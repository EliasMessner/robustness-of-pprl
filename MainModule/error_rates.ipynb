{
 "cells": [
  {
   "cell_type": "markdown",
   "source": [
    "# Error Rates"
   ],
   "metadata": {
    "collapsed": false
   }
  },
  {
   "cell_type": "markdown",
   "source": [
    "## 1. Measure Error Rate in matching Record Pair"
   ],
   "metadata": {
    "collapsed": false
   }
  },
  {
   "cell_type": "markdown",
   "source": [
    "### 1.1  Error = Number of unequal attributes"
   ],
   "metadata": {
    "collapsed": false
   }
  },
  {
   "cell_type": "code",
   "execution_count": 1,
   "outputs": [],
   "source": [
    "import pandas as pd"
   ],
   "metadata": {
    "collapsed": false
   }
  },
  {
   "cell_type": "code",
   "execution_count": 2,
   "metadata": {
    "collapsed": true
   },
   "outputs": [
    {
     "data": {
      "text/plain": "200000"
     },
     "execution_count": 2,
     "metadata": {},
     "output_type": "execute_result"
    }
   ],
   "source": [
    "# get the data\n",
    "filepath = \"data/2021_NCVR_Panse_001/dataset_ncvr_dirty.csv\"\n",
    "col_names = \"sourceID,globalID,localID,FIRSTNAME,MIDDLENAME,LASTNAME,YEAROFBIRTH,PLACEOFBIRTH,COUNTRY,CITY,PLZ,STREET,GENDER,ETHNIC,RACE\".split(\",\")\n",
    "df = pd.read_csv(filepath, names=col_names, dtype={\"PLZ\": str, \"YEAROFBIRTH\": int},\n",
    "                              keep_default_na=False)\n",
    "df.shape[0]"
   ]
  },
  {
   "cell_type": "code",
   "execution_count": 10,
   "outputs": [],
   "source": [],
   "metadata": {
    "collapsed": false
   }
  },
  {
   "cell_type": "code",
   "execution_count": 3,
   "outputs": [],
   "source": [
    "# split dataset\n",
    "df1 = df[df.sourceID == \"A\"]\n",
    "df2 = df[df.sourceID == \"B\"]"
   ],
   "metadata": {
    "collapsed": false
   }
  },
  {
   "cell_type": "code",
   "execution_count": 6,
   "outputs": [
    {
     "data": {
      "text/plain": "  sourceID_a  globalID                         localID_a FIRSTNAME_a  \\\n0          A   AL82294  202338d686d641a11c6bae62644bd51e        LISA   \n1          A  BL352807  18471fd8e38e1ab6bd8d1545c368faa3      AHRMAD   \n2          A   EA43706  180c3dfaab0583c4b23f137d48ab68ba     WHITNEY   \n3          A   DT90164  58184c1d0360abfee773cc12a6ea76d4     WILLIAM   \n4          A  EH460595  eca1f5379f5282c6a63ee6adcacdacf2     MICHAEL   \n\n  MIDDLENAME_a LASTNAME_a  YEAROFBIRTH_a PLACEOFBIRTH_a COUNTRY_a  \\\n0            F    BALDWIN           1966                 BUNCOMBE   \n1       RASHAD    GRIFFIN           1976                   DURHAM   \n2        MARIE      RAMER           1990             NC    STOKES   \n3         MARK       KING           1966                    ROWAN   \n4            J     MARCHI           1963             CA      WAKE   \n\n           CITY_a  ...   LASTNAME_b YEAROFBIRTH_b PLACEOFBIRTH_b COUNTRY_b  \\\n0  BLACK MOUNTAIN  ...      BALDWIN          1966                 BUNCOMBE   \n1          DURHAM  ...      GRIFFIN          1976             MO    DURHAM   \n2     WALNUT COVE  ...  CZERKIEWICZ          1990             NC    STOKES   \n3       SALISBURY  ...         KING          1966             NC     ROWAN   \n4     WAKE FOREST  ...       MARCHI          1963             CA      WAKE   \n\n           CITY_b  PLZ_b    STREET_b GENDER_b ETHNIC_b RACE_b  \n0  BLACK MOUNTAIN  28711     GENESIS        F       NL      W  \n1          DURHAM  27703    HOLLOWAY        M       UN      B  \n2     WALNUT COVE  27052  PINK SMITH        F       NL      W  \n3       SALISBURY  28147      GODBEY        M       NL      W  \n4     WAKE FOREST  27587    OATLANDS        M       UN      W  \n\n[5 rows x 29 columns]",
      "text/html": "<div>\n<style scoped>\n    .dataframe tbody tr th:only-of-type {\n        vertical-align: middle;\n    }\n\n    .dataframe tbody tr th {\n        vertical-align: top;\n    }\n\n    .dataframe thead th {\n        text-align: right;\n    }\n</style>\n<table border=\"1\" class=\"dataframe\">\n  <thead>\n    <tr style=\"text-align: right;\">\n      <th></th>\n      <th>sourceID_a</th>\n      <th>globalID</th>\n      <th>localID_a</th>\n      <th>FIRSTNAME_a</th>\n      <th>MIDDLENAME_a</th>\n      <th>LASTNAME_a</th>\n      <th>YEAROFBIRTH_a</th>\n      <th>PLACEOFBIRTH_a</th>\n      <th>COUNTRY_a</th>\n      <th>CITY_a</th>\n      <th>...</th>\n      <th>LASTNAME_b</th>\n      <th>YEAROFBIRTH_b</th>\n      <th>PLACEOFBIRTH_b</th>\n      <th>COUNTRY_b</th>\n      <th>CITY_b</th>\n      <th>PLZ_b</th>\n      <th>STREET_b</th>\n      <th>GENDER_b</th>\n      <th>ETHNIC_b</th>\n      <th>RACE_b</th>\n    </tr>\n  </thead>\n  <tbody>\n    <tr>\n      <th>0</th>\n      <td>A</td>\n      <td>AL82294</td>\n      <td>202338d686d641a11c6bae62644bd51e</td>\n      <td>LISA</td>\n      <td>F</td>\n      <td>BALDWIN</td>\n      <td>1966</td>\n      <td></td>\n      <td>BUNCOMBE</td>\n      <td>BLACK MOUNTAIN</td>\n      <td>...</td>\n      <td>BALDWIN</td>\n      <td>1966</td>\n      <td></td>\n      <td>BUNCOMBE</td>\n      <td>BLACK MOUNTAIN</td>\n      <td>28711</td>\n      <td>GENESIS</td>\n      <td>F</td>\n      <td>NL</td>\n      <td>W</td>\n    </tr>\n    <tr>\n      <th>1</th>\n      <td>A</td>\n      <td>BL352807</td>\n      <td>18471fd8e38e1ab6bd8d1545c368faa3</td>\n      <td>AHRMAD</td>\n      <td>RASHAD</td>\n      <td>GRIFFIN</td>\n      <td>1976</td>\n      <td></td>\n      <td>DURHAM</td>\n      <td>DURHAM</td>\n      <td>...</td>\n      <td>GRIFFIN</td>\n      <td>1976</td>\n      <td>MO</td>\n      <td>DURHAM</td>\n      <td>DURHAM</td>\n      <td>27703</td>\n      <td>HOLLOWAY</td>\n      <td>M</td>\n      <td>UN</td>\n      <td>B</td>\n    </tr>\n    <tr>\n      <th>2</th>\n      <td>A</td>\n      <td>EA43706</td>\n      <td>180c3dfaab0583c4b23f137d48ab68ba</td>\n      <td>WHITNEY</td>\n      <td>MARIE</td>\n      <td>RAMER</td>\n      <td>1990</td>\n      <td>NC</td>\n      <td>STOKES</td>\n      <td>WALNUT COVE</td>\n      <td>...</td>\n      <td>CZERKIEWICZ</td>\n      <td>1990</td>\n      <td>NC</td>\n      <td>STOKES</td>\n      <td>WALNUT COVE</td>\n      <td>27052</td>\n      <td>PINK SMITH</td>\n      <td>F</td>\n      <td>NL</td>\n      <td>W</td>\n    </tr>\n    <tr>\n      <th>3</th>\n      <td>A</td>\n      <td>DT90164</td>\n      <td>58184c1d0360abfee773cc12a6ea76d4</td>\n      <td>WILLIAM</td>\n      <td>MARK</td>\n      <td>KING</td>\n      <td>1966</td>\n      <td></td>\n      <td>ROWAN</td>\n      <td>SALISBURY</td>\n      <td>...</td>\n      <td>KING</td>\n      <td>1966</td>\n      <td>NC</td>\n      <td>ROWAN</td>\n      <td>SALISBURY</td>\n      <td>28147</td>\n      <td>GODBEY</td>\n      <td>M</td>\n      <td>NL</td>\n      <td>W</td>\n    </tr>\n    <tr>\n      <th>4</th>\n      <td>A</td>\n      <td>EH460595</td>\n      <td>eca1f5379f5282c6a63ee6adcacdacf2</td>\n      <td>MICHAEL</td>\n      <td>J</td>\n      <td>MARCHI</td>\n      <td>1963</td>\n      <td>CA</td>\n      <td>WAKE</td>\n      <td>WAKE FOREST</td>\n      <td>...</td>\n      <td>MARCHI</td>\n      <td>1963</td>\n      <td>CA</td>\n      <td>WAKE</td>\n      <td>WAKE FOREST</td>\n      <td>27587</td>\n      <td>OATLANDS</td>\n      <td>M</td>\n      <td>UN</td>\n      <td>W</td>\n    </tr>\n  </tbody>\n</table>\n<p>5 rows × 29 columns</p>\n</div>"
     },
     "execution_count": 6,
     "metadata": {},
     "output_type": "execute_result"
    }
   ],
   "source": [
    "# get all matching record pairs\n",
    "matches1 = df1[df1.globalID.isin(df2.globalID)]\n",
    "matches2 = df2[df2.globalID.isin(df1.globalID)]\n",
    "pairs = matches1.merge(matches2, on=\"globalID\", suffixes=[\"_a\", \"_b\"])\n",
    "pairs.head()"
   ],
   "metadata": {
    "collapsed": false
   }
  },
  {
   "cell_type": "code",
   "execution_count": 11,
   "outputs": [
    {
     "data": {
      "text/plain": "  sourceID_a  globalID                         localID_a FIRSTNAME_a  \\\n0          A   AL82294  202338d686d641a11c6bae62644bd51e        LISA   \n1          A  BL352807  18471fd8e38e1ab6bd8d1545c368faa3      AHRMAD   \n2          A   EA43706  180c3dfaab0583c4b23f137d48ab68ba     WHITNEY   \n3          A   DT90164  58184c1d0360abfee773cc12a6ea76d4     WILLIAM   \n4          A  EH460595  eca1f5379f5282c6a63ee6adcacdacf2     MICHAEL   \n\n  MIDDLENAME_a LASTNAME_a  YEAROFBIRTH_a PLACEOFBIRTH_a COUNTRY_a  \\\n0            F    BALDWIN           1966                 BUNCOMBE   \n1       RASHAD    GRIFFIN           1976                   DURHAM   \n2        MARIE      RAMER           1990             NC    STOKES   \n3         MARK       KING           1966                    ROWAN   \n4            J     MARCHI           1963             CA      WAKE   \n\n           CITY_a  ... YEAROFBIRTH_b PLACEOFBIRTH_b COUNTRY_b          CITY_b  \\\n0  BLACK MOUNTAIN  ...          1966                 BUNCOMBE  BLACK MOUNTAIN   \n1          DURHAM  ...          1976             MO    DURHAM          DURHAM   \n2     WALNUT COVE  ...          1990             NC    STOKES     WALNUT COVE   \n3       SALISBURY  ...          1966             NC     ROWAN       SALISBURY   \n4     WAKE FOREST  ...          1963             CA      WAKE     WAKE FOREST   \n\n   PLZ_b    STREET_b GENDER_b ETHNIC_b RACE_b errors  \n0  28711     GENESIS        F       NL      W      1  \n1  27703    HOLLOWAY        M       UN      B      1  \n2  27052  PINK SMITH        F       NL      W      1  \n3  28147      GODBEY        M       NL      W      1  \n4  27587    OATLANDS        M       UN      W      3  \n\n[5 rows x 30 columns]",
      "text/html": "<div>\n<style scoped>\n    .dataframe tbody tr th:only-of-type {\n        vertical-align: middle;\n    }\n\n    .dataframe tbody tr th {\n        vertical-align: top;\n    }\n\n    .dataframe thead th {\n        text-align: right;\n    }\n</style>\n<table border=\"1\" class=\"dataframe\">\n  <thead>\n    <tr style=\"text-align: right;\">\n      <th></th>\n      <th>sourceID_a</th>\n      <th>globalID</th>\n      <th>localID_a</th>\n      <th>FIRSTNAME_a</th>\n      <th>MIDDLENAME_a</th>\n      <th>LASTNAME_a</th>\n      <th>YEAROFBIRTH_a</th>\n      <th>PLACEOFBIRTH_a</th>\n      <th>COUNTRY_a</th>\n      <th>CITY_a</th>\n      <th>...</th>\n      <th>YEAROFBIRTH_b</th>\n      <th>PLACEOFBIRTH_b</th>\n      <th>COUNTRY_b</th>\n      <th>CITY_b</th>\n      <th>PLZ_b</th>\n      <th>STREET_b</th>\n      <th>GENDER_b</th>\n      <th>ETHNIC_b</th>\n      <th>RACE_b</th>\n      <th>errors</th>\n    </tr>\n  </thead>\n  <tbody>\n    <tr>\n      <th>0</th>\n      <td>A</td>\n      <td>AL82294</td>\n      <td>202338d686d641a11c6bae62644bd51e</td>\n      <td>LISA</td>\n      <td>F</td>\n      <td>BALDWIN</td>\n      <td>1966</td>\n      <td></td>\n      <td>BUNCOMBE</td>\n      <td>BLACK MOUNTAIN</td>\n      <td>...</td>\n      <td>1966</td>\n      <td></td>\n      <td>BUNCOMBE</td>\n      <td>BLACK MOUNTAIN</td>\n      <td>28711</td>\n      <td>GENESIS</td>\n      <td>F</td>\n      <td>NL</td>\n      <td>W</td>\n      <td>1</td>\n    </tr>\n    <tr>\n      <th>1</th>\n      <td>A</td>\n      <td>BL352807</td>\n      <td>18471fd8e38e1ab6bd8d1545c368faa3</td>\n      <td>AHRMAD</td>\n      <td>RASHAD</td>\n      <td>GRIFFIN</td>\n      <td>1976</td>\n      <td></td>\n      <td>DURHAM</td>\n      <td>DURHAM</td>\n      <td>...</td>\n      <td>1976</td>\n      <td>MO</td>\n      <td>DURHAM</td>\n      <td>DURHAM</td>\n      <td>27703</td>\n      <td>HOLLOWAY</td>\n      <td>M</td>\n      <td>UN</td>\n      <td>B</td>\n      <td>1</td>\n    </tr>\n    <tr>\n      <th>2</th>\n      <td>A</td>\n      <td>EA43706</td>\n      <td>180c3dfaab0583c4b23f137d48ab68ba</td>\n      <td>WHITNEY</td>\n      <td>MARIE</td>\n      <td>RAMER</td>\n      <td>1990</td>\n      <td>NC</td>\n      <td>STOKES</td>\n      <td>WALNUT COVE</td>\n      <td>...</td>\n      <td>1990</td>\n      <td>NC</td>\n      <td>STOKES</td>\n      <td>WALNUT COVE</td>\n      <td>27052</td>\n      <td>PINK SMITH</td>\n      <td>F</td>\n      <td>NL</td>\n      <td>W</td>\n      <td>1</td>\n    </tr>\n    <tr>\n      <th>3</th>\n      <td>A</td>\n      <td>DT90164</td>\n      <td>58184c1d0360abfee773cc12a6ea76d4</td>\n      <td>WILLIAM</td>\n      <td>MARK</td>\n      <td>KING</td>\n      <td>1966</td>\n      <td></td>\n      <td>ROWAN</td>\n      <td>SALISBURY</td>\n      <td>...</td>\n      <td>1966</td>\n      <td>NC</td>\n      <td>ROWAN</td>\n      <td>SALISBURY</td>\n      <td>28147</td>\n      <td>GODBEY</td>\n      <td>M</td>\n      <td>NL</td>\n      <td>W</td>\n      <td>1</td>\n    </tr>\n    <tr>\n      <th>4</th>\n      <td>A</td>\n      <td>EH460595</td>\n      <td>eca1f5379f5282c6a63ee6adcacdacf2</td>\n      <td>MICHAEL</td>\n      <td>J</td>\n      <td>MARCHI</td>\n      <td>1963</td>\n      <td>CA</td>\n      <td>WAKE</td>\n      <td>WAKE FOREST</td>\n      <td>...</td>\n      <td>1963</td>\n      <td>CA</td>\n      <td>WAKE</td>\n      <td>WAKE FOREST</td>\n      <td>27587</td>\n      <td>OATLANDS</td>\n      <td>M</td>\n      <td>UN</td>\n      <td>W</td>\n      <td>3</td>\n    </tr>\n  </tbody>\n</table>\n<p>5 rows × 30 columns</p>\n</div>"
     },
     "execution_count": 11,
     "metadata": {},
     "output_type": "execute_result"
    }
   ],
   "source": [
    "attrs = col_names[3:]\n",
    "def count_errors(row):\n",
    "    errors = 0\n",
    "    for attr in attrs:\n",
    "        if row[attr + \"_a\"] != row[attr + \"_b\"]:\n",
    "            errors += 1\n",
    "    return errors\n",
    "\n",
    "pairs[\"errors\"] = pairs.apply(count_errors, axis=1)\n",
    "pairs.head()"
   ],
   "metadata": {
    "collapsed": false
   }
  },
  {
   "cell_type": "code",
   "execution_count": 24,
   "outputs": [
    {
     "data": {
      "text/plain": "           CITY_a          CITY_b COUNTRY_a COUNTRY_b ETHNIC_a ETHNIC_b  \\\n0  BLACK MOUNTAIN  BLACK MOUNTAIN  BUNCOMBE  BUNCOMBE       NL       NL   \n1          DURHAM          DURHAM    DURHAM    DURHAM       UN       UN   \n2     WALNUT COVE     WALNUT COVE    STOKES    STOKES       NL       NL   \n3       SALISBURY       SALISBURY     ROWAN     ROWAN       NL       NL   \n4     WAKE FOREST     WAKE FOREST      WAKE      WAKE       NL       UN   \n\n  FIRSTNAME_a FIRSTNAME_b GENDER_a GENDER_b  ...    STREET_a    STREET_b  \\\n0        LISA        LISA        F        F  ...     GENESIS     GENESIS   \n1      AHRMAD      AHRMAD        M        M  ...    HOLLOWAY    HOLLOWAY   \n2     WHITNEY     WHITNEY        F        F  ...  PINK SMITH  PINK SMITH   \n3     WILLIAM     WILLIAM        M        M  ...      GODBEY      GODBEY   \n4     MICHAEL     MICHAEL        M        M  ...   WAKEFALLS    OATLANDS   \n\n  YEAROFBIRTH_a YEAROFBIRTH_b errors  globalID  \\\n0          1966          1966      1   AL82294   \n1          1976          1976      1  BL352807   \n2          1990          1990      1   EA43706   \n3          1966          1966      1   DT90164   \n4          1963          1963      3  EH460595   \n\n                          localID_a                         localID_b  \\\n0  202338d686d641a11c6bae62644bd51e  b720a6610899bd6298aaaf2b0940e936   \n1  18471fd8e38e1ab6bd8d1545c368faa3  208582e62d9b97bf8911bd776181d5f7   \n2  180c3dfaab0583c4b23f137d48ab68ba  53f6d479a1a4f5e8df5cf1147718dd5c   \n3  58184c1d0360abfee773cc12a6ea76d4  41de22873aaae321f51956c8dbc96d77   \n4  eca1f5379f5282c6a63ee6adcacdacf2  bcd5badb125fe45724857a1130ca006b   \n\n  sourceID_a sourceID_b  \n0          A          B  \n1          A          B  \n2          A          B  \n3          A          B  \n4          A          B  \n\n[5 rows x 30 columns]",
      "text/html": "<div>\n<style scoped>\n    .dataframe tbody tr th:only-of-type {\n        vertical-align: middle;\n    }\n\n    .dataframe tbody tr th {\n        vertical-align: top;\n    }\n\n    .dataframe thead th {\n        text-align: right;\n    }\n</style>\n<table border=\"1\" class=\"dataframe\">\n  <thead>\n    <tr style=\"text-align: right;\">\n      <th></th>\n      <th>CITY_a</th>\n      <th>CITY_b</th>\n      <th>COUNTRY_a</th>\n      <th>COUNTRY_b</th>\n      <th>ETHNIC_a</th>\n      <th>ETHNIC_b</th>\n      <th>FIRSTNAME_a</th>\n      <th>FIRSTNAME_b</th>\n      <th>GENDER_a</th>\n      <th>GENDER_b</th>\n      <th>...</th>\n      <th>STREET_a</th>\n      <th>STREET_b</th>\n      <th>YEAROFBIRTH_a</th>\n      <th>YEAROFBIRTH_b</th>\n      <th>errors</th>\n      <th>globalID</th>\n      <th>localID_a</th>\n      <th>localID_b</th>\n      <th>sourceID_a</th>\n      <th>sourceID_b</th>\n    </tr>\n  </thead>\n  <tbody>\n    <tr>\n      <th>0</th>\n      <td>BLACK MOUNTAIN</td>\n      <td>BLACK MOUNTAIN</td>\n      <td>BUNCOMBE</td>\n      <td>BUNCOMBE</td>\n      <td>NL</td>\n      <td>NL</td>\n      <td>LISA</td>\n      <td>LISA</td>\n      <td>F</td>\n      <td>F</td>\n      <td>...</td>\n      <td>GENESIS</td>\n      <td>GENESIS</td>\n      <td>1966</td>\n      <td>1966</td>\n      <td>1</td>\n      <td>AL82294</td>\n      <td>202338d686d641a11c6bae62644bd51e</td>\n      <td>b720a6610899bd6298aaaf2b0940e936</td>\n      <td>A</td>\n      <td>B</td>\n    </tr>\n    <tr>\n      <th>1</th>\n      <td>DURHAM</td>\n      <td>DURHAM</td>\n      <td>DURHAM</td>\n      <td>DURHAM</td>\n      <td>UN</td>\n      <td>UN</td>\n      <td>AHRMAD</td>\n      <td>AHRMAD</td>\n      <td>M</td>\n      <td>M</td>\n      <td>...</td>\n      <td>HOLLOWAY</td>\n      <td>HOLLOWAY</td>\n      <td>1976</td>\n      <td>1976</td>\n      <td>1</td>\n      <td>BL352807</td>\n      <td>18471fd8e38e1ab6bd8d1545c368faa3</td>\n      <td>208582e62d9b97bf8911bd776181d5f7</td>\n      <td>A</td>\n      <td>B</td>\n    </tr>\n    <tr>\n      <th>2</th>\n      <td>WALNUT COVE</td>\n      <td>WALNUT COVE</td>\n      <td>STOKES</td>\n      <td>STOKES</td>\n      <td>NL</td>\n      <td>NL</td>\n      <td>WHITNEY</td>\n      <td>WHITNEY</td>\n      <td>F</td>\n      <td>F</td>\n      <td>...</td>\n      <td>PINK SMITH</td>\n      <td>PINK SMITH</td>\n      <td>1990</td>\n      <td>1990</td>\n      <td>1</td>\n      <td>EA43706</td>\n      <td>180c3dfaab0583c4b23f137d48ab68ba</td>\n      <td>53f6d479a1a4f5e8df5cf1147718dd5c</td>\n      <td>A</td>\n      <td>B</td>\n    </tr>\n    <tr>\n      <th>3</th>\n      <td>SALISBURY</td>\n      <td>SALISBURY</td>\n      <td>ROWAN</td>\n      <td>ROWAN</td>\n      <td>NL</td>\n      <td>NL</td>\n      <td>WILLIAM</td>\n      <td>WILLIAM</td>\n      <td>M</td>\n      <td>M</td>\n      <td>...</td>\n      <td>GODBEY</td>\n      <td>GODBEY</td>\n      <td>1966</td>\n      <td>1966</td>\n      <td>1</td>\n      <td>DT90164</td>\n      <td>58184c1d0360abfee773cc12a6ea76d4</td>\n      <td>41de22873aaae321f51956c8dbc96d77</td>\n      <td>A</td>\n      <td>B</td>\n    </tr>\n    <tr>\n      <th>4</th>\n      <td>WAKE FOREST</td>\n      <td>WAKE FOREST</td>\n      <td>WAKE</td>\n      <td>WAKE</td>\n      <td>NL</td>\n      <td>UN</td>\n      <td>MICHAEL</td>\n      <td>MICHAEL</td>\n      <td>M</td>\n      <td>M</td>\n      <td>...</td>\n      <td>WAKEFALLS</td>\n      <td>OATLANDS</td>\n      <td>1963</td>\n      <td>1963</td>\n      <td>3</td>\n      <td>EH460595</td>\n      <td>eca1f5379f5282c6a63ee6adcacdacf2</td>\n      <td>bcd5badb125fe45724857a1130ca006b</td>\n      <td>A</td>\n      <td>B</td>\n    </tr>\n  </tbody>\n</table>\n<p>5 rows × 30 columns</p>\n</div>"
     },
     "execution_count": 24,
     "metadata": {},
     "output_type": "execute_result"
    }
   ],
   "source": [
    "pairs = pairs.reindex(sorted(pairs.columns), axis=1)\n",
    "pairs.head()"
   ],
   "metadata": {
    "collapsed": false
   }
  },
  {
   "cell_type": "code",
   "execution_count": 25,
   "outputs": [
    {
     "data": {
      "text/plain": "<AxesSubplot:>"
     },
     "execution_count": 25,
     "metadata": {},
     "output_type": "execute_result"
    },
    {
     "data": {
      "text/plain": "<Figure size 640x480 with 1 Axes>",
      "image/png": "[encoded data removed]"
     },
     "metadata": {},
     "output_type": "display_data"
    }
   ],
   "source": [
    "pairs.errors.value_counts().sort_values(ascending=False).plot.bar()"
   ],
   "metadata": {
    "collapsed": false
   }
  }
 ],
 "metadata": {
  "kernelspec": {
   "display_name": "Python 3",
   "language": "python",
   "name": "python3"
  },
  "language_info": {
   "codemirror_mode": {
    "name": "ipython",
    "version": 2
   },
   "file_extension": ".py",
   "mimetype": "text/x-python",
   "name": "python",
   "nbconvert_exporter": "python",
   "pygments_lexer": "ipython2",
   "version": "2.7.6"
  }
 },
 "nbformat": 4,
 "nbformat_minor": 0
}
