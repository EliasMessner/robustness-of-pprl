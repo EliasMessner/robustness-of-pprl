{
 "cells": [
  {
   "cell_type": "markdown",
   "source": [
    "# Jan 9 2023:\n",
    "\n",
    "## Vorüberlegungen:\n",
    "\n",
    "https://www.analyticsvidhya.com/blog/2020/11/handling-imbalanced-data-machine-learning-computer-vision-and-nlp/\n",
    "\n",
    "SMOTE(SyntheticMinorityOversamplingTechnique) — upsampling:-\n",
    "It works based on the KNearestNeighbours algorithm, synthetically generating data points that fall in the proximity of the already existing outnumbered group. The input records should not contain any null values when applying this approach.\n",
    "\n",
    "\t-> https://datascience.stackexchange.com/questions/108342/how-does-smote-work-for-dataset-with-only-categorical-variables\n",
    "\tSMOTE only works on numerical data\n",
    "\tfor purely categorical data, use SMOTEN:\n",
    "\t\thttps://imbalanced-learn.org/dev/references/generated/imblearn.over_sampling.SMOTEN.html#imblearn.over_sampling.SMOTEN\n",
    "\tfor mixed (categorical and numerical) data, use SMOTENC:\n",
    "\t\thttps://imbalanced-learn.org/dev/references/generated/imblearn.over_sampling.SMOTENC.html#imblearn.over_sampling.SMOTENC\n",
    "\n",
    "DataDuplication — upsampling:- In this approach, the existing data points corresponding to the outvoted labels are randomly selected and duplicated.\n",
    "\n",
    "## Umsetzung:\n",
    "\n",
    "SMOTENC upsampling implementiert: kann synthetische records erzeugen\n",
    "Problem:\n",
    "\tBisher werden ID Felder (globalID, localID, sourceID) ignoriert\n",
    "\tWie mit ID Feldern umgehen?\n",
    "\tBzw, wann sollen zwei synthetische records ein match sein und wann nicht?\n",
    "\tAlternative wäre sonst erstmal data duplication\n",
    "\tKorrektur: Data duplication keine gute Idee, weil zusätzliche Duplikate das Matching versauen. Bei ML Problemen einsetzbar, bei RL eher nicht.\n",
    "\n",
    "\n",
    "# Jan 11 2023\n",
    "\n",
    "## Gedanken nach Treffen mit Florens:\n",
    "TODO:\n",
    "* Häufigkeitsverteilung in resampled dataset sollte gleich sein\n",
    "* Datensatz downsamplen -> bleibt overlap gleich?\n",
    "* evt. erstmal downsamplen und ggf. später aus großem (Millionen) Datensatz schöpfen, um nur über subsets/downsamplen gewünschte\n",
    "DS Eigenschaften zu bekommen.\n",
    "\n",
    "## Steps to check if upsampling preserved ds properties:\n",
    "* Sample up\n",
    "* let n=1000, for example\n",
    "* Draw n random samples from original\n",
    "* Draw n random samples from up-sampled\n",
    "* if the property in question is skewness, all random samples must have the same size (because size affects skewness, as noted in programmiertagebuch.md on Jan 11)\n",
    "* for each sample, calculate the property in question and store it in a list, so that you end up with two lists (original and up-sampled), each n records.\n",
    "* do significance test on the two lists, to check if the two distributions are significantly different\n",
    "\n",
    "## Trying to run SMOTENC on the whole dataset to resample it to larger size\n",
    "I just found out the SMOTE complexity lies between O(n²) and O(n³), making it infeasible for large data sets.\n",
    "(See https://datascience.stackexchange.com/questions/48709/svm-smote-fit-resample-function-runs-forever-with-no-result)\n",
    "I ran it on the whole dataset (200k rows) and it hasn't finished after 1 hour.\n",
    "For 1000 rows it takes a few minutes.\n",
    "\n",
    "Solution ideas:\n",
    "* use downsampling instead, as noted above (under TODO)\n",
    "* try to run on cluster"
   ],
   "metadata": {
    "collapsed": false
   }
  },
  {
   "cell_type": "markdown",
   "source": [],
   "metadata": {
    "collapsed": false
   }
  },
  {
   "cell_type": "markdown",
   "source": [
    "## Get the data"
   ],
   "metadata": {
    "collapsed": false
   }
  },
  {
   "cell_type": "code",
   "execution_count": 7,
   "outputs": [],
   "source": [
    "import pandas as pd"
   ],
   "metadata": {
    "collapsed": false
   }
  },
  {
   "cell_type": "code",
   "execution_count": 8,
   "outputs": [
    {
     "data": {
      "text/plain": "200000"
     },
     "execution_count": 8,
     "metadata": {},
     "output_type": "execute_result"
    }
   ],
   "source": [
    "filepath = \"data/2021_NCVR_Panse_001/dataset_ncvr_dirty.csv\"\n",
    "col_names = \"sourceID,globalID,localID,FIRSTNAME,MIDDLENAME,LASTNAME,YEAROFBIRTH,PLACEOFBIRTH,COUNTRY,CITY,PLZ,STREET,GENDER,ETHNIC,RACE\".split(\",\")\n",
    "df = pd.read_csv(filepath, names=col_names, dtype={\"PLZ\": str, \"YEAROFBIRTH\": int},\n",
    "                              keep_default_na=False)\n",
    "df.shape[0]"
   ],
   "metadata": {
    "collapsed": false
   }
  },
  {
   "cell_type": "markdown",
   "source": [
    "# Jan 11, 2023\n",
    "\n",
    "## Measure Skewness of First Names, Male vs Female"
   ],
   "metadata": {
    "collapsed": false
   }
  },
  {
   "cell_type": "code",
   "execution_count": 9,
   "outputs": [
    {
     "data": {
      "text/plain": "16.190111903664548"
     },
     "execution_count": 9,
     "metadata": {},
     "output_type": "execute_result"
    }
   ],
   "source": [
    "df[df.GENDER == \"F\"].FIRSTNAME.value_counts().skew()"
   ],
   "metadata": {
    "collapsed": false
   }
  },
  {
   "cell_type": "code",
   "execution_count": 10,
   "outputs": [
    {
     "data": {
      "text/plain": "12.48531405193897"
     },
     "execution_count": 10,
     "metadata": {},
     "output_type": "execute_result"
    }
   ],
   "source": [
    "df[df.GENDER == \"F\"].sample(50_000).FIRSTNAME.value_counts().skew()"
   ],
   "metadata": {
    "collapsed": false
   }
  },
  {
   "cell_type": "code",
   "execution_count": 11,
   "outputs": [
    {
     "data": {
      "text/plain": "21.14717233878872"
     },
     "execution_count": 11,
     "metadata": {},
     "output_type": "execute_result"
    }
   ],
   "source": [
    "df[df.GENDER == \"M\"].FIRSTNAME.value_counts().skew()"
   ],
   "metadata": {
    "collapsed": false
   }
  },
  {
   "cell_type": "code",
   "execution_count": 12,
   "outputs": [
    {
     "data": {
      "text/plain": "17.565501388622522"
     },
     "execution_count": 12,
     "metadata": {},
     "output_type": "execute_result"
    }
   ],
   "source": [
    "df[df.GENDER == \"M\"].sample(50_000).FIRSTNAME.value_counts().skew()"
   ],
   "metadata": {
    "collapsed": false
   }
  },
  {
   "cell_type": "markdown",
   "source": [
    "Learnings:\n",
    "* positive skew = tail to the right\n",
    "* Skewness amplified by subset size (negative skew becomes smaller, pos. skew becomes lager)\n",
    "* male first names skew larger than female first names skew -> female first names are more divers\n",
    "\t-> explains better precision and lower recall on female subset"
   ],
   "metadata": {
    "collapsed": false
   }
  },
  {
   "cell_type": "markdown",
   "source": [
    "# Jan 12 2023:\n",
    "\n",
    "## Influence of SMOTENC upsampling on skewness"
   ],
   "metadata": {
    "collapsed": false
   }
  },
  {
   "cell_type": "code",
   "execution_count": 13,
   "outputs": [
    {
     "name": "stdout",
     "output_type": "stream",
     "text": [
      "Elapsed time: 12.694753911999214\n"
     ]
    }
   ],
   "source": [
    "from time import perf_counter\n",
    "from resampling import smotenc\n",
    "\n",
    "# sample up\n",
    "original_size = 5000\n",
    "original = df.drop(df.columns[[0, 1, 2]], axis=1).sample(original_size, random_state=42)  # drop ID columns\n",
    "categorical_features = [0, 1, 2, 4, 5, 6, 7, 8, 9, 10, 11]  # all but 3 (year of birth)\n",
    "start = perf_counter()\n",
    "res = smotenc(original, original.shape[0] * 2, categorical_features, random_state=42)\n",
    "stop = perf_counter()\n",
    "print(f\"Elapsed time: {stop-start}\")"
   ],
   "metadata": {
    "collapsed": false
   }
  },
  {
   "cell_type": "code",
   "execution_count": 14,
   "outputs": [
    {
     "data": {
      "text/plain": "       FIRSTNAME MIDDLENAME LASTNAME  YEAROFBIRTH PLACEOFBIRTH      COUNTRY  \\\n119737   MATTHEW    ERSKINE    SMITH         1984           NC      IREDELL   \n72272      HELEN          B  ROSEMAN         1976           NC  MECKLENBURG   \n158154   MAURICE    DONYELL  WIGGINS         1981           DC       ONSLOW   \n65426    CAMILLE      LAJOY  PRYSOCK         1977                   CATAWBA   \n30074     DENISE      MARIE   BEAMER         1975           IN         PITT   \n...          ...        ...      ...          ...          ...          ...   \n170108    CONNIE          D   WILSON         1947           WV       CRAVEN   \n29900     DONALD          R     GORE         1952           NC         WAKE   \n20386     VERTIE              FOSTER         1900           NC       YADKIN   \n83444   TAUJAUNA     TUGMAN   HOWARD         1963           NC        UNION   \n172253   GREGORY        LEE  BRADLEY         1962           NC       DURHAM   \n\n                CITY    PLZ            STREET GENDER ETHNIC RACE  \n119737   MOORESVILLE  28115             CEDAR      M     UN    W  \n72272      CORNELIUS  28031  SHEARWATER POINT      F     NL    W  \n158154  JACKSONVILLE  28546           WINDSOR      M     NL    B  \n65426        HICKORY  28602               9TH      F     NL    B  \n30074        GRIFTON  28530            LEHMAN      F     UN    W  \n...              ...    ...               ...    ...    ...  ...  \n170108      NEW BERN  28562             BADEN      F     NL    W  \n29900        WENDELL  27591       RIDGE HAVEN      M     NL    W  \n20386     JONESVILLE  28642            BETHEL      F     NL    B  \n83444       MATTHEWS  28104         CALITERRA      F     UN    B  \n172253        DURHAM  27707             JAMES      M     NL    B  \n\n[5000 rows x 12 columns]",
      "text/html": "<div>\n<style scoped>\n    .dataframe tbody tr th:only-of-type {\n        vertical-align: middle;\n    }\n\n    .dataframe tbody tr th {\n        vertical-align: top;\n    }\n\n    .dataframe thead th {\n        text-align: right;\n    }\n</style>\n<table border=\"1\" class=\"dataframe\">\n  <thead>\n    <tr style=\"text-align: right;\">\n      <th></th>\n      <th>FIRSTNAME</th>\n      <th>MIDDLENAME</th>\n      <th>LASTNAME</th>\n      <th>YEAROFBIRTH</th>\n      <th>PLACEOFBIRTH</th>\n      <th>COUNTRY</th>\n      <th>CITY</th>\n      <th>PLZ</th>\n      <th>STREET</th>\n      <th>GENDER</th>\n      <th>ETHNIC</th>\n      <th>RACE</th>\n    </tr>\n  </thead>\n  <tbody>\n    <tr>\n      <th>119737</th>\n      <td>MATTHEW</td>\n      <td>ERSKINE</td>\n      <td>SMITH</td>\n      <td>1984</td>\n      <td>NC</td>\n      <td>IREDELL</td>\n      <td>MOORESVILLE</td>\n      <td>28115</td>\n      <td>CEDAR</td>\n      <td>M</td>\n      <td>UN</td>\n      <td>W</td>\n    </tr>\n    <tr>\n      <th>72272</th>\n      <td>HELEN</td>\n      <td>B</td>\n      <td>ROSEMAN</td>\n      <td>1976</td>\n      <td>NC</td>\n      <td>MECKLENBURG</td>\n      <td>CORNELIUS</td>\n      <td>28031</td>\n      <td>SHEARWATER POINT</td>\n      <td>F</td>\n      <td>NL</td>\n      <td>W</td>\n    </tr>\n    <tr>\n      <th>158154</th>\n      <td>MAURICE</td>\n      <td>DONYELL</td>\n      <td>WIGGINS</td>\n      <td>1981</td>\n      <td>DC</td>\n      <td>ONSLOW</td>\n      <td>JACKSONVILLE</td>\n      <td>28546</td>\n      <td>WINDSOR</td>\n      <td>M</td>\n      <td>NL</td>\n      <td>B</td>\n    </tr>\n    <tr>\n      <th>65426</th>\n      <td>CAMILLE</td>\n      <td>LAJOY</td>\n      <td>PRYSOCK</td>\n      <td>1977</td>\n      <td></td>\n      <td>CATAWBA</td>\n      <td>HICKORY</td>\n      <td>28602</td>\n      <td>9TH</td>\n      <td>F</td>\n      <td>NL</td>\n      <td>B</td>\n    </tr>\n    <tr>\n      <th>30074</th>\n      <td>DENISE</td>\n      <td>MARIE</td>\n      <td>BEAMER</td>\n      <td>1975</td>\n      <td>IN</td>\n      <td>PITT</td>\n      <td>GRIFTON</td>\n      <td>28530</td>\n      <td>LEHMAN</td>\n      <td>F</td>\n      <td>UN</td>\n      <td>W</td>\n    </tr>\n    <tr>\n      <th>...</th>\n      <td>...</td>\n      <td>...</td>\n      <td>...</td>\n      <td>...</td>\n      <td>...</td>\n      <td>...</td>\n      <td>...</td>\n      <td>...</td>\n      <td>...</td>\n      <td>...</td>\n      <td>...</td>\n      <td>...</td>\n    </tr>\n    <tr>\n      <th>170108</th>\n      <td>CONNIE</td>\n      <td>D</td>\n      <td>WILSON</td>\n      <td>1947</td>\n      <td>WV</td>\n      <td>CRAVEN</td>\n      <td>NEW BERN</td>\n      <td>28562</td>\n      <td>BADEN</td>\n      <td>F</td>\n      <td>NL</td>\n      <td>W</td>\n    </tr>\n    <tr>\n      <th>29900</th>\n      <td>DONALD</td>\n      <td>R</td>\n      <td>GORE</td>\n      <td>1952</td>\n      <td>NC</td>\n      <td>WAKE</td>\n      <td>WENDELL</td>\n      <td>27591</td>\n      <td>RIDGE HAVEN</td>\n      <td>M</td>\n      <td>NL</td>\n      <td>W</td>\n    </tr>\n    <tr>\n      <th>20386</th>\n      <td>VERTIE</td>\n      <td></td>\n      <td>FOSTER</td>\n      <td>1900</td>\n      <td>NC</td>\n      <td>YADKIN</td>\n      <td>JONESVILLE</td>\n      <td>28642</td>\n      <td>BETHEL</td>\n      <td>F</td>\n      <td>NL</td>\n      <td>B</td>\n    </tr>\n    <tr>\n      <th>83444</th>\n      <td>TAUJAUNA</td>\n      <td>TUGMAN</td>\n      <td>HOWARD</td>\n      <td>1963</td>\n      <td>NC</td>\n      <td>UNION</td>\n      <td>MATTHEWS</td>\n      <td>28104</td>\n      <td>CALITERRA</td>\n      <td>F</td>\n      <td>UN</td>\n      <td>B</td>\n    </tr>\n    <tr>\n      <th>172253</th>\n      <td>GREGORY</td>\n      <td>LEE</td>\n      <td>BRADLEY</td>\n      <td>1962</td>\n      <td>NC</td>\n      <td>DURHAM</td>\n      <td>DURHAM</td>\n      <td>27707</td>\n      <td>JAMES</td>\n      <td>M</td>\n      <td>NL</td>\n      <td>B</td>\n    </tr>\n  </tbody>\n</table>\n<p>5000 rows × 12 columns</p>\n</div>"
     },
     "execution_count": 14,
     "metadata": {},
     "output_type": "execute_result"
    }
   ],
   "source": [
    "original"
   ],
   "metadata": {
    "collapsed": false
   }
  },
  {
   "cell_type": "code",
   "execution_count": 15,
   "outputs": [
    {
     "data": {
      "text/plain": "      FIRSTNAME MIDDLENAME  LASTNAME  YEAROFBIRTH PLACEOFBIRTH      COUNTRY  \\\n0       MATTHEW    ERSKINE     SMITH  1984.000000           NC      IREDELL   \n1         HELEN          B   ROSEMAN  1976.000000           NC  MECKLENBURG   \n2       MAURICE    DONYELL   WIGGINS  1981.000000           DC       ONSLOW   \n3       CAMILLE      LAJOY   PRYSOCK  1977.000000                   CATAWBA   \n4        DENISE      MARIE    BEAMER  1975.000000           IN         PITT   \n...         ...        ...       ...          ...          ...          ...   \n19995     CARLA    JOHANNA   BARNETT  1959.211358                  DAVIDSON   \n19996    STEVEN    ANTHONY      IMES  1967.193497           NC      IREDELL   \n19997  NICHOLAS     ERNEST     SMITH  1997.000000                     UNION   \n19998   JEFFREY             ROBINSON  1980.906702                   JACKSON   \n19999     LARRY      ALLEN   HOPKINS  1938.479126           NC     CHEROKEE   \n\n               CITY    PLZ            STREET GENDER ETHNIC RACE  \n0       MOORESVILLE  28115             CEDAR      M     UN    W  \n1         CORNELIUS  28031  SHEARWATER POINT      F     NL    W  \n2      JACKSONVILLE  28546           WINDSOR      M     NL    B  \n3           HICKORY  28602               9TH      F     NL    B  \n4           GRIFTON  28530            LEHMAN      F     UN    W  \n...             ...    ...               ...    ...    ...  ...  \n19995     LEXINGTON  27295     HUNTERS RIDGE      F     NL    W  \n19996   STATESVILLE  28677       JANE SOWERS      M     NL    W  \n19997        MONROE  28704      THOROUGHBRED      U     UN    U  \n19998         SYLVA  28779             JAMES      M     UN    W  \n19999        MURPHY  28906   OLD MEADOWBROOK      M     NL    W  \n\n[10000 rows x 12 columns]",
      "text/html": "<div>\n<style scoped>\n    .dataframe tbody tr th:only-of-type {\n        vertical-align: middle;\n    }\n\n    .dataframe tbody tr th {\n        vertical-align: top;\n    }\n\n    .dataframe thead th {\n        text-align: right;\n    }\n</style>\n<table border=\"1\" class=\"dataframe\">\n  <thead>\n    <tr style=\"text-align: right;\">\n      <th></th>\n      <th>FIRSTNAME</th>\n      <th>MIDDLENAME</th>\n      <th>LASTNAME</th>\n      <th>YEAROFBIRTH</th>\n      <th>PLACEOFBIRTH</th>\n      <th>COUNTRY</th>\n      <th>CITY</th>\n      <th>PLZ</th>\n      <th>STREET</th>\n      <th>GENDER</th>\n      <th>ETHNIC</th>\n      <th>RACE</th>\n    </tr>\n  </thead>\n  <tbody>\n    <tr>\n      <th>0</th>\n      <td>MATTHEW</td>\n      <td>ERSKINE</td>\n      <td>SMITH</td>\n      <td>1984.000000</td>\n      <td>NC</td>\n      <td>IREDELL</td>\n      <td>MOORESVILLE</td>\n      <td>28115</td>\n      <td>CEDAR</td>\n      <td>M</td>\n      <td>UN</td>\n      <td>W</td>\n    </tr>\n    <tr>\n      <th>1</th>\n      <td>HELEN</td>\n      <td>B</td>\n      <td>ROSEMAN</td>\n      <td>1976.000000</td>\n      <td>NC</td>\n      <td>MECKLENBURG</td>\n      <td>CORNELIUS</td>\n      <td>28031</td>\n      <td>SHEARWATER POINT</td>\n      <td>F</td>\n      <td>NL</td>\n      <td>W</td>\n    </tr>\n    <tr>\n      <th>2</th>\n      <td>MAURICE</td>\n      <td>DONYELL</td>\n      <td>WIGGINS</td>\n      <td>1981.000000</td>\n      <td>DC</td>\n      <td>ONSLOW</td>\n      <td>JACKSONVILLE</td>\n      <td>28546</td>\n      <td>WINDSOR</td>\n      <td>M</td>\n      <td>NL</td>\n      <td>B</td>\n    </tr>\n    <tr>\n      <th>3</th>\n      <td>CAMILLE</td>\n      <td>LAJOY</td>\n      <td>PRYSOCK</td>\n      <td>1977.000000</td>\n      <td></td>\n      <td>CATAWBA</td>\n      <td>HICKORY</td>\n      <td>28602</td>\n      <td>9TH</td>\n      <td>F</td>\n      <td>NL</td>\n      <td>B</td>\n    </tr>\n    <tr>\n      <th>4</th>\n      <td>DENISE</td>\n      <td>MARIE</td>\n      <td>BEAMER</td>\n      <td>1975.000000</td>\n      <td>IN</td>\n      <td>PITT</td>\n      <td>GRIFTON</td>\n      <td>28530</td>\n      <td>LEHMAN</td>\n      <td>F</td>\n      <td>UN</td>\n      <td>W</td>\n    </tr>\n    <tr>\n      <th>...</th>\n      <td>...</td>\n      <td>...</td>\n      <td>...</td>\n      <td>...</td>\n      <td>...</td>\n      <td>...</td>\n      <td>...</td>\n      <td>...</td>\n      <td>...</td>\n      <td>...</td>\n      <td>...</td>\n      <td>...</td>\n    </tr>\n    <tr>\n      <th>19995</th>\n      <td>CARLA</td>\n      <td>JOHANNA</td>\n      <td>BARNETT</td>\n      <td>1959.211358</td>\n      <td></td>\n      <td>DAVIDSON</td>\n      <td>LEXINGTON</td>\n      <td>27295</td>\n      <td>HUNTERS RIDGE</td>\n      <td>F</td>\n      <td>NL</td>\n      <td>W</td>\n    </tr>\n    <tr>\n      <th>19996</th>\n      <td>STEVEN</td>\n      <td>ANTHONY</td>\n      <td>IMES</td>\n      <td>1967.193497</td>\n      <td>NC</td>\n      <td>IREDELL</td>\n      <td>STATESVILLE</td>\n      <td>28677</td>\n      <td>JANE SOWERS</td>\n      <td>M</td>\n      <td>NL</td>\n      <td>W</td>\n    </tr>\n    <tr>\n      <th>19997</th>\n      <td>NICHOLAS</td>\n      <td>ERNEST</td>\n      <td>SMITH</td>\n      <td>1997.000000</td>\n      <td></td>\n      <td>UNION</td>\n      <td>MONROE</td>\n      <td>28704</td>\n      <td>THOROUGHBRED</td>\n      <td>U</td>\n      <td>UN</td>\n      <td>U</td>\n    </tr>\n    <tr>\n      <th>19998</th>\n      <td>JEFFREY</td>\n      <td></td>\n      <td>ROBINSON</td>\n      <td>1980.906702</td>\n      <td></td>\n      <td>JACKSON</td>\n      <td>SYLVA</td>\n      <td>28779</td>\n      <td>JAMES</td>\n      <td>M</td>\n      <td>UN</td>\n      <td>W</td>\n    </tr>\n    <tr>\n      <th>19999</th>\n      <td>LARRY</td>\n      <td>ALLEN</td>\n      <td>HOPKINS</td>\n      <td>1938.479126</td>\n      <td>NC</td>\n      <td>CHEROKEE</td>\n      <td>MURPHY</td>\n      <td>28906</td>\n      <td>OLD MEADOWBROOK</td>\n      <td>M</td>\n      <td>NL</td>\n      <td>W</td>\n    </tr>\n  </tbody>\n</table>\n<p>10000 rows × 12 columns</p>\n</div>"
     },
     "execution_count": 15,
     "metadata": {},
     "output_type": "execute_result"
    }
   ],
   "source": [
    "res"
   ],
   "metadata": {
    "collapsed": false
   }
  },
  {
   "cell_type": "code",
   "execution_count": 16,
   "outputs": [
    {
     "data": {
      "text/plain": "3.799310979689645"
     },
     "execution_count": 16,
     "metadata": {},
     "output_type": "execute_result"
    }
   ],
   "source": [
    "original[original.GENDER == \"F\"].sample(1000).FIRSTNAME.value_counts().skew()"
   ],
   "metadata": {
    "collapsed": false
   }
  },
  {
   "cell_type": "code",
   "execution_count": 17,
   "outputs": [
    {
     "data": {
      "text/plain": "3.9036208186501877"
     },
     "execution_count": 17,
     "metadata": {},
     "output_type": "execute_result"
    }
   ],
   "source": [
    "res[res.GENDER == \"F\"].sample(1000).FIRSTNAME.value_counts().skew()"
   ],
   "metadata": {
    "collapsed": false
   }
  },
  {
   "cell_type": "code",
   "execution_count": 18,
   "outputs": [],
   "source": [
    "n = 1000\n",
    "size = 1000\n",
    "skews_orignal = []\n",
    "skews_res = []\n",
    "for _ in range(n):\n",
    "    skews_orignal.append(original[original.GENDER == \"M\"].sample(size).FIRSTNAME.value_counts().skew())\n",
    "    skews_res.append(res[res.GENDER == \"M\"].sample(size).FIRSTNAME.value_counts().skew())"
   ],
   "metadata": {
    "collapsed": false
   }
  },
  {
   "cell_type": "code",
   "execution_count": 19,
   "outputs": [],
   "source": [
    "from scipy.stats import ttest_ind, describe"
   ],
   "metadata": {
    "collapsed": false
   }
  },
  {
   "cell_type": "code",
   "execution_count": 20,
   "outputs": [
    {
     "data": {
      "text/plain": "DescribeResult(nobs=1000, minmax=(4.635980729539374, 6.163776110632538), mean=5.387363329317303, variance=0.05991665893034635, skewness=0.11716625705634509, kurtosis=-0.18989819817337183)"
     },
     "execution_count": 20,
     "metadata": {},
     "output_type": "execute_result"
    }
   ],
   "source": [
    "describe(skews_orignal)"
   ],
   "metadata": {
    "collapsed": false
   }
  },
  {
   "cell_type": "code",
   "execution_count": 21,
   "outputs": [
    {
     "data": {
      "text/plain": "DescribeResult(nobs=1000, minmax=(5.031590466621371, 6.68770491186547), mean=5.829257860581405, variance=0.07486386013727452, skewness=0.09797169866288152, kurtosis=-0.05962616892646677)"
     },
     "execution_count": 21,
     "metadata": {},
     "output_type": "execute_result"
    }
   ],
   "source": [
    "describe(skews_res)"
   ],
   "metadata": {
    "collapsed": false
   }
  },
  {
   "cell_type": "code",
   "execution_count": 22,
   "outputs": [
    {
     "data": {
      "text/plain": "Ttest_indResult(statistic=-38.063179639350565, pvalue=7.161469072005977e-239)"
     },
     "execution_count": 22,
     "metadata": {},
     "output_type": "execute_result"
    }
   ],
   "source": [
    "ttest_ind(skews_orignal, skews_res)"
   ],
   "metadata": {
    "collapsed": false
   }
  },
  {
   "cell_type": "markdown",
   "source": [
    "### => upsampling significantly increases skewnesses of male first names"
   ],
   "metadata": {
    "collapsed": false
   }
  },
  {
   "cell_type": "code",
   "execution_count": 27,
   "outputs": [],
   "source": [
    "n = 1000\n",
    "size = 1000\n",
    "skews_orignal = []\n",
    "skews_res = []\n",
    "for _ in range(n):\n",
    "    skews_orignal.append(original[original.GENDER == \"F\"].sample(size).FIRSTNAME.value_counts().skew())\n",
    "    skews_res.append(res[res.GENDER == \"F\"].sample(size).FIRSTNAME.value_counts().skew())"
   ],
   "metadata": {
    "collapsed": false
   }
  },
  {
   "cell_type": "code",
   "execution_count": 28,
   "outputs": [
    {
     "data": {
      "text/plain": "DescribeResult(nobs=1000, minmax=(2.7011546165296294, 6.782843211177342), mean=3.8841015070814473, variance=0.2602796622676175, skewness=0.8372279482619696, kurtosis=1.5809580596857993)"
     },
     "execution_count": 28,
     "metadata": {},
     "output_type": "execute_result"
    }
   ],
   "source": [
    "describe(skews_orignal)"
   ],
   "metadata": {
    "collapsed": false
   }
  },
  {
   "cell_type": "code",
   "execution_count": 29,
   "outputs": [
    {
     "data": {
      "text/plain": "DescribeResult(nobs=1000, minmax=(2.5472132932324496, 7.2468158387529416), mean=4.022322389623218, variance=0.44654805153016575, skewness=0.8142021840431486, kurtosis=1.0382674956004418)"
     },
     "execution_count": 29,
     "metadata": {},
     "output_type": "execute_result"
    }
   ],
   "source": [
    "describe(skews_res)"
   ],
   "metadata": {
    "collapsed": false
   }
  },
  {
   "cell_type": "code",
   "execution_count": 30,
   "outputs": [
    {
     "data": {
      "text/plain": "Ttest_indResult(statistic=-5.198964799426186, pvalue=2.2086305999541598e-07)"
     },
     "execution_count": 30,
     "metadata": {},
     "output_type": "execute_result"
    }
   ],
   "source": [
    "ttest_ind(skews_orignal, skews_res)"
   ],
   "metadata": {
    "collapsed": false
   }
  },
  {
   "cell_type": "markdown",
   "source": [
    "### => upsampling significantly increases skewnesses of both male and female first names"
   ],
   "metadata": {
    "collapsed": false
   }
  },
  {
   "cell_type": "markdown",
   "source": [
    "### Another Problem with SMOTE, SMOTE Runtime is in O(n³). Anything over 6000 Records does not terminate."
   ],
   "metadata": {
    "collapsed": false
   }
  }
 ],
 "metadata": {
  "kernelspec": {
   "display_name": "Python 3",
   "language": "python",
   "name": "python3"
  },
  "language_info": {
   "codemirror_mode": {
    "name": "ipython",
    "version": 2
   },
   "file_extension": ".py",
   "mimetype": "text/x-python",
   "name": "python",
   "nbconvert_exporter": "python",
   "pygments_lexer": "ipython2",
   "version": "2.7.6"
  }
 },
 "nbformat": 4,
 "nbformat_minor": 0
}
