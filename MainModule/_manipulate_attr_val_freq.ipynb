{
 "cells": [
  {
   "cell_type": "markdown",
   "source": [
    "# Manipulate Attribute Value Frequencies\n",
    "### Idea:\n",
    "* Split DS into subsets with different attribute values (or ranges for numerical attributes)\n",
    "* Draw as much as needed from the subsets, to compose the desired attribute value distribution"
   ],
   "metadata": {
    "collapsed": false
   }
  },
  {
   "cell_type": "code",
   "execution_count": 1,
   "outputs": [
    {
     "data": {
      "text/plain": "  sourceID  globalID                           localID FIRSTNAME MIDDLENAME  \\\n0        A   AM28693  1fdc308dcc35344c6d5c20845fad641d       SUE     BARNES   \n1        A   CZ67291  b36b8c16c743ed415c6a7f3fc1a3b859    RONALD     EUGENE   \n2        A  BN204837  401b7f6f5e107dbb009da197a2b05d9e    DEIDRE    MARLANA   \n3        A  EH737737  85f059d91b803b5835a8b9762a3170cb      KURT              \n4        A   DT41462  f70a42ce915731cabafc5daa1bfbceeb     WORTH      BROWN   \n\n   LASTNAME  YEAROFBIRTH PLACEOFBIRTH  COUNTRY           CITY    PLZ  \\\n0  SHUFFLER         1946                 BURKE        VALDESE  28690   \n1  LATTIMER         1953           OH    MOORE      PINEHURST  28374   \n2    MARTIN         1973           NC  FORSYTH  WINSTON SALEM  27105   \n3     BALEN         1968           PA     WAKE           APEX  27502   \n4     FOUTZ         1919                 ROWAN      SALISBURY  28146   \n\n           STREET GENDER ETHNIC RACE  \n0  LAKEVIEW ACRES      F     NL    W  \n1    BURNING TREE      M     NL    W  \n2     CARVER GLEN      F     NL    B  \n3    ASHLEY DOWNS      M     NL    W  \n4        MORRISON      M     NL    W  ",
      "text/html": "<div>\n<style scoped>\n    .dataframe tbody tr th:only-of-type {\n        vertical-align: middle;\n    }\n\n    .dataframe tbody tr th {\n        vertical-align: top;\n    }\n\n    .dataframe thead th {\n        text-align: right;\n    }\n</style>\n<table border=\"1\" class=\"dataframe\">\n  <thead>\n    <tr style=\"text-align: right;\">\n      <th></th>\n      <th>sourceID</th>\n      <th>globalID</th>\n      <th>localID</th>\n      <th>FIRSTNAME</th>\n      <th>MIDDLENAME</th>\n      <th>LASTNAME</th>\n      <th>YEAROFBIRTH</th>\n      <th>PLACEOFBIRTH</th>\n      <th>COUNTRY</th>\n      <th>CITY</th>\n      <th>PLZ</th>\n      <th>STREET</th>\n      <th>GENDER</th>\n      <th>ETHNIC</th>\n      <th>RACE</th>\n    </tr>\n  </thead>\n  <tbody>\n    <tr>\n      <th>0</th>\n      <td>A</td>\n      <td>AM28693</td>\n      <td>1fdc308dcc35344c6d5c20845fad641d</td>\n      <td>SUE</td>\n      <td>BARNES</td>\n      <td>SHUFFLER</td>\n      <td>1946</td>\n      <td></td>\n      <td>BURKE</td>\n      <td>VALDESE</td>\n      <td>28690</td>\n      <td>LAKEVIEW ACRES</td>\n      <td>F</td>\n      <td>NL</td>\n      <td>W</td>\n    </tr>\n    <tr>\n      <th>1</th>\n      <td>A</td>\n      <td>CZ67291</td>\n      <td>b36b8c16c743ed415c6a7f3fc1a3b859</td>\n      <td>RONALD</td>\n      <td>EUGENE</td>\n      <td>LATTIMER</td>\n      <td>1953</td>\n      <td>OH</td>\n      <td>MOORE</td>\n      <td>PINEHURST</td>\n      <td>28374</td>\n      <td>BURNING TREE</td>\n      <td>M</td>\n      <td>NL</td>\n      <td>W</td>\n    </tr>\n    <tr>\n      <th>2</th>\n      <td>A</td>\n      <td>BN204837</td>\n      <td>401b7f6f5e107dbb009da197a2b05d9e</td>\n      <td>DEIDRE</td>\n      <td>MARLANA</td>\n      <td>MARTIN</td>\n      <td>1973</td>\n      <td>NC</td>\n      <td>FORSYTH</td>\n      <td>WINSTON SALEM</td>\n      <td>27105</td>\n      <td>CARVER GLEN</td>\n      <td>F</td>\n      <td>NL</td>\n      <td>B</td>\n    </tr>\n    <tr>\n      <th>3</th>\n      <td>A</td>\n      <td>EH737737</td>\n      <td>85f059d91b803b5835a8b9762a3170cb</td>\n      <td>KURT</td>\n      <td></td>\n      <td>BALEN</td>\n      <td>1968</td>\n      <td>PA</td>\n      <td>WAKE</td>\n      <td>APEX</td>\n      <td>27502</td>\n      <td>ASHLEY DOWNS</td>\n      <td>M</td>\n      <td>NL</td>\n      <td>W</td>\n    </tr>\n    <tr>\n      <th>4</th>\n      <td>A</td>\n      <td>DT41462</td>\n      <td>f70a42ce915731cabafc5daa1bfbceeb</td>\n      <td>WORTH</td>\n      <td>BROWN</td>\n      <td>FOUTZ</td>\n      <td>1919</td>\n      <td></td>\n      <td>ROWAN</td>\n      <td>SALISBURY</td>\n      <td>28146</td>\n      <td>MORRISON</td>\n      <td>M</td>\n      <td>NL</td>\n      <td>W</td>\n    </tr>\n  </tbody>\n</table>\n</div>"
     },
     "execution_count": 1,
     "metadata": {},
     "output_type": "execute_result"
    }
   ],
   "source": [
    "import pandas as pd\n",
    "from dataset_modifier import random_sample_wrapper\n",
    "# get the data\n",
    "filepath = \"data/2021_NCVR_Panse_001/dataset_ncvr_dirty.csv\"\n",
    "col_names = \"sourceID,globalID,localID,FIRSTNAME,MIDDLENAME,LASTNAME,YEAROFBIRTH,PLACEOFBIRTH,COUNTRY,CITY,PLZ,STREET,GENDER,ETHNIC,RACE\".split(\",\")\n",
    "df = pd.read_csv(filepath, names=col_names, dtype={\"PLZ\": str, \"YEAROFBIRTH\": int},\n",
    "                              keep_default_na=False)\n",
    "df.head()"
   ],
   "metadata": {
    "collapsed": false
   }
  },
  {
   "cell_type": "markdown",
   "source": [
    "### 1. Categorical attributes"
   ],
   "metadata": {
    "collapsed": false
   }
  },
  {
   "cell_type": "markdown",
   "source": [
    "#### 1.1 Explicit specification of portions\n",
    "Given for example: 75% male, 25% female"
   ],
   "metadata": {
    "collapsed": false
   }
  },
  {
   "cell_type": "code",
   "execution_count": 2,
   "outputs": [],
   "source": [
    "attr = \"GENDER\"\n",
    "desired_distr = {\"M\": 0.75, \"F\": 0.25}\n",
    "desired_size = 50_000"
   ],
   "metadata": {
    "collapsed": false
   }
  },
  {
   "cell_type": "code",
   "execution_count": 3,
   "outputs": [
    {
     "data": {
      "text/plain": "array(['F', 'M', 'U'], dtype=object)"
     },
     "execution_count": 3,
     "metadata": {},
     "output_type": "execute_result"
    }
   ],
   "source": [
    "possible_values = df.GENDER.unique()\n",
    "possible_values"
   ],
   "metadata": {
    "collapsed": false
   }
  },
  {
   "cell_type": "code",
   "execution_count": 4,
   "outputs": [
    {
     "data": {
      "text/plain": "True"
     },
     "execution_count": 4,
     "metadata": {},
     "output_type": "execute_result"
    }
   ],
   "source": [
    "# make sure there are only possible values given\n",
    "all([key in possible_values for key in desired_distr.keys()])"
   ],
   "metadata": {
    "collapsed": false
   }
  },
  {
   "cell_type": "code",
   "execution_count": 5,
   "outputs": [],
   "source": [
    "# round to the next even integer, because random_sample requires total size divisible by two\n",
    "def round_to_even(f):\n",
    "    return round(f / 2.) * 2"
   ],
   "metadata": {
    "collapsed": false
   }
  },
  {
   "cell_type": "code",
   "execution_count": 6,
   "outputs": [
    {
     "data": {
      "text/plain": "True"
     },
     "execution_count": 6,
     "metadata": {},
     "output_type": "execute_result"
    }
   ],
   "source": [
    "# check if the desired size is possible\n",
    "def size_possible():\n",
    "    for key, portion in desired_distr.items():\n",
    "        if round(portion * desired_size) > df[df[attr]==key].shape[0]:\n",
    "            return False\n",
    "    return True\n",
    "size_possible()"
   ],
   "metadata": {
    "collapsed": false
   }
  },
  {
   "cell_type": "code",
   "execution_count": 7,
   "outputs": [],
   "source": [
    "# draw randomly according to the desired distribution\n",
    "result_subsets = [random_sample_wrapper(df[df[attr]==key], total_sample_size=round_to_even(portion*desired_size), seed=42)\n",
    "                  for key, portion in desired_distr.items()]"
   ],
   "metadata": {
    "collapsed": false
   }
  },
  {
   "cell_type": "code",
   "execution_count": 8,
   "outputs": [
    {
     "data": {
      "text/plain": "M    0.75\nF    0.25\nName: GENDER, dtype: float64"
     },
     "execution_count": 8,
     "metadata": {},
     "output_type": "execute_result"
    }
   ],
   "source": [
    "# concatenate all and check the result\n",
    "result = pd.concat(result_subsets)\n",
    "result.GENDER.value_counts().map(lambda count: count / result.shape[0])"
   ],
   "metadata": {
    "collapsed": false
   }
  },
  {
   "cell_type": "markdown",
   "source": [
    "#### 1.2 Implicit specification of portions\n",
    "##### Example:\n",
    "* portion of males should be 150% compared to base dataset\n",
    "* -> if original is 50% M, 45% F, 5% U, then it should come out as 75% M, 22.5% F, 2.5% U"
   ],
   "metadata": {
    "collapsed": false
   }
  },
  {
   "cell_type": "code",
   "execution_count": null,
   "outputs": [],
   "source": [
    "# TODO"
   ],
   "metadata": {
    "collapsed": false
   }
  },
  {
   "cell_type": "markdown",
   "source": [
    "### 2. Numerical Attributes"
   ],
   "metadata": {
    "collapsed": false
   }
  },
  {
   "cell_type": "code",
   "execution_count": null,
   "outputs": [],
   "source": [
    "# TODO"
   ],
   "metadata": {
    "collapsed": false
   }
  },
  {
   "cell_type": "markdown",
   "source": [],
   "metadata": {
    "collapsed": false
   }
  }
 ],
 "metadata": {
  "kernelspec": {
   "display_name": "Python 3",
   "language": "python",
   "name": "python3"
  },
  "language_info": {
   "codemirror_mode": {
    "name": "ipython",
    "version": 2
   },
   "file_extension": ".py",
   "mimetype": "text/x-python",
   "name": "python",
   "nbconvert_exporter": "python",
   "pygments_lexer": "ipython2",
   "version": "2.7.6"
  }
 },
 "nbformat": 4,
 "nbformat_minor": 0
}
