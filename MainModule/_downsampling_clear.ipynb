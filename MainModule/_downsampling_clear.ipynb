{
 "cells": [
  {
   "cell_type": "markdown",
   "source": [
    "# Downsampling\n",
    "## Idea:\n",
    "* Two dataset variants have different sizes, need same size to compare other dataset properties\n",
    "* -> sample down the larger one, i.e. draw a random sample\n",
    "## Potential Risks:\n",
    "* are other dataset properties affected by the downsampling?\n",
    "    * Overlap\n",
    "    * Error rate\n",
    "    * Attribute-value frequencies, skewnesses"
   ],
   "metadata": {
    "collapsed": false
   }
  },
  {
   "cell_type": "code",
   "execution_count": 4,
   "outputs": [
    {
     "data": {
      "text/plain": "  sourceID  globalID                           localID FIRSTNAME MIDDLENAME  \\\n0        A   AM28693  1fdc308dcc35344c6d5c20845fad641d       SUE     BARNES   \n1        A   CZ67291  b36b8c16c743ed415c6a7f3fc1a3b859    RONALD     EUGENE   \n2        A  BN204837  401b7f6f5e107dbb009da197a2b05d9e    DEIDRE    MARLANA   \n3        A  EH737737  85f059d91b803b5835a8b9762a3170cb      KURT              \n4        A   DT41462  f70a42ce915731cabafc5daa1bfbceeb     WORTH      BROWN   \n\n   LASTNAME  YEAROFBIRTH PLACEOFBIRTH  COUNTRY           CITY    PLZ  \\\n0  SHUFFLER         1946                 BURKE        VALDESE  28690   \n1  LATTIMER         1953           OH    MOORE      PINEHURST  28374   \n2    MARTIN         1973           NC  FORSYTH  WINSTON SALEM  27105   \n3     BALEN         1968           PA     WAKE           APEX  27502   \n4     FOUTZ         1919                 ROWAN      SALISBURY  28146   \n\n           STREET GENDER ETHNIC RACE  \n0  LAKEVIEW ACRES      F     NL    W  \n1    BURNING TREE      M     NL    W  \n2     CARVER GLEN      F     NL    B  \n3    ASHLEY DOWNS      M     NL    W  \n4        MORRISON      M     NL    W  ",
      "text/html": "<div>\n<style scoped>\n    .dataframe tbody tr th:only-of-type {\n        vertical-align: middle;\n    }\n\n    .dataframe tbody tr th {\n        vertical-align: top;\n    }\n\n    .dataframe thead th {\n        text-align: right;\n    }\n</style>\n<table border=\"1\" class=\"dataframe\">\n  <thead>\n    <tr style=\"text-align: right;\">\n      <th></th>\n      <th>sourceID</th>\n      <th>globalID</th>\n      <th>localID</th>\n      <th>FIRSTNAME</th>\n      <th>MIDDLENAME</th>\n      <th>LASTNAME</th>\n      <th>YEAROFBIRTH</th>\n      <th>PLACEOFBIRTH</th>\n      <th>COUNTRY</th>\n      <th>CITY</th>\n      <th>PLZ</th>\n      <th>STREET</th>\n      <th>GENDER</th>\n      <th>ETHNIC</th>\n      <th>RACE</th>\n    </tr>\n  </thead>\n  <tbody>\n    <tr>\n      <th>0</th>\n      <td>A</td>\n      <td>AM28693</td>\n      <td>1fdc308dcc35344c6d5c20845fad641d</td>\n      <td>SUE</td>\n      <td>BARNES</td>\n      <td>SHUFFLER</td>\n      <td>1946</td>\n      <td></td>\n      <td>BURKE</td>\n      <td>VALDESE</td>\n      <td>28690</td>\n      <td>LAKEVIEW ACRES</td>\n      <td>F</td>\n      <td>NL</td>\n      <td>W</td>\n    </tr>\n    <tr>\n      <th>1</th>\n      <td>A</td>\n      <td>CZ67291</td>\n      <td>b36b8c16c743ed415c6a7f3fc1a3b859</td>\n      <td>RONALD</td>\n      <td>EUGENE</td>\n      <td>LATTIMER</td>\n      <td>1953</td>\n      <td>OH</td>\n      <td>MOORE</td>\n      <td>PINEHURST</td>\n      <td>28374</td>\n      <td>BURNING TREE</td>\n      <td>M</td>\n      <td>NL</td>\n      <td>W</td>\n    </tr>\n    <tr>\n      <th>2</th>\n      <td>A</td>\n      <td>BN204837</td>\n      <td>401b7f6f5e107dbb009da197a2b05d9e</td>\n      <td>DEIDRE</td>\n      <td>MARLANA</td>\n      <td>MARTIN</td>\n      <td>1973</td>\n      <td>NC</td>\n      <td>FORSYTH</td>\n      <td>WINSTON SALEM</td>\n      <td>27105</td>\n      <td>CARVER GLEN</td>\n      <td>F</td>\n      <td>NL</td>\n      <td>B</td>\n    </tr>\n    <tr>\n      <th>3</th>\n      <td>A</td>\n      <td>EH737737</td>\n      <td>85f059d91b803b5835a8b9762a3170cb</td>\n      <td>KURT</td>\n      <td></td>\n      <td>BALEN</td>\n      <td>1968</td>\n      <td>PA</td>\n      <td>WAKE</td>\n      <td>APEX</td>\n      <td>27502</td>\n      <td>ASHLEY DOWNS</td>\n      <td>M</td>\n      <td>NL</td>\n      <td>W</td>\n    </tr>\n    <tr>\n      <th>4</th>\n      <td>A</td>\n      <td>DT41462</td>\n      <td>f70a42ce915731cabafc5daa1bfbceeb</td>\n      <td>WORTH</td>\n      <td>BROWN</td>\n      <td>FOUTZ</td>\n      <td>1919</td>\n      <td></td>\n      <td>ROWAN</td>\n      <td>SALISBURY</td>\n      <td>28146</td>\n      <td>MORRISON</td>\n      <td>M</td>\n      <td>NL</td>\n      <td>W</td>\n    </tr>\n  </tbody>\n</table>\n</div>"
     },
     "execution_count": 4,
     "metadata": {},
     "output_type": "execute_result"
    }
   ],
   "source": [
    "# get the dataset\n",
    "import pandas as pd\n",
    "# get the data\n",
    "filepath = \"data/2021_NCVR_Panse_001/dataset_ncvr_dirty.csv\"\n",
    "col_names = \"sourceID,globalID,localID,FIRSTNAME,MIDDLENAME,LASTNAME,YEAROFBIRTH,PLACEOFBIRTH,COUNTRY,CITY,PLZ,STREET,GENDER,ETHNIC,RACE\".split(\",\")\n",
    "df = pd.read_csv(filepath, names=col_names, dtype={\"PLZ\": str, \"YEAROFBIRTH\": int},\n",
    "                              keep_default_na=False)\n",
    "df.head()"
   ],
   "metadata": {
    "collapsed": false
   }
  },
  {
   "cell_type": "markdown",
   "source": [
    "## 1. Does Downsampling affect overlap?\n",
    "#### @Florens, 1. kannst du eigentlich überspringen, habs nur mit rein getan falls du doch genauer wissen willst, wie die downsampling Methode funktioniert und wie sie zustande gekommen ist."
   ],
   "metadata": {
    "collapsed": false
   }
  },
  {
   "cell_type": "code",
   "execution_count": 5,
   "outputs": [],
   "source": [
    "def get_overlap(df1: pd.DataFrame, df2: pd.DataFrame, global_id_col_name=\"globalID\"):\n",
    "    \"\"\"\n",
    "    Returns overlap of a given dataset. Overlap is calculated wrt. size of one source,\n",
    "    which means that if there are two datasets A and B with each 100 records,\n",
    "    20 of which are matches and 80 non-matches, then the overlap will be 0.2.\n",
    "    :param df1: All records in source A\n",
    "    :param df2: All records in source B\n",
    "    :return: Overlap value between 0 and 1.\n",
    "    :rtype: float\n",
    "    \"\"\"\n",
    "    df = pd.concat([df1, df2])\n",
    "    intersect = pd.merge(df1, df2, how=\"inner\", on=[global_id_col_name])\n",
    "    return 2 * intersect.shape[0] / df.shape[0]"
   ],
   "metadata": {
    "collapsed": false
   }
  },
  {
   "cell_type": "code",
   "execution_count": 6,
   "outputs": [],
   "source": [
    "def split_by_source_id(df: pd.DataFrame, source_id_col_name=\"sourceID\", number_of_sources=2):\n",
    "    sources = [x for _, x in df.groupby(source_id_col_name)]\n",
    "    if number_of_sources is not None and len(sources) != number_of_sources:\n",
    "        raise ValueError(f\"Expected {number_of_sources} sources but found {len(sources)}.\")\n",
    "    return sources"
   ],
   "metadata": {
    "collapsed": false
   }
  },
  {
   "cell_type": "code",
   "execution_count": 7,
   "outputs": [],
   "source": [
    "def split_and_get_overlap(df: pd.DataFrame, global_id_col_name=\"globalID\", source_id_col_name=\"sourceID\",\n",
    "                          number_of_sources=2):\n",
    "    df1, df2 = split_by_source_id(df, source_id_col_name, number_of_sources)\n",
    "    return get_overlap(df1, df2, global_id_col_name)"
   ],
   "metadata": {
    "collapsed": false
   }
  },
  {
   "cell_type": "code",
   "execution_count": 8,
   "outputs": [
    {
     "data": {
      "text/plain": "0.2"
     },
     "execution_count": 8,
     "metadata": {},
     "output_type": "execute_result"
    }
   ],
   "source": [
    "split_and_get_overlap(df)"
   ],
   "metadata": {
    "collapsed": false
   }
  },
  {
   "cell_type": "code",
   "execution_count": 9,
   "outputs": [
    {
     "data": {
      "text/plain": "0.1007"
     },
     "execution_count": 9,
     "metadata": {},
     "output_type": "execute_result"
    }
   ],
   "source": [
    "sample = df.sample(100_000, random_state=42)\n",
    "split_and_get_overlap(sample)"
   ],
   "metadata": {
    "collapsed": false
   }
  },
  {
   "cell_type": "code",
   "execution_count": 10,
   "outputs": [
    {
     "data": {
      "text/plain": "0.04996"
     },
     "execution_count": 10,
     "metadata": {},
     "output_type": "execute_result"
    }
   ],
   "source": [
    "sample = df.sample(50_000, random_state=42)\n",
    "split_and_get_overlap(sample)"
   ],
   "metadata": {
    "collapsed": false
   }
  },
  {
   "cell_type": "code",
   "execution_count": 11,
   "outputs": [
    {
     "data": {
      "text/plain": "[<matplotlib.lines.Line2D at 0x7f0e5d92d840>]"
     },
     "execution_count": 11,
     "metadata": {},
     "output_type": "execute_result"
    },
    {
     "data": {
      "text/plain": "<Figure size 640x480 with 1 Axes>",
      "image/png": "[encoded data removed]"
     },
     "metadata": {},
     "output_type": "display_data"
    }
   ],
   "source": [
    "import matplotlib.pyplot as plt\n",
    "\n",
    "sizes = [*range(10_000, 200_000, 10_000)]\n",
    "overlaps = [split_and_get_overlap(df.sample(size, random_state=42))\n",
    "            for size in sizes]\n",
    "plt.plot(sizes, overlaps)"
   ],
   "metadata": {
    "collapsed": false
   }
  },
  {
   "cell_type": "markdown",
   "source": [
    "### Observation:\n",
    "Sample size and overlap are linearly correlated"
   ],
   "metadata": {
    "collapsed": false
   }
  },
  {
   "cell_type": "markdown",
   "source": [
    "### Solution Approach:\n",
    "Split dataset into matches and non-matches, draw from each, then recombine:"
   ],
   "metadata": {
    "collapsed": false
   }
  },
  {
   "cell_type": "code",
   "execution_count": 12,
   "outputs": [],
   "source": [
    "def get_true_matches(df1: pd.DataFrame, df2: pd.DataFrame, global_id_col_name=\"globalID\") -> (pd.DataFrame, pd.DataFrame):\n",
    "    \"\"\"\n",
    "    Return form each source all records that are part of the overlap, aka all records that have a true match in the\n",
    "    other source.\n",
    "    Returned as tuple of two dataframes, one for each sourceID.\n",
    "    They are not linked to their partners, i.e. the dataframes have no specific order.\n",
    "    \"\"\"\n",
    "    true_matches_1 = df1[df1[global_id_col_name].isin(df2[global_id_col_name])]\n",
    "    true_matches_2 = df2[df2[global_id_col_name].isin(df1[global_id_col_name])]\n",
    "    return true_matches_1, true_matches_2"
   ],
   "metadata": {
    "collapsed": false
   }
  },
  {
   "cell_type": "markdown",
   "source": [
    "## Downsampling Method:"
   ],
   "metadata": {
    "collapsed": false
   }
  },
  {
   "cell_type": "code",
   "execution_count": 13,
   "outputs": [],
   "source": [
    "def random_sample(df_a: pd.DataFrame, df_b:pd.DataFrame, total_sample_size: int, seed: int = None, overlap: float = None,\n",
    "                  global_id_col_name=\"globalID\") -> pd.DataFrame:\n",
    "    \"\"\"\n",
    "    Draw random sample with specified overlap. If overlap is not specified, preserve the overlap from the passed data.\n",
    "    :param df_a: All records of source A\n",
    "    :param df_b: All records of source B\n",
    "    \"\"\"\n",
    "    if df_a.shape[0] != df_b.shape[0]:\n",
    "        raise ValueError(\"df_a and df_b must be of the same size.\")\n",
    "    df = pd.concat([df_a, df_b])\n",
    "    if not (total_sample_size % 2 == 0):\n",
    "        raise ValueError(f\"total_size must be divisible by 2. Each source in the random sample will have half the \"\n",
    "                         f\"size of total_size\")\n",
    "    size = int(total_sample_size / 2)\n",
    "    if not (0 <= size <= df_a.shape[0]):\n",
    "        raise ValueError(\n",
    "            f\"Size must be between 0 and size of one of the two source data sets (={df_a.shape[0]}). Got {size} instead.\")\n",
    "    rel_sample_size = size / df.shape[0]\n",
    "    base_overlap = get_overlap(df_a, df_b)\n",
    "    max_overlap = min(1.0, base_overlap / rel_sample_size)\n",
    "    non_matches_count = df.shape[0] - base_overlap * df_a.shape[0]\n",
    "    min_overlap = max(0.0, 1 - non_matches_count / total_sample_size)\n",
    "    if overlap is None:\n",
    "        overlap = base_overlap\n",
    "    if not (min_overlap <= overlap <= max_overlap or overlap is None):\n",
    "        raise ValueError(f\"Overlap must be between {min_overlap} and {max_overlap}. Got {overlap} instead.\")\n",
    "    true_matches1, true_matches2 = get_true_matches(df_a, df_b, global_id_col_name)\n",
    "    # draw size*overlap from true matches of source A\n",
    "    a_matches = true_matches1.sample(round(size * overlap), random_state=seed)\n",
    "    # draw size*(1-overlap) from non-matches of source A\n",
    "    a_non_matches = df_a[~df_a[global_id_col_name].isin(true_matches1[global_id_col_name])] \\\n",
    "        .sample(round(size * (1 - overlap)), random_state=seed)\n",
    "    # draw size*overlap from true matches of source B\n",
    "    b_matches = true_matches2.sample(round(size * overlap), random_state=seed)\n",
    "    # draw size*(1-overlap) from non-matches of source B\n",
    "    b_non_matches = df_b[~df_b[global_id_col_name].isin(true_matches2[global_id_col_name])] \\\n",
    "        .sample(round(size * (1 - overlap)), random_state=seed)\n",
    "    # concatenate all\n",
    "    return pd.concat([a_matches, a_non_matches, b_matches, b_non_matches])"
   ],
   "metadata": {
    "collapsed": false
   }
  },
  {
   "cell_type": "code",
   "execution_count": 14,
   "outputs": [
    {
     "data": {
      "text/plain": "[<matplotlib.lines.Line2D at 0x7f0e595c04c0>]"
     },
     "execution_count": 14,
     "metadata": {},
     "output_type": "execute_result"
    },
    {
     "data": {
      "text/plain": "<Figure size 640x480 with 1 Axes>",
      "image/png": "[encoded data removed]"
     },
     "metadata": {},
     "output_type": "display_data"
    }
   ],
   "source": [
    "df_a, df_b = split_by_source_id(df)\n",
    "sizes = [*range(10_000, 150_000, 10_000)]\n",
    "overlaps = [split_and_get_overlap(random_sample(df_a, df_b, size, seed=42))\n",
    "            for size in sizes]\n",
    "plt.plot(sizes, overlaps)"
   ],
   "metadata": {
    "collapsed": false
   }
  },
  {
   "cell_type": "markdown",
   "source": [
    "Looks good!"
   ],
   "metadata": {
    "collapsed": false
   }
  },
  {
   "cell_type": "markdown",
   "source": [
    "## 2. Does this downsampling method affect attribute value frequencies?"
   ],
   "metadata": {
    "collapsed": false
   }
  },
  {
   "cell_type": "markdown",
   "source": [
    "### Idea: Describe attr. value frequency-distribution by its skewness\n",
    "#### Skewness of first name"
   ],
   "metadata": {
    "collapsed": false
   }
  },
  {
   "cell_type": "code",
   "execution_count": 15,
   "outputs": [],
   "source": [
    "from scipy.stats import ttest_ind\n",
    "\n",
    "def compare_skews(df1, df2, attr_name, sample_size, iterations):\n",
    "    skews1 = []\n",
    "    skews2 = []\n",
    "    for i in range(iterations):\n",
    "        # to compare skewness, need same sized random subsets (skew is amplified by dataset size)\n",
    "        skew1, skew2 = [df[attr_name].sample(sample_size,\n",
    "                                             random_state=i).value_counts().skew()\n",
    "                        for df in (df1, df2)]\n",
    "        skews1.append(skew1)\n",
    "        skews2.append(skew2)\n",
    "    return ttest_ind(skews1, skews2).pvalue"
   ],
   "metadata": {
    "collapsed": false
   }
  },
  {
   "cell_type": "code",
   "execution_count": 16,
   "outputs": [],
   "source": [
    "# split dataset into two sources a and b\n",
    "df_a, df_b = split_by_source_id(df)"
   ],
   "metadata": {
    "collapsed": false
   }
  },
  {
   "cell_type": "code",
   "execution_count": 31,
   "outputs": [
    {
     "data": {
      "text/plain": "0.41637549799938256"
     },
     "execution_count": 31,
     "metadata": {},
     "output_type": "execute_result"
    }
   ],
   "source": [
    "downsampling_size = 50_000\n",
    "sample_size = 10_000\n",
    "iterations = 1000\n",
    "seed = 42\n",
    "df_res = random_sample(df_a, df_b, downsampling_size, seed)\n",
    "compare_skews(df, df_res, \"FIRSTNAME\", sample_size, iterations)"
   ],
   "metadata": {
    "collapsed": false
   }
  },
  {
   "cell_type": "code",
   "execution_count": 32,
   "outputs": [
    {
     "data": {
      "text/plain": "3.216433591828427e-19"
     },
     "execution_count": 32,
     "metadata": {},
     "output_type": "execute_result"
    }
   ],
   "source": [
    "seed = 43\n",
    "df_res = random_sample(df_a, df_b, downsampling_size, seed)\n",
    "compare_skews(df, df_res, \"FIRSTNAME\", sample_size, iterations)"
   ],
   "metadata": {
    "collapsed": false
   }
  },
  {
   "cell_type": "markdown",
   "source": [
    "### Nur durch Veränderung des Seeds komplett anderes Ergebnis\n",
    "* Erwartung war eigentlich, mit den vielen Iterationen den Zufallsfaktor auszugleichen\n",
    "* D.h. vllt stimmt etwas mit der compare_skews Methode nicht.\n",
    "* Vielleicht ist aber auch die Sample Größe (50k) einfach zu klein, sodass schon mal durch Zufall eine etwas andere Attributwert-Verteilung heraus kommen kann? Dann bräuchte ich zum Testen einen größeren Datensatz (ca 1M)"
   ],
   "metadata": {
    "collapsed": false
   }
  },
  {
   "cell_type": "code",
   "execution_count": 45,
   "outputs": [],
   "source": [
    "# a closer look at the skew lists\n",
    "df1 = df\n",
    "df2 = df_res\n",
    "skews1 = []\n",
    "skews2 = []\n",
    "for i in range(iterations):\n",
    "    # to compare skewness, need same sized random subsets (skew is amplified by dataset size)\n",
    "    skew1, skew2 = [df.FIRSTNAME.sample(sample_size,\n",
    "                                         random_state=i).value_counts().skew()\n",
    "                    for df in (df1, df2)]\n",
    "    skews1.append(skew1)\n",
    "    skews2.append(skew2)"
   ],
   "metadata": {
    "collapsed": false
   }
  },
  {
   "cell_type": "code",
   "execution_count": 47,
   "outputs": [],
   "source": [
    "from scipy.stats import describe"
   ],
   "metadata": {
    "collapsed": false
   }
  },
  {
   "cell_type": "code",
   "execution_count": 48,
   "outputs": [
    {
     "data": {
      "text/plain": "DescribeResult(nobs=1000, minmax=(7.944169414740913, 9.967781291470358), mean=8.858960652745031, variance=0.10468497978797489, skewness=0.21115252662227504, kurtosis=0.00017616731422309684)"
     },
     "execution_count": 48,
     "metadata": {},
     "output_type": "execute_result"
    }
   ],
   "source": [
    "describe(skews1)"
   ],
   "metadata": {
    "collapsed": false
   }
  },
  {
   "cell_type": "code",
   "execution_count": 49,
   "outputs": [
    {
     "data": {
      "text/plain": "DescribeResult(nobs=1000, minmax=(7.840514802745674, 9.707595824569646), mean=8.73600791756071, variance=0.0797711299276887, skewness=0.07855222258322854, kurtosis=0.09130214238790346)"
     },
     "execution_count": 49,
     "metadata": {},
     "output_type": "execute_result"
    }
   ],
   "source": [
    "describe(skews2)"
   ],
   "metadata": {
    "collapsed": false
   }
  },
  {
   "cell_type": "code",
   "execution_count": 51,
   "outputs": [],
   "source": [
    "import seaborn as sns"
   ],
   "metadata": {
    "collapsed": false
   }
  },
  {
   "cell_type": "code",
   "execution_count": 56,
   "outputs": [
    {
     "data": {
      "text/plain": "<Figure size 640x480 with 1 Axes>",
      "image/png": "[encoded data removed]"
     },
     "metadata": {},
     "output_type": "display_data"
    }
   ],
   "source": [
    "sns.boxplot(data=[skews1, skews2])\n",
    "plt.show()"
   ],
   "metadata": {
    "collapsed": false
   }
  },
  {
   "cell_type": "code",
   "execution_count": 74,
   "outputs": [],
   "source": [
    "from tqdm import tqdm\n",
    "\n",
    "def compare_skews2(df, downsampling_size, attr_name, sample_size, iterations, seed_incr=0):\n",
    "    df_a, df_b = split_by_source_id(df)\n",
    "    skews1 = []\n",
    "    skews2 = []\n",
    "    for i in tqdm(range(iterations)):\n",
    "        df_res = random_sample(df_a, df_b, downsampling_size, seed=i+seed_incr)\n",
    "        skew1, skew2 = [\n",
    "            _df.sample(sample_size, random_state=i)[attr_name].value_counts().skew()\n",
    "            for _df in (df, df_res)\n",
    "        ]\n",
    "        skews1.append(skew1)\n",
    "        skews2.append(skew2)\n",
    "    return (skews1, skews2)"
   ],
   "metadata": {
    "collapsed": false
   }
  },
  {
   "cell_type": "code",
   "execution_count": 66,
   "outputs": [
    {
     "name": "stderr",
     "output_type": "stream",
     "text": [
      "100%|██████████| 1000/1000 [07:55<00:00,  2.10it/s]\n"
     ]
    },
    {
     "data": {
      "text/plain": "0.05193975536287609"
     },
     "execution_count": 66,
     "metadata": {},
     "output_type": "execute_result"
    }
   ],
   "source": [
    "downsampling_size = 5000\n",
    "sample_size = 1000\n",
    "iterations = 1000\n",
    "(skews1, skews2) = compare_skews2(df, downsampling_size, \"FIRSTNAME\", sample_size, iterations)\n",
    "ttest_ind(skews1, skews2).pvalue"
   ],
   "metadata": {
    "collapsed": false
   }
  },
  {
   "cell_type": "code",
   "execution_count": 68,
   "outputs": [
    {
     "name": "stderr",
     "output_type": "stream",
     "text": [
      "100%|██████████| 100/100 [00:52<00:00,  1.89it/s]\n"
     ]
    },
    {
     "data": {
      "text/plain": "0.5271192065009521"
     },
     "execution_count": 68,
     "metadata": {},
     "output_type": "execute_result"
    }
   ],
   "source": [
    "downsampling_size = 5000\n",
    "sample_size = 1000\n",
    "iterations = 100\n",
    "(skews1, skews2) = compare_skews2(df, downsampling_size, \"FIRSTNAME\", sample_size, iterations)\n",
    "ttest_ind(skews1, skews2).pvalue"
   ],
   "metadata": {
    "collapsed": false
   }
  },
  {
   "cell_type": "code",
   "execution_count": 69,
   "outputs": [
    {
     "name": "stderr",
     "output_type": "stream",
     "text": [
      "100%|██████████| 1000/1000 [08:36<00:00,  1.94it/s]\n"
     ]
    },
    {
     "data": {
      "text/plain": "0.06070039904807875"
     },
     "execution_count": 69,
     "metadata": {},
     "output_type": "execute_result"
    }
   ],
   "source": [
    "downsampling_size = 10_000\n",
    "sample_size = 1000\n",
    "iterations = 1000\n",
    "(skews1, skews2) = compare_skews2(df, downsampling_size, \"FIRSTNAME\", sample_size, iterations)\n",
    "ttest_ind(skews1, skews2).pvalue"
   ],
   "metadata": {
    "collapsed": false
   }
  },
  {
   "cell_type": "code",
   "execution_count": 70,
   "outputs": [
    {
     "name": "stderr",
     "output_type": "stream",
     "text": [
      "100%|██████████| 1000/1000 [10:05<00:00,  1.65it/s]\n"
     ]
    },
    {
     "data": {
      "text/plain": "0.8450119407899201"
     },
     "execution_count": 70,
     "metadata": {},
     "output_type": "execute_result"
    }
   ],
   "source": [
    "downsampling_size = 50_000\n",
    "sample_size = 5000\n",
    "iterations = 1000\n",
    "(skews1, skews2) = compare_skews2(df, downsampling_size, \"FIRSTNAME\", sample_size, iterations)\n",
    "ttest_ind(skews1, skews2).pvalue"
   ],
   "metadata": {
    "collapsed": false
   }
  },
  {
   "cell_type": "code",
   "execution_count": 72,
   "outputs": [
    {
     "name": "stderr",
     "output_type": "stream",
     "text": [
      "100%|██████████| 1000/1000 [08:42<00:00,  1.92it/s]\n"
     ]
    },
    {
     "data": {
      "text/plain": "0.544166396644953"
     },
     "execution_count": 72,
     "metadata": {},
     "output_type": "execute_result"
    }
   ],
   "source": [
    "downsampling_size = 50_000\n",
    "sample_size = 5000\n",
    "iterations = 1000\n",
    "(skews1, skews2) = compare_skews2(df, downsampling_size, \"FIRSTNAME\", sample_size, iterations,\n",
    "                                  seed_incr=1)\n",
    "ttest_ind(skews1, skews2).pvalue"
   ],
   "metadata": {
    "collapsed": false
   }
  },
  {
   "cell_type": "code",
   "execution_count": 75,
   "outputs": [
    {
     "name": "stderr",
     "output_type": "stream",
     "text": [
      "100%|██████████| 1000/1000 [08:59<00:00,  1.86it/s]\n"
     ]
    },
    {
     "data": {
      "text/plain": "0.9149762755309175"
     },
     "execution_count": 75,
     "metadata": {},
     "output_type": "execute_result"
    }
   ],
   "source": [
    "downsampling_size = 50_000\n",
    "sample_size = 5000\n",
    "iterations = 1000\n",
    "(skews1, skews2) = compare_skews2(df, downsampling_size, \"FIRSTNAME\", sample_size, iterations,\n",
    "                                  seed_incr=2)\n",
    "ttest_ind(skews1, skews2).pvalue"
   ],
   "metadata": {
    "collapsed": false
   }
  },
  {
   "cell_type": "code",
   "execution_count": 76,
   "outputs": [
    {
     "name": "stderr",
     "output_type": "stream",
     "text": [
      "100%|██████████| 1000/1000 [09:26<00:00,  1.76it/s]\n"
     ]
    },
    {
     "data": {
      "text/plain": "0.5269670447139234"
     },
     "execution_count": 76,
     "metadata": {},
     "output_type": "execute_result"
    }
   ],
   "source": [
    "downsampling_size = 50_000\n",
    "sample_size = 5000\n",
    "iterations = 1000\n",
    "(skews1, skews2) = compare_skews2(df, downsampling_size, \"FIRSTNAME\", sample_size, iterations,\n",
    "                                  seed_incr=3)\n",
    "ttest_ind(skews1, skews2).pvalue"
   ],
   "metadata": {
    "collapsed": false
   }
  }
 ],
 "metadata": {
  "kernelspec": {
   "display_name": "Python 3",
   "language": "python",
   "name": "python3"
  },
  "language_info": {
   "codemirror_mode": {
    "name": "ipython",
    "version": 2
   },
   "file_extension": ".py",
   "mimetype": "text/x-python",
   "name": "python",
   "nbconvert_exporter": "python",
   "pygments_lexer": "ipython2",
   "version": "2.7.6"
  }
 },
 "nbformat": 4,
 "nbformat_minor": 0
}
