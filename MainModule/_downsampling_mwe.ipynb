{
 "cells": [
  {
   "cell_type": "markdown",
   "source": [
    "# Downsampling\n",
    "## Idea:\n",
    "* Two dataset variants have different sizes, need same size to compare other dataset properties\n",
    "* -> sample down the larger one, i.e. draw a random sample\n",
    "## Question:\n",
    "* Does the downsampling method affect attribute value frequencies?"
   ],
   "metadata": {
    "collapsed": false
   }
  },
  {
   "cell_type": "code",
   "execution_count": 1,
   "outputs": [],
   "source": [
    "from dataset_properties import split_by_source_id\n",
    "from dataset_modifier import random_sample, random_sample_wrapper\n",
    "import numpy as np\n",
    "import scipy.stats as stats"
   ],
   "metadata": {
    "collapsed": false
   }
  },
  {
   "cell_type": "code",
   "execution_count": 2,
   "outputs": [
    {
     "data": {
      "text/plain": "  sourceID  globalID                           localID FIRSTNAME MIDDLENAME  \\\n0        A   AM28693  1fdc308dcc35344c6d5c20845fad641d       SUE     BARNES   \n1        A   CZ67291  b36b8c16c743ed415c6a7f3fc1a3b859    RONALD     EUGENE   \n2        A  BN204837  401b7f6f5e107dbb009da197a2b05d9e    DEIDRE    MARLANA   \n3        A  EH737737  85f059d91b803b5835a8b9762a3170cb      KURT              \n4        A   DT41462  f70a42ce915731cabafc5daa1bfbceeb     WORTH      BROWN   \n\n   LASTNAME  YEAROFBIRTH PLACEOFBIRTH  COUNTRY           CITY    PLZ  \\\n0  SHUFFLER         1946                 BURKE        VALDESE  28690   \n1  LATTIMER         1953           OH    MOORE      PINEHURST  28374   \n2    MARTIN         1973           NC  FORSYTH  WINSTON SALEM  27105   \n3     BALEN         1968           PA     WAKE           APEX  27502   \n4     FOUTZ         1919                 ROWAN      SALISBURY  28146   \n\n           STREET GENDER ETHNIC RACE  \n0  LAKEVIEW ACRES      F     NL    W  \n1    BURNING TREE      M     NL    W  \n2     CARVER GLEN      F     NL    B  \n3    ASHLEY DOWNS      M     NL    W  \n4        MORRISON      M     NL    W  ",
      "text/html": "<div>\n<style scoped>\n    .dataframe tbody tr th:only-of-type {\n        vertical-align: middle;\n    }\n\n    .dataframe tbody tr th {\n        vertical-align: top;\n    }\n\n    .dataframe thead th {\n        text-align: right;\n    }\n</style>\n<table border=\"1\" class=\"dataframe\">\n  <thead>\n    <tr style=\"text-align: right;\">\n      <th></th>\n      <th>sourceID</th>\n      <th>globalID</th>\n      <th>localID</th>\n      <th>FIRSTNAME</th>\n      <th>MIDDLENAME</th>\n      <th>LASTNAME</th>\n      <th>YEAROFBIRTH</th>\n      <th>PLACEOFBIRTH</th>\n      <th>COUNTRY</th>\n      <th>CITY</th>\n      <th>PLZ</th>\n      <th>STREET</th>\n      <th>GENDER</th>\n      <th>ETHNIC</th>\n      <th>RACE</th>\n    </tr>\n  </thead>\n  <tbody>\n    <tr>\n      <th>0</th>\n      <td>A</td>\n      <td>AM28693</td>\n      <td>1fdc308dcc35344c6d5c20845fad641d</td>\n      <td>SUE</td>\n      <td>BARNES</td>\n      <td>SHUFFLER</td>\n      <td>1946</td>\n      <td></td>\n      <td>BURKE</td>\n      <td>VALDESE</td>\n      <td>28690</td>\n      <td>LAKEVIEW ACRES</td>\n      <td>F</td>\n      <td>NL</td>\n      <td>W</td>\n    </tr>\n    <tr>\n      <th>1</th>\n      <td>A</td>\n      <td>CZ67291</td>\n      <td>b36b8c16c743ed415c6a7f3fc1a3b859</td>\n      <td>RONALD</td>\n      <td>EUGENE</td>\n      <td>LATTIMER</td>\n      <td>1953</td>\n      <td>OH</td>\n      <td>MOORE</td>\n      <td>PINEHURST</td>\n      <td>28374</td>\n      <td>BURNING TREE</td>\n      <td>M</td>\n      <td>NL</td>\n      <td>W</td>\n    </tr>\n    <tr>\n      <th>2</th>\n      <td>A</td>\n      <td>BN204837</td>\n      <td>401b7f6f5e107dbb009da197a2b05d9e</td>\n      <td>DEIDRE</td>\n      <td>MARLANA</td>\n      <td>MARTIN</td>\n      <td>1973</td>\n      <td>NC</td>\n      <td>FORSYTH</td>\n      <td>WINSTON SALEM</td>\n      <td>27105</td>\n      <td>CARVER GLEN</td>\n      <td>F</td>\n      <td>NL</td>\n      <td>B</td>\n    </tr>\n    <tr>\n      <th>3</th>\n      <td>A</td>\n      <td>EH737737</td>\n      <td>85f059d91b803b5835a8b9762a3170cb</td>\n      <td>KURT</td>\n      <td></td>\n      <td>BALEN</td>\n      <td>1968</td>\n      <td>PA</td>\n      <td>WAKE</td>\n      <td>APEX</td>\n      <td>27502</td>\n      <td>ASHLEY DOWNS</td>\n      <td>M</td>\n      <td>NL</td>\n      <td>W</td>\n    </tr>\n    <tr>\n      <th>4</th>\n      <td>A</td>\n      <td>DT41462</td>\n      <td>f70a42ce915731cabafc5daa1bfbceeb</td>\n      <td>WORTH</td>\n      <td>BROWN</td>\n      <td>FOUTZ</td>\n      <td>1919</td>\n      <td></td>\n      <td>ROWAN</td>\n      <td>SALISBURY</td>\n      <td>28146</td>\n      <td>MORRISON</td>\n      <td>M</td>\n      <td>NL</td>\n      <td>W</td>\n    </tr>\n  </tbody>\n</table>\n</div>"
     },
     "execution_count": 2,
     "metadata": {},
     "output_type": "execute_result"
    }
   ],
   "source": [
    "import pandas as pd\n",
    "# get the data\n",
    "filepath = \"data/2021_NCVR_Panse_001/dataset_ncvr_dirty.csv\"\n",
    "col_names = \"sourceID,globalID,localID,FIRSTNAME,MIDDLENAME,LASTNAME,YEAROFBIRTH,PLACEOFBIRTH,COUNTRY,CITY,PLZ,STREET,GENDER,ETHNIC,RACE\".split(\",\")\n",
    "df = pd.read_csv(filepath, names=col_names, dtype={\"PLZ\": str, \"YEAROFBIRTH\": int},\n",
    "                              keep_default_na=False)\n",
    "df.head()"
   ],
   "metadata": {
    "collapsed": false
   }
  },
  {
   "cell_type": "markdown",
   "source": [
    "### Idea:\n",
    "* Describe attr. value frequency-distribution by its skewness\n",
    "#### Skewness of FIRSTNAME"
   ],
   "metadata": {
    "collapsed": false
   }
  },
  {
   "cell_type": "code",
   "execution_count": 8,
   "outputs": [
    {
     "data": {
      "text/plain": "22.40701130969864"
     },
     "execution_count": 8,
     "metadata": {},
     "output_type": "execute_result"
    }
   ],
   "source": [
    "df.FIRSTNAME.value_counts().skew()"
   ],
   "metadata": {
    "collapsed": false
   }
  },
  {
   "cell_type": "code",
   "execution_count": 14,
   "outputs": [
    {
     "data": {
      "text/plain": "17.985487665414905"
     },
     "execution_count": 14,
     "metadata": {},
     "output_type": "execute_result"
    }
   ],
   "source": [
    "df_a, df_b = split_by_source_id(df)\n",
    "df_res = random_sample(df_a, df_b, 100_000)\n",
    "df_res.FIRSTNAME.value_counts().skew()"
   ],
   "metadata": {
    "collapsed": false
   }
  },
  {
   "cell_type": "code",
   "execution_count": 12,
   "outputs": [
    {
     "data": {
      "text/plain": "14.078208892313993"
     },
     "execution_count": 12,
     "metadata": {},
     "output_type": "execute_result"
    }
   ],
   "source": [
    "df_res = random_sample(df_a, df_b, 50_000)\n",
    "df_res.FIRSTNAME.value_counts().skew()"
   ],
   "metadata": {
    "collapsed": false
   }
  },
  {
   "cell_type": "code",
   "execution_count": 13,
   "outputs": [
    {
     "data": {
      "text/plain": "8.820920270502942"
     },
     "execution_count": 13,
     "metadata": {},
     "output_type": "execute_result"
    }
   ],
   "source": [
    "df_res = random_sample(df_a, df_b, 10_000)\n",
    "df_res.FIRSTNAME.value_counts().skew()"
   ],
   "metadata": {
    "collapsed": false
   }
  },
  {
   "cell_type": "markdown",
   "source": [
    "### Skewness influenced by sample size"
   ],
   "metadata": {
    "collapsed": false
   }
  },
  {
   "cell_type": "code",
   "execution_count": 15,
   "outputs": [
    {
     "data": {
      "text/plain": "14.189379823199365"
     },
     "execution_count": 15,
     "metadata": {},
     "output_type": "execute_result"
    }
   ],
   "source": [
    "# same with regular random sample:\n",
    "df.sample(50_000).FIRSTNAME.value_counts().skew()"
   ],
   "metadata": {
    "collapsed": false
   }
  },
  {
   "cell_type": "markdown",
   "source": [
    "#### Plot it"
   ],
   "metadata": {
    "collapsed": false
   }
  },
  {
   "cell_type": "code",
   "execution_count": 21,
   "outputs": [
    {
     "data": {
      "text/plain": "<matplotlib.collections.PathCollection at 0x7fda6e17e350>"
     },
     "execution_count": 21,
     "metadata": {},
     "output_type": "execute_result"
    },
    {
     "data": {
      "text/plain": "<Figure size 640x480 with 1 Axes>",
      "image/png": "[encoded data removed]"
     },
     "metadata": {},
     "output_type": "display_data"
    }
   ],
   "source": [
    "import matplotlib.pyplot as plt\n",
    "\n",
    "sizes = list(range(10_000, 200_000, 10_000))  # [10k, 20k, ..., 190k]\n",
    "plt.scatter(\n",
    "    x=sizes,\n",
    "    y=[random_sample(df_a, df_b, s).FIRSTNAME.value_counts().skew() for s in sizes]\n",
    ")"
   ],
   "metadata": {
    "collapsed": false
   }
  },
  {
   "cell_type": "markdown",
   "source": [
    "### Compare two frequency distributions\n",
    "https://stats.stackexchange.com/questions/289021/statistical-test-for-comparing-two-frequency-distributions-expressed-as-arrays"
   ],
   "metadata": {
    "collapsed": false
   }
  },
  {
   "cell_type": "markdown",
   "source": [
    "### Observation:\n",
    "* Skewness influenced by random down-sampling\n",
    "### Question: TODO\n",
    "* Should skew be preserved when sampling down?\n",
    "* If so, how to?"
   ],
   "metadata": {
    "collapsed": false
   }
  },
  {
   "cell_type": "markdown",
   "source": [
    "### Approach 1 (under the incorrect assumption that skewness is amplified by dataset size. Actually, it is influenced by random down-sampling)\n",
    "Method Parameters:\n",
    "* df1, df2 -> the two datasets whose skewnesses should be compared, i.e. the original dataset and the down-sampled version.\n",
    "* sample_size -> the size of the random samples that should be drawn per iteration"
   ],
   "metadata": {
    "collapsed": false
   }
  },
  {
   "cell_type": "code",
   "execution_count": 15,
   "outputs": [],
   "source": [
    "from scipy.stats import ttest_ind\n",
    "\n",
    "def compare_skews(df1, df2, attr_name, sample_size, iterations):\n",
    "    skews1 = []\n",
    "    skews2 = []\n",
    "    for i in range(iterations):\n",
    "        # to compare skewness, need same sized random subsets (skew is amplified by dataset size)\n",
    "        skew1, skew2 = [df[attr_name].sample(sample_size,\n",
    "                                             random_state=i).value_counts().skew()\n",
    "                        for df in (df1, df2)]\n",
    "        skews1.append(skew1)\n",
    "        skews2.append(skew2)\n",
    "    return ttest_ind(skews1, skews2).pvalue"
   ],
   "metadata": {
    "collapsed": false
   }
  },
  {
   "cell_type": "code",
   "execution_count": 16,
   "outputs": [],
   "source": [
    "# split dataset into two sources a and b\n",
    "df_a, df_b = split_by_source_id(df)"
   ],
   "metadata": {
    "collapsed": false
   }
  },
  {
   "cell_type": "code",
   "execution_count": 31,
   "outputs": [
    {
     "data": {
      "text/plain": "0.41637549799938256"
     },
     "execution_count": 31,
     "metadata": {},
     "output_type": "execute_result"
    }
   ],
   "source": [
    "downsampling_size = 50_000\n",
    "sample_size = 10_000\n",
    "iterations = 1000\n",
    "seed = 42\n",
    "df_res = random_sample(df_a, df_b, downsampling_size, seed)\n",
    "compare_skews(df, df_res, \"FIRSTNAME\", sample_size, iterations)"
   ],
   "metadata": {
    "collapsed": false
   }
  },
  {
   "cell_type": "code",
   "execution_count": 32,
   "outputs": [
    {
     "data": {
      "text/plain": "3.216433591828427e-19"
     },
     "execution_count": 32,
     "metadata": {},
     "output_type": "execute_result"
    }
   ],
   "source": [
    "seed = 43\n",
    "df_res = random_sample(df_a, df_b, downsampling_size, seed)\n",
    "compare_skews(df, df_res, \"FIRSTNAME\", sample_size, iterations)"
   ],
   "metadata": {
    "collapsed": false
   }
  },
  {
   "cell_type": "markdown",
   "source": [
    "### Nur durch Veränderung des Seeds komplett anderes Ergebnis\n",
    "* Erwartung war eigentlich, mit den vielen Iterationen den Zufallsfaktor auszugleichen\n",
    "* D.h. vllt stimmt etwas mit der compare_skews Methode nicht.\n",
    "* Vielleicht ist aber auch die Sample Größe (50k) einfach zu klein, sodass schon mal durch Zufall eine etwas andere Attributwert-Verteilung heraus kommen kann? Dann bräuchte ich zum Testen einen größeren Datensatz (ca 1M)"
   ],
   "metadata": {
    "collapsed": false
   }
  },
  {
   "cell_type": "code",
   "execution_count": 45,
   "outputs": [],
   "source": [
    "# a closer look at the skew lists\n",
    "df1 = df\n",
    "df2 = df_res\n",
    "skews1 = []\n",
    "skews2 = []\n",
    "for i in range(iterations):\n",
    "    # to compare skewness, need same sized random subsets (skew is amplified by dataset size)\n",
    "    skew1, skew2 = [df.FIRSTNAME.sample(sample_size,\n",
    "                                         random_state=i).value_counts().skew()\n",
    "                    for df in (df1, df2)]\n",
    "    skews1.append(skew1)\n",
    "    skews2.append(skew2)"
   ],
   "metadata": {
    "collapsed": false
   }
  },
  {
   "cell_type": "code",
   "execution_count": 47,
   "outputs": [],
   "source": [
    "from scipy.stats import describe"
   ],
   "metadata": {
    "collapsed": false
   }
  },
  {
   "cell_type": "code",
   "execution_count": 48,
   "outputs": [
    {
     "data": {
      "text/plain": "DescribeResult(nobs=1000, minmax=(7.944169414740913, 9.967781291470358), mean=8.858960652745031, variance=0.10468497978797489, skewness=0.21115252662227504, kurtosis=0.00017616731422309684)"
     },
     "execution_count": 48,
     "metadata": {},
     "output_type": "execute_result"
    }
   ],
   "source": [
    "describe(skews1)"
   ],
   "metadata": {
    "collapsed": false
   }
  },
  {
   "cell_type": "code",
   "execution_count": 49,
   "outputs": [
    {
     "data": {
      "text/plain": "DescribeResult(nobs=1000, minmax=(7.840514802745674, 9.707595824569646), mean=8.73600791756071, variance=0.0797711299276887, skewness=0.07855222258322854, kurtosis=0.09130214238790346)"
     },
     "execution_count": 49,
     "metadata": {},
     "output_type": "execute_result"
    }
   ],
   "source": [
    "describe(skews2)"
   ],
   "metadata": {
    "collapsed": false
   }
  },
  {
   "cell_type": "code",
   "execution_count": 51,
   "outputs": [],
   "source": [
    "import seaborn as sns"
   ],
   "metadata": {
    "collapsed": false
   }
  },
  {
   "cell_type": "code",
   "execution_count": 56,
   "outputs": [
    {
     "data": {
      "text/plain": "<Figure size 640x480 with 1 Axes>",
      "image/png": "[encoded data removed]"
     },
     "metadata": {},
     "output_type": "display_data"
    }
   ],
   "source": [
    "sns.boxplot(data=[skews1, skews2])\n",
    "plt.show()"
   ],
   "metadata": {
    "collapsed": false
   }
  },
  {
   "cell_type": "code",
   "execution_count": 74,
   "outputs": [],
   "source": [
    "from tqdm import tqdm\n",
    "\n",
    "def compare_skews2(df, downsampling_size, attr_name, sample_size, iterations, seed_incr=0):\n",
    "    df_a, df_b = split_by_source_id(df)\n",
    "    skews1 = []\n",
    "    skews2 = []\n",
    "    for i in tqdm(range(iterations)):\n",
    "        df_res = random_sample(df_a, df_b, downsampling_size, seed=i+seed_incr)\n",
    "        skew1, skew2 = [\n",
    "            _df.sample(sample_size, random_state=i)[attr_name].value_counts().skew()\n",
    "            for _df in (df, df_res)\n",
    "        ]\n",
    "        skews1.append(skew1)\n",
    "        skews2.append(skew2)\n",
    "    return (skews1, skews2)"
   ],
   "metadata": {
    "collapsed": false
   }
  },
  {
   "cell_type": "code",
   "execution_count": 66,
   "outputs": [
    {
     "name": "stderr",
     "output_type": "stream",
     "text": [
      "100%|██████████| 1000/1000 [07:55<00:00,  2.10it/s]\n"
     ]
    },
    {
     "data": {
      "text/plain": "0.05193975536287609"
     },
     "execution_count": 66,
     "metadata": {},
     "output_type": "execute_result"
    }
   ],
   "source": [
    "downsampling_size = 5000\n",
    "sample_size = 1000\n",
    "iterations = 1000\n",
    "(skews1, skews2) = compare_skews2(df, downsampling_size, \"FIRSTNAME\", sample_size, iterations)\n",
    "ttest_ind(skews1, skews2).pvalue"
   ],
   "metadata": {
    "collapsed": false
   }
  },
  {
   "cell_type": "code",
   "execution_count": 68,
   "outputs": [
    {
     "name": "stderr",
     "output_type": "stream",
     "text": [
      "100%|██████████| 100/100 [00:52<00:00,  1.89it/s]\n"
     ]
    },
    {
     "data": {
      "text/plain": "0.5271192065009521"
     },
     "execution_count": 68,
     "metadata": {},
     "output_type": "execute_result"
    }
   ],
   "source": [
    "downsampling_size = 5000\n",
    "sample_size = 1000\n",
    "iterations = 100\n",
    "(skews1, skews2) = compare_skews2(df, downsampling_size, \"FIRSTNAME\", sample_size, iterations)\n",
    "ttest_ind(skews1, skews2).pvalue"
   ],
   "metadata": {
    "collapsed": false
   }
  },
  {
   "cell_type": "code",
   "execution_count": 69,
   "outputs": [
    {
     "name": "stderr",
     "output_type": "stream",
     "text": [
      "100%|██████████| 1000/1000 [08:36<00:00,  1.94it/s]\n"
     ]
    },
    {
     "data": {
      "text/plain": "0.06070039904807875"
     },
     "execution_count": 69,
     "metadata": {},
     "output_type": "execute_result"
    }
   ],
   "source": [
    "downsampling_size = 10_000\n",
    "sample_size = 1000\n",
    "iterations = 1000\n",
    "(skews1, skews2) = compare_skews2(df, downsampling_size, \"FIRSTNAME\", sample_size, iterations)\n",
    "ttest_ind(skews1, skews2).pvalue"
   ],
   "metadata": {
    "collapsed": false
   }
  },
  {
   "cell_type": "code",
   "execution_count": 70,
   "outputs": [
    {
     "name": "stderr",
     "output_type": "stream",
     "text": [
      "100%|██████████| 1000/1000 [10:05<00:00,  1.65it/s]\n"
     ]
    },
    {
     "data": {
      "text/plain": "0.8450119407899201"
     },
     "execution_count": 70,
     "metadata": {},
     "output_type": "execute_result"
    }
   ],
   "source": [
    "downsampling_size = 50_000\n",
    "sample_size = 5000\n",
    "iterations = 1000\n",
    "(skews1, skews2) = compare_skews2(df, downsampling_size, \"FIRSTNAME\", sample_size, iterations)\n",
    "ttest_ind(skews1, skews2).pvalue"
   ],
   "metadata": {
    "collapsed": false
   }
  },
  {
   "cell_type": "code",
   "execution_count": 72,
   "outputs": [
    {
     "name": "stderr",
     "output_type": "stream",
     "text": [
      "100%|██████████| 1000/1000 [08:42<00:00,  1.92it/s]\n"
     ]
    },
    {
     "data": {
      "text/plain": "0.544166396644953"
     },
     "execution_count": 72,
     "metadata": {},
     "output_type": "execute_result"
    }
   ],
   "source": [
    "downsampling_size = 50_000\n",
    "sample_size = 5000\n",
    "iterations = 1000\n",
    "(skews1, skews2) = compare_skews2(df, downsampling_size, \"FIRSTNAME\", sample_size, iterations,\n",
    "                                  seed_incr=1)\n",
    "ttest_ind(skews1, skews2).pvalue"
   ],
   "metadata": {
    "collapsed": false
   }
  },
  {
   "cell_type": "code",
   "execution_count": 75,
   "outputs": [
    {
     "name": "stderr",
     "output_type": "stream",
     "text": [
      "100%|██████████| 1000/1000 [08:59<00:00,  1.86it/s]\n"
     ]
    },
    {
     "data": {
      "text/plain": "0.9149762755309175"
     },
     "execution_count": 75,
     "metadata": {},
     "output_type": "execute_result"
    }
   ],
   "source": [
    "downsampling_size = 50_000\n",
    "sample_size = 5000\n",
    "iterations = 1000\n",
    "(skews1, skews2) = compare_skews2(df, downsampling_size, \"FIRSTNAME\", sample_size, iterations,\n",
    "                                  seed_incr=2)\n",
    "ttest_ind(skews1, skews2).pvalue"
   ],
   "metadata": {
    "collapsed": false
   }
  },
  {
   "cell_type": "code",
   "execution_count": 76,
   "outputs": [
    {
     "name": "stderr",
     "output_type": "stream",
     "text": [
      "100%|██████████| 1000/1000 [09:26<00:00,  1.76it/s]\n"
     ]
    },
    {
     "data": {
      "text/plain": "0.5269670447139234"
     },
     "execution_count": 76,
     "metadata": {},
     "output_type": "execute_result"
    }
   ],
   "source": [
    "downsampling_size = 50_000\n",
    "sample_size = 5000\n",
    "iterations = 1000\n",
    "(skews1, skews2) = compare_skews2(df, downsampling_size, \"FIRSTNAME\", sample_size, iterations,\n",
    "                                  seed_incr=3)\n",
    "ttest_ind(skews1, skews2).pvalue"
   ],
   "metadata": {
    "collapsed": false
   }
  },
  {
   "cell_type": "markdown",
   "source": [
    "## New Approach:\n",
    "Compare the Frequency Distributions of both datasets\n",
    "* Correlation Coefficient\n",
    "* Rank Correlation Coefficient\n",
    "* chi² test https://stats.stackexchange.com/questions/289021/statistical-test-for-comparing-two-frequency-distributions-expressed-as-arrays\n",
    "* KL-Divergence\n",
    "* Anderson-Darling test"
   ],
   "metadata": {
    "collapsed": false
   }
  },
  {
   "cell_type": "markdown",
   "source": [
    "#### Chi-Square GOF test"
   ],
   "metadata": {
    "collapsed": false
   }
  },
  {
   "cell_type": "code",
   "execution_count": 110,
   "outputs": [],
   "source": [
    "df_res = random_sample_wrapper(df, 50_000, seed=42)"
   ],
   "metadata": {
    "collapsed": false
   }
  },
  {
   "cell_type": "code",
   "execution_count": 111,
   "outputs": [],
   "source": [
    "def ComputeChiSquareGOF(expected, observed):\n",
    "    \"\"\"\n",
    "    Runs a chi-square goodness-of-fit test and returns the p-value.\n",
    "    Inputs:\n",
    "    - expected: numpy array of expected values.\n",
    "    - observed: numpy array of observed values.\n",
    "    Returns: p-value\n",
    "    \"\"\"\n",
    "    expected_scaled = expected / float(sum(expected)) * sum(observed)\n",
    "    result = stats.chisquare(f_obs=observed, f_exp=expected_scaled)\n",
    "    return result[1]\n",
    "\n",
    "def MakeDecision(p_value):\n",
    "    \"\"\"\n",
    "    Makes a goodness-of-fit decision on an input p-value.\n",
    "    Input: p_value: the p-value from a goodness-of-fit test.\n",
    "    Returns: \"different\" if the p-value is below 0.05, \"same\" otherwise\n",
    "    \"\"\"\n",
    "    return \"different\" if p_value < 0.05 else \"same\""
   ],
   "metadata": {
    "collapsed": false
   }
  },
  {
   "cell_type": "code",
   "execution_count": 112,
   "outputs": [],
   "source": [
    "e = df.FIRSTNAME.value_counts().sort_values(ascending=False)\n",
    "o = df_res.FIRSTNAME.value_counts().sort_values(ascending=False)"
   ],
   "metadata": {
    "collapsed": false
   }
  },
  {
   "cell_type": "code",
   "execution_count": 113,
   "outputs": [
    {
     "data": {
      "text/plain": "True"
     },
     "execution_count": 113,
     "metadata": {},
     "output_type": "execute_result"
    }
   ],
   "source": [
    "# filter the categories that are not in both datasets\n",
    "e = e[e.index.isin(o.index)]\n",
    "e.shape == o.shape"
   ],
   "metadata": {
    "collapsed": false
   }
  },
  {
   "cell_type": "code",
   "execution_count": 114,
   "outputs": [],
   "source": [
    "# scale equally\n",
    "e = e / float(sum(e)) * sum(o)"
   ],
   "metadata": {
    "collapsed": false
   }
  },
  {
   "cell_type": "code",
   "execution_count": 115,
   "outputs": [
    {
     "data": {
      "text/plain": "False"
     },
     "execution_count": 115,
     "metadata": {},
     "output_type": "execute_result"
    }
   ],
   "source": [
    "(e.index == o.index).all()"
   ],
   "metadata": {
    "collapsed": false
   }
  },
  {
   "cell_type": "code",
   "execution_count": 116,
   "outputs": [
    {
     "data": {
      "text/plain": "0.9628106671762247"
     },
     "execution_count": 116,
     "metadata": {},
     "output_type": "execute_result"
    }
   ],
   "source": [
    "p = ComputeChiSquareGOF(e, o)\n",
    "p"
   ],
   "metadata": {
    "collapsed": false
   }
  },
  {
   "cell_type": "code",
   "execution_count": 117,
   "outputs": [
    {
     "data": {
      "text/plain": "'same'"
     },
     "execution_count": 117,
     "metadata": {},
     "output_type": "execute_result"
    }
   ],
   "source": [
    "MakeDecision(p)"
   ],
   "metadata": {
    "collapsed": false
   }
  },
  {
   "cell_type": "code",
   "execution_count": 118,
   "outputs": [],
   "source": [
    "import matplotlib.pyplot as plt"
   ],
   "metadata": {
    "collapsed": false
   }
  },
  {
   "cell_type": "code",
   "execution_count": 119,
   "outputs": [
    {
     "data": {
      "text/plain": "<Figure size 640x480 with 1 Axes>",
      "image/png": "[encoded data removed]"
     },
     "metadata": {},
     "output_type": "display_data"
    }
   ],
   "source": [
    "for s in [e, o]:\n",
    "    plt.scatter(x=range(s.shape[0]), y=s.tolist(), s=2)"
   ],
   "metadata": {
    "collapsed": false
   }
  },
  {
   "cell_type": "markdown",
   "source": [
    "#### Observation:\n",
    "* Chi test says data is similar\n",
    "* Data looks the same\n",
    "* But index positions of categories are different\n",
    "\n",
    "What happens if index positions are same?"
   ],
   "metadata": {
    "collapsed": false
   }
  },
  {
   "cell_type": "code",
   "execution_count": 124,
   "outputs": [
    {
     "data": {
      "text/plain": "True"
     },
     "execution_count": 124,
     "metadata": {},
     "output_type": "execute_result"
    }
   ],
   "source": [
    "# sort by indices\n",
    "e = e.sort_index()\n",
    "o = o.sort_index()\n",
    "(e.index == o.index).all()"
   ],
   "metadata": {
    "collapsed": false
   }
  },
  {
   "cell_type": "code",
   "execution_count": 125,
   "outputs": [
    {
     "data": {
      "text/plain": "1.2168179646286044e-116"
     },
     "execution_count": 125,
     "metadata": {},
     "output_type": "execute_result"
    }
   ],
   "source": [
    "p = ComputeChiSquareGOF(e, o)\n",
    "p"
   ],
   "metadata": {
    "collapsed": false
   }
  },
  {
   "cell_type": "code",
   "execution_count": 126,
   "outputs": [
    {
     "data": {
      "text/plain": "'different'"
     },
     "execution_count": 126,
     "metadata": {},
     "output_type": "execute_result"
    }
   ],
   "source": [
    "MakeDecision(p)"
   ],
   "metadata": {
    "collapsed": false
   }
  },
  {
   "cell_type": "code",
   "execution_count": 127,
   "outputs": [
    {
     "data": {
      "text/plain": "<Figure size 640x480 with 1 Axes>",
      "image/png": "[encoded data removed]"
     },
     "metadata": {},
     "output_type": "display_data"
    }
   ],
   "source": [
    "for s in [e, o]:\n",
    "    plt.scatter(x=range(s.shape[0]), y=s.tolist(), s=2)"
   ],
   "metadata": {
    "collapsed": false
   }
  },
  {
   "cell_type": "code",
   "execution_count": 128,
   "outputs": [
    {
     "data": {
      "text/plain": "<matplotlib.collections.PathCollection at 0x7f7a4c3c8bb0>"
     },
     "execution_count": 128,
     "metadata": {},
     "output_type": "execute_result"
    },
    {
     "data": {
      "text/plain": "<Figure size 640x480 with 1 Axes>",
      "image/png": "[encoded data removed]"
     },
     "metadata": {},
     "output_type": "display_data"
    }
   ],
   "source": [
    "diff = e - o\n",
    "plt.scatter(x=range(diff.shape[0]), y=diff.tolist(), s=2)"
   ],
   "metadata": {
    "collapsed": false
   }
  },
  {
   "cell_type": "markdown",
   "source": [
    "#### Kullback-Leibler divergence\n",
    "The Kullback-Leibler (KL) divergence is a measure of the difference between two probability distributions. It calculates the amount of information lost when approximating one distribution with another. A lower KL divergence value between two distributions indicates that they are more similar, while a higher value indicates that they are more dissimilar."
   ],
   "metadata": {
    "collapsed": false
   }
  },
  {
   "cell_type": "code",
   "execution_count": 24,
   "outputs": [],
   "source": [
    "from scipy.stats import entropy\n",
    "# from the documentation:\n",
    "# If qk is not None, then compute the relative entropy D = sum(pk * log(pk / qk)). This quantity is also known as the Kullback-Leibler divergence.\n",
    "# This routine will normalize pk and qk if they don’t sum to 1."
   ],
   "metadata": {
    "collapsed": false
   }
  },
  {
   "cell_type": "code",
   "execution_count": 132,
   "outputs": [],
   "source": [
    "e = df.FIRSTNAME.value_counts().sort_values(ascending=False)\n",
    "o = df_res.FIRSTNAME.value_counts().sort_values(ascending=False)"
   ],
   "metadata": {
    "collapsed": false
   }
  },
  {
   "cell_type": "code",
   "execution_count": 133,
   "outputs": [
    {
     "data": {
      "text/plain": "True"
     },
     "execution_count": 133,
     "metadata": {},
     "output_type": "execute_result"
    }
   ],
   "source": [
    "# filter the categories that are not in both datasets\n",
    "e = e[e.index.isin(o.index)]\n",
    "e.shape == o.shape"
   ],
   "metadata": {
    "collapsed": false
   }
  },
  {
   "cell_type": "code",
   "execution_count": 134,
   "outputs": [
    {
     "data": {
      "text/plain": "0.04056156190637871"
     },
     "execution_count": 134,
     "metadata": {},
     "output_type": "execute_result"
    }
   ],
   "source": [
    "D = entropy(e, o, 2)\n",
    "D"
   ],
   "metadata": {
    "collapsed": false
   }
  },
  {
   "cell_type": "code",
   "execution_count": 135,
   "outputs": [],
   "source": [
    "# scale equally\n",
    "e = e / float(sum(e)) * sum(o)"
   ],
   "metadata": {
    "collapsed": false
   }
  },
  {
   "cell_type": "code",
   "execution_count": 136,
   "outputs": [
    {
     "data": {
      "text/plain": "0.04056156190637897"
     },
     "execution_count": 136,
     "metadata": {},
     "output_type": "execute_result"
    }
   ],
   "source": [
    "D = entropy(e, o, 2)\n",
    "D"
   ],
   "metadata": {
    "collapsed": false
   }
  },
  {
   "cell_type": "markdown",
   "source": [
    "0.04 is small, suggests that the distributions are similar\n",
    "But here, again, order of the categories is not the same.\n",
    "It's important to note that KL divergence is sensitive to the order of the categories, and when the categories are not in the same order, the result will be different."
   ],
   "metadata": {
    "collapsed": false
   }
  },
  {
   "cell_type": "code",
   "execution_count": 137,
   "outputs": [
    {
     "data": {
      "text/plain": "True"
     },
     "execution_count": 137,
     "metadata": {},
     "output_type": "execute_result"
    }
   ],
   "source": [
    "# sort by indices\n",
    "e = e.sort_index()\n",
    "o = o.sort_index()\n",
    "(e.index == o.index).all()"
   ],
   "metadata": {
    "collapsed": false
   }
  },
  {
   "cell_type": "code",
   "execution_count": 138,
   "outputs": [
    {
     "data": {
      "text/plain": "0.0741650248812191"
     },
     "execution_count": 138,
     "metadata": {},
     "output_type": "execute_result"
    }
   ],
   "source": [
    "D = entropy(e, o, 2)\n",
    "D"
   ],
   "metadata": {
    "collapsed": false
   }
  },
  {
   "cell_type": "markdown",
   "source": [
    "If the order of categories is important for your research question, then the result of 0.0741650248812191 indicates that the two frequency distributions are not as similar as before."
   ],
   "metadata": {
    "collapsed": false
   }
  },
  {
   "cell_type": "markdown",
   "source": [
    "#### Rank Correlation Coefficient\n",
    "A rank-correlation coefficient, such as the Spearman's rank correlation coefficient, can be used to measure the similarity between two frequency distributions. It measures the correlation between the rank order of the values in two datasets. A rank correlation coefficient of 1 indicates that there is a perfect positive correlation between the ranks of the two datasets, which means that the two frequency distributions are identical. A rank correlation coefficient of -1 indicates that there is a perfect negative correlation between the ranks, which means that the two frequency distributions are completely dissimilar.\n",
    "\n",
    "The Spearman's rank correlation coefficient is a non-parametric measure and it doesn't assume that the data is normally distributed, which is a good property when the distribution is not normal.\n",
    "\n",
    "It is a good alternative measure to compare frequency distribution, especially if the order of the categories is important. It is a more robust measure to outliers and it can handle ties in the data.\n",
    "\n",
    "It's important to note that the rank correlation coefficient only considers the rank order of the values in the two datasets and not the actual values themselves, which may not capture all the information about the similarity between the two frequency distributions."
   ],
   "metadata": {
    "collapsed": false
   }
  },
  {
   "cell_type": "code",
   "execution_count": 148,
   "outputs": [],
   "source": [
    "from scipy.stats import spearmanr"
   ],
   "metadata": {
    "collapsed": false
   }
  },
  {
   "cell_type": "code",
   "execution_count": 149,
   "outputs": [],
   "source": [
    "e = df.FIRSTNAME.value_counts().sort_values(ascending=False)\n",
    "o = df_res.FIRSTNAME.value_counts().sort_values(ascending=False)"
   ],
   "metadata": {
    "collapsed": false
   }
  },
  {
   "cell_type": "code",
   "execution_count": 150,
   "outputs": [
    {
     "data": {
      "text/plain": "True"
     },
     "execution_count": 150,
     "metadata": {},
     "output_type": "execute_result"
    }
   ],
   "source": [
    "# filter the categories that are not in both datasets\n",
    "e = e[e.index.isin(o.index)]\n",
    "e.shape == o.shape"
   ],
   "metadata": {
    "collapsed": false
   }
  },
  {
   "cell_type": "code",
   "execution_count": 155,
   "outputs": [
    {
     "data": {
      "text/plain": "SignificanceResult(statistic=0.9139760271834815, pvalue=0.0)"
     },
     "execution_count": 155,
     "metadata": {},
     "output_type": "execute_result"
    }
   ],
   "source": [
    "res = spearmanr(e, o)\n",
    "res"
   ],
   "metadata": {
    "collapsed": false
   }
  },
  {
   "cell_type": "markdown",
   "source": [
    "#### Interpretation:\n",
    "* pvalue = The p-value for a hypothesis test whose null hypothesis is that two sets of data are linearly uncorrelated. See alternative above for alternative hypotheses. pvalue has the same shape as statistic.\n",
    "* -> strong positive correlation\n",
    "* Again, the index positions are not the same"
   ],
   "metadata": {
    "collapsed": false
   }
  },
  {
   "cell_type": "code",
   "execution_count": 156,
   "outputs": [
    {
     "data": {
      "text/plain": "True"
     },
     "execution_count": 156,
     "metadata": {},
     "output_type": "execute_result"
    }
   ],
   "source": [
    "# sort by indices\n",
    "e = e.sort_index()\n",
    "o = o.sort_index()\n",
    "(e.index == o.index).all()"
   ],
   "metadata": {
    "collapsed": false
   }
  },
  {
   "cell_type": "code",
   "execution_count": 157,
   "outputs": [
    {
     "data": {
      "text/plain": "SignificanceResult(statistic=0.8316364766083224, pvalue=0.0)"
     },
     "execution_count": 157,
     "metadata": {},
     "output_type": "execute_result"
    }
   ],
   "source": [
    "res = spearmanr(e, o)\n",
    "res"
   ],
   "metadata": {
    "collapsed": false
   }
  },
  {
   "cell_type": "markdown",
   "source": [
    "Even with same index oder, there is still a strong positive correlation"
   ],
   "metadata": {
    "collapsed": false
   }
  }
 ],
 "metadata": {
  "kernelspec": {
   "display_name": "Python 3",
   "language": "python",
   "name": "python3"
  },
  "language_info": {
   "codemirror_mode": {
    "name": "ipython",
    "version": 2
   },
   "file_extension": ".py",
   "mimetype": "text/x-python",
   "name": "python",
   "nbconvert_exporter": "python",
   "pygments_lexer": "ipython2",
   "version": "2.7.6"
  }
 },
 "nbformat": 4,
 "nbformat_minor": 0
}
